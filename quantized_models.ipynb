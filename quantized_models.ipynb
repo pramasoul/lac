{
 "cells": [
  {
   "cell_type": "markdown",
   "id": "1005f497-a06d-44b6-90d2-8f467038ef86",
   "metadata": {},
   "source": [
    "# Quantize the Model\n",
    "An experiment in quantizing a model in-place, leaving it in floating point, with the goals:\n",
    "* Make logits consistent across environments (versions of cuda, cpu, etc)\n",
    "* Preserve good compression on text\n",
    "* Allow application to new models"
   ]
  },
  {
   "cell_type": "code",
   "execution_count": 1,
   "id": "7c9dc0ad-3fc7-4217-96c8-e6d82e67b539",
   "metadata": {
    "execution": {
     "iopub.execute_input": "2024-01-30T00:17:24.815188Z",
     "iopub.status.busy": "2024-01-30T00:17:24.814344Z",
     "iopub.status.idle": "2024-01-30T00:17:26.956268Z",
     "shell.execute_reply": "2024-01-30T00:17:26.955374Z",
     "shell.execute_reply.started": "2024-01-30T00:17:24.815091Z"
    }
   },
   "outputs": [],
   "source": [
    "from lac_llm import *"
   ]
  },
  {
   "cell_type": "code",
   "execution_count": 2,
   "id": "a407032a-b92f-4f26-b8e6-c4e7272b1154",
   "metadata": {
    "execution": {
     "iopub.execute_input": "2024-01-30T00:17:26.958396Z",
     "iopub.status.busy": "2024-01-30T00:17:26.958090Z",
     "iopub.status.idle": "2024-01-30T00:17:26.962108Z",
     "shell.execute_reply": "2024-01-30T00:17:26.961477Z",
     "shell.execute_reply.started": "2024-01-30T00:17:26.958372Z"
    }
   },
   "outputs": [],
   "source": [
    "cuda_device = 'cuda:2'"
   ]
  },
  {
   "cell_type": "code",
   "execution_count": 3,
   "id": "e8397f9a-55ea-4931-9ee7-ed89932cc3cb",
   "metadata": {
    "execution": {
     "iopub.execute_input": "2024-01-30T00:17:26.963178Z",
     "iopub.status.busy": "2024-01-30T00:17:26.962961Z",
     "iopub.status.idle": "2024-01-30T00:17:26.981843Z",
     "shell.execute_reply": "2024-01-30T00:17:26.980692Z",
     "shell.execute_reply.started": "2024-01-30T00:17:26.963157Z"
    }
   },
   "outputs": [],
   "source": [
    "make_torch_deterministic()"
   ]
  },
  {
   "cell_type": "markdown",
   "id": "064d71cc-c60f-4e15-ac9f-92e6f03d187b",
   "metadata": {},
   "source": [
    "def about(in_x):\n",
    "    x = in_x.to(torch.float64)\n",
    "    print(f\"{x.shape}, {in_x.dtype}, ({x.max()}, {x.mean()}, {x.min()}), {(x*x).mean(dtype=torch.float32):.3e}\")\n",
    "    #print(f\"{(x*x).sum(dtype=torch.float32):.3e}, {x.norm():.3e}, {torch.linalg.vector_norm(x):.3e}, {(x.to(dtype=torch.float64)*x.to(dtype=torch.float64)).sum(dtype=torch.float64):.3e}\")"
   ]
  },
  {
   "cell_type": "markdown",
   "id": "fef6df7b-e499-48d6-99f6-fa8c0fed6ab6",
   "metadata": {},
   "source": [
    "#### Examples"
   ]
  },
  {
   "cell_type": "code",
   "execution_count": 4,
   "id": "191d3ed5-55fa-4085-bf0c-0b18e7f4fc98",
   "metadata": {
    "execution": {
     "iopub.execute_input": "2024-01-30T00:17:26.983746Z",
     "iopub.status.busy": "2024-01-30T00:17:26.983304Z",
     "iopub.status.idle": "2024-01-30T00:17:27.014514Z",
     "shell.execute_reply": "2024-01-30T00:17:27.013421Z",
     "shell.execute_reply.started": "2024-01-30T00:17:26.983703Z"
    }
   },
   "outputs": [
    {
     "name": "stdout",
     "output_type": "stream",
     "text": [
      "torch.Size([11]), torch.float32, (2.0, 0.0, -2.0), 1.600e+00, cpu\n"
     ]
    }
   ],
   "source": [
    "about((torch.arange(11)-5.0)/2.5)"
   ]
  },
  {
   "cell_type": "code",
   "execution_count": 5,
   "id": "3e77d751-3854-4996-8a63-0bd31126366a",
   "metadata": {
    "execution": {
     "iopub.execute_input": "2024-01-30T00:17:27.018826Z",
     "iopub.status.busy": "2024-01-30T00:17:27.018249Z",
     "iopub.status.idle": "2024-01-30T00:17:27.022480Z",
     "shell.execute_reply": "2024-01-30T00:17:27.021626Z",
     "shell.execute_reply.started": "2024-01-30T00:17:27.018777Z"
    }
   },
   "outputs": [],
   "source": [
    "#![binary32](https://upload.wikimedia.org/wikipedia/commons/thumb/d/d2/Float_example.svg/1180px-Float_example.svg.png)"
   ]
  },
  {
   "cell_type": "markdown",
   "id": "9d7c883b-a511-44bc-ab2a-1c4fffed9a33",
   "metadata": {},
   "source": [
    "https://en.wikipedia.org/wiki/Single-precision_floating-point_format\n",
    "\n",
    "![binary32](https://upload.wikimedia.org/wikipedia/commons/thumb/d/d2/Float_example.svg/590px-Float_example.svg.png)"
   ]
  },
  {
   "cell_type": "markdown",
   "id": "77a35745-2035-4db4-9653-8555516ee5de",
   "metadata": {},
   "source": [
    "#### Examples"
   ]
  },
  {
   "cell_type": "code",
   "execution_count": 6,
   "id": "e1d32171-52d9-452f-bb75-51b5b36302bb",
   "metadata": {
    "execution": {
     "iopub.execute_input": "2024-01-30T00:17:27.023542Z",
     "iopub.status.busy": "2024-01-30T00:17:27.023299Z",
     "iopub.status.idle": "2024-01-30T00:17:27.037224Z",
     "shell.execute_reply": "2024-01-30T00:17:27.036634Z",
     "shell.execute_reply.started": "2024-01-30T00:17:27.023521Z"
    }
   },
   "outputs": [
    {
     "data": {
      "text/plain": [
       "'0|12345678|abcdefghijklmnopqrstuvw'"
      ]
     },
     "execution_count": 6,
     "metadata": {},
     "output_type": "execute_result"
    }
   ],
   "source": [
    "s = '012345678abcdefghijklmnopqrstuvw'\n",
    "f32_delimit(s)"
   ]
  },
  {
   "cell_type": "code",
   "execution_count": 7,
   "id": "686f8772-6565-41b3-9ee6-1d0836864828",
   "metadata": {
    "execution": {
     "iopub.execute_input": "2024-01-30T00:17:27.038649Z",
     "iopub.status.busy": "2024-01-30T00:17:27.038325Z",
     "iopub.status.idle": "2024-01-30T00:17:27.049910Z",
     "shell.execute_reply": "2024-01-30T00:17:27.049082Z",
     "shell.execute_reply.started": "2024-01-30T00:17:27.038621Z"
    }
   },
   "outputs": [
    {
     "data": {
      "text/plain": [
       "['1|10000000|00000000000000000000000',\n",
       " '1|01111111|10011001100110011001101',\n",
       " '1|01111111|00110011001100110011010',\n",
       " '1|01111110|10011001100110011001101',\n",
       " '1|01111101|10011001100110011001101',\n",
       " '0|00000000|00000000000000000000000',\n",
       " '0|01111101|10011001100110011001101',\n",
       " '0|01111110|10011001100110011001101',\n",
       " '0|01111111|00110011001100110011010',\n",
       " '0|01111111|10011001100110011001101',\n",
       " '0|10000000|00000000000000000000000']"
      ]
     },
     "execution_count": 7,
     "metadata": {},
     "output_type": "execute_result"
    }
   ],
   "source": [
    "binstack((torch.arange(11)-5.0)/2.5)"
   ]
  },
  {
   "cell_type": "code",
   "execution_count": 8,
   "id": "a4dd927b-170e-45c8-b822-212a06cbacaf",
   "metadata": {
    "execution": {
     "iopub.execute_input": "2024-01-30T00:17:27.051542Z",
     "iopub.status.busy": "2024-01-30T00:17:27.051092Z",
     "iopub.status.idle": "2024-01-30T00:17:27.058327Z",
     "shell.execute_reply": "2024-01-30T00:17:27.057794Z",
     "shell.execute_reply.started": "2024-01-30T00:17:27.051508Z"
    }
   },
   "outputs": [
    {
     "data": {
      "text/plain": [
       "['1111111111111111111111111111111111111111111111111111111111111111']"
      ]
     },
     "execution_count": 8,
     "metadata": {},
     "output_type": "execute_result"
    }
   ],
   "source": [
    "binstack(torch.tensor([-1]))"
   ]
  },
  {
   "cell_type": "code",
   "execution_count": 9,
   "id": "4cc79eda-2473-43ea-a878-d2e0f8714d7a",
   "metadata": {
    "execution": {
     "iopub.execute_input": "2024-01-30T00:17:27.059656Z",
     "iopub.status.busy": "2024-01-30T00:17:27.059401Z",
     "iopub.status.idle": "2024-01-30T00:17:27.069070Z",
     "shell.execute_reply": "2024-01-30T00:17:27.068278Z",
     "shell.execute_reply.started": "2024-01-30T00:17:27.059635Z"
    }
   },
   "outputs": [
    {
     "data": {
      "text/plain": [
       "['0000000000000000000000000000000000000000000000000000000000000000',\n",
       " '0011111111110000000000000000000000000000000000000000000000000000',\n",
       " '0100000000000000000000000000000000000000000000000000000000000000',\n",
       " '0100000000001000000000000000000000000000000000000000000000000000',\n",
       " '0100000000010000000000000000000000000000000000000000000000000000',\n",
       " '0100000000010100000000000000000000000000000000000000000000000000',\n",
       " '0100000000011000000000000000000000000000000000000000000000000000',\n",
       " '0100000000011100000000000000000000000000000000000000000000000000',\n",
       " '0100000000100000000000000000000000000000000000000000000000000000']"
      ]
     },
     "execution_count": 9,
     "metadata": {},
     "output_type": "execute_result"
    }
   ],
   "source": [
    "binstack(torch.arange(9, dtype=torch.float64).reshape(3,3))"
   ]
  },
  {
   "cell_type": "code",
   "execution_count": 10,
   "id": "45630045-d4b8-442b-9023-b2f4d49f78b5",
   "metadata": {
    "execution": {
     "iopub.execute_input": "2024-01-30T00:17:27.070561Z",
     "iopub.status.busy": "2024-01-30T00:17:27.070174Z",
     "iopub.status.idle": "2024-01-30T00:17:27.079481Z",
     "shell.execute_reply": "2024-01-30T00:17:27.078643Z",
     "shell.execute_reply.started": "2024-01-30T00:17:27.070532Z"
    }
   },
   "outputs": [
    {
     "data": {
      "text/plain": [
       "'0|01111110|00000000000000000000000'"
      ]
     },
     "execution_count": 10,
     "metadata": {},
     "output_type": "execute_result"
    }
   ],
   "source": [
    "float_to_binary(1/2)"
   ]
  },
  {
   "cell_type": "code",
   "execution_count": 11,
   "id": "05144fc7-9a8e-4f16-a645-2eb0208c65a1",
   "metadata": {
    "execution": {
     "iopub.execute_input": "2024-01-30T00:17:27.080967Z",
     "iopub.status.busy": "2024-01-30T00:17:27.080664Z",
     "iopub.status.idle": "2024-01-30T00:17:27.092889Z",
     "shell.execute_reply": "2024-01-30T00:17:27.092070Z",
     "shell.execute_reply.started": "2024-01-30T00:17:27.080937Z"
    }
   },
   "outputs": [
    {
     "name": "stdout",
     "output_type": "stream",
     "text": [
      "0000000000000000000000000000000000000000000000000000000000000000 0\n",
      "0000000000000000000000000000000000000000000000000000000000000001 1\n",
      "0|01111110|00000000000000000000000 1/2\n",
      "0|01111110|01010101010101010101011 2/3\n",
      "0|01111110|01010111000010100011111 2/3 round(decimals=2)\n",
      "0|01111110|01010110000000000000000 2/3 binary rounded 8 places\n",
      "0|01111110|01010101010101100000000 2/3 binary rounded 16 places\n",
      "0|01111110|01010101010101010101100 2/3 binary rounded 23 places\n",
      "0|01111110|01010101010101010101011 2/3 binary rounded 24 places\n",
      "0|01111110|01010101010101010101011 2/3 binary rounded 25 places\n"
     ]
    }
   ],
   "source": [
    "print(float_to_binary(0), \"0\")\n",
    "print(float_to_binary(1), \"1\")\n",
    "print(float_to_binary(1/2), \"1/2\")\n",
    "print(float_to_binary(2/3), \"2/3\")\n",
    "print(float_to_binary(torch.tensor([2/3]).round(decimals=2).item()), \"2/3 round(decimals=2)\")\n",
    "print(float_to_binary(((torch.tensor([2/3])*(1<<8)).round() * 1.0/(1<<8)).item()), \"2/3 binary rounded 8 places\")\n",
    "print(float_to_binary(((torch.tensor([2/3])*(1<<16)).round() * 1.0/(1<<16)).item()), \"2/3 binary rounded 16 places\")\n",
    "print(float_to_binary(((torch.tensor([2/3])*(1<<23)).round() * 1.0/(1<<23)).item()), \"2/3 binary rounded 23 places\")\n",
    "print(float_to_binary(((torch.tensor([2/3])*(1<<24)).round() * 1.0/(1<<24)).item()), \"2/3 binary rounded 24 places\")\n",
    "print(float_to_binary(((torch.tensor([2/3])*(1<<25)).round() * 1.0/(1<<25)).item()), \"2/3 binary rounded 25 places\")"
   ]
  },
  {
   "cell_type": "code",
   "execution_count": 12,
   "id": "a0597d71-024b-426b-89b0-3f280e3b042c",
   "metadata": {
    "execution": {
     "iopub.execute_input": "2024-01-30T00:17:27.094192Z",
     "iopub.status.busy": "2024-01-30T00:17:27.093904Z",
     "iopub.status.idle": "2024-01-30T00:17:27.106696Z",
     "shell.execute_reply": "2024-01-30T00:17:27.105841Z",
     "shell.execute_reply.started": "2024-01-30T00:17:27.094165Z"
    }
   },
   "outputs": [
    {
     "data": {
      "text/plain": [
       "'0|01111100|01000000000000000000000'"
      ]
     },
     "execution_count": 12,
     "metadata": {},
     "output_type": "execute_result"
    }
   ],
   "source": [
    "float_to_binary(0.15625)"
   ]
  },
  {
   "cell_type": "code",
   "execution_count": 13,
   "id": "69270cb0-a044-4fa0-a6fc-1682527b2f29",
   "metadata": {
    "execution": {
     "iopub.execute_input": "2024-01-30T00:17:27.108296Z",
     "iopub.status.busy": "2024-01-30T00:17:27.107867Z",
     "iopub.status.idle": "2024-01-30T00:17:27.119591Z",
     "shell.execute_reply": "2024-01-30T00:17:27.118753Z",
     "shell.execute_reply.started": "2024-01-30T00:17:27.108262Z"
    }
   },
   "outputs": [
    {
     "data": {
      "text/plain": [
       "'0|00000000|00000000000000000000001'"
      ]
     },
     "execution_count": 13,
     "metadata": {},
     "output_type": "execute_result"
    }
   ],
   "source": [
    "float_to_binary(1.0/(1<<149))"
   ]
  },
  {
   "cell_type": "code",
   "execution_count": 14,
   "id": "c4957304-5913-4e7d-83fd-25406de6e044",
   "metadata": {
    "execution": {
     "iopub.execute_input": "2024-01-30T00:17:27.124436Z",
     "iopub.status.busy": "2024-01-30T00:17:27.124068Z",
     "iopub.status.idle": "2024-01-30T00:17:27.129600Z",
     "shell.execute_reply": "2024-01-30T00:17:27.128998Z",
     "shell.execute_reply.started": "2024-01-30T00:17:27.124406Z"
    }
   },
   "outputs": [
    {
     "data": {
      "text/plain": [
       "'0|00000000|11111111111111111111111'"
      ]
     },
     "execution_count": 14,
     "metadata": {},
     "output_type": "execute_result"
    }
   ],
   "source": [
    "#2−126 × (1 − 2−23)\n",
    "float_to_binary(1.0/(1<<126) * (1.0 - 1.0/(1<<23)))"
   ]
  },
  {
   "cell_type": "code",
   "execution_count": 15,
   "id": "8d018bc5-9836-4c28-89e8-01793eef07d5",
   "metadata": {
    "execution": {
     "iopub.execute_input": "2024-01-30T00:17:27.131046Z",
     "iopub.status.busy": "2024-01-30T00:17:27.130612Z",
     "iopub.status.idle": "2024-01-30T00:17:27.140255Z",
     "shell.execute_reply": "2024-01-30T00:17:27.139489Z",
     "shell.execute_reply.started": "2024-01-30T00:17:27.131023Z"
    }
   },
   "outputs": [
    {
     "data": {
      "text/plain": [
       "'0|00000001|00000000000000000000000'"
      ]
     },
     "execution_count": 15,
     "metadata": {},
     "output_type": "execute_result"
    }
   ],
   "source": [
    "float_to_binary(1.0/(1<<126))"
   ]
  },
  {
   "cell_type": "code",
   "execution_count": 16,
   "id": "e3870430-7a16-4d79-8b52-51b9c7cbfedf",
   "metadata": {
    "execution": {
     "iopub.execute_input": "2024-01-30T00:17:27.141580Z",
     "iopub.status.busy": "2024-01-30T00:17:27.141276Z",
     "iopub.status.idle": "2024-01-30T00:17:27.150746Z",
     "shell.execute_reply": "2024-01-30T00:17:27.149928Z",
     "shell.execute_reply.started": "2024-01-30T00:17:27.141550Z"
    }
   },
   "outputs": [
    {
     "data": {
      "text/plain": [
       "'0|01111110|11111111111111111111111'"
      ]
     },
     "execution_count": 16,
     "metadata": {},
     "output_type": "execute_result"
    }
   ],
   "source": [
    "float_to_binary(1.0 - (1.0/(1<<24)))"
   ]
  },
  {
   "cell_type": "code",
   "execution_count": 17,
   "id": "24ca0d89-9043-427f-bb2b-03c4c897e7fb",
   "metadata": {
    "execution": {
     "iopub.execute_input": "2024-01-30T00:17:27.152167Z",
     "iopub.status.busy": "2024-01-30T00:17:27.151796Z",
     "iopub.status.idle": "2024-01-30T00:17:27.161695Z",
     "shell.execute_reply": "2024-01-30T00:17:27.160915Z",
     "shell.execute_reply.started": "2024-01-30T00:17:27.152139Z"
    }
   },
   "outputs": [
    {
     "data": {
      "text/plain": [
       "'0|01111111|00000000000000000000000'"
      ]
     },
     "execution_count": 17,
     "metadata": {},
     "output_type": "execute_result"
    }
   ],
   "source": [
    "float_to_binary(1.0)"
   ]
  },
  {
   "cell_type": "code",
   "execution_count": 18,
   "id": "ffdefbb8-f408-4777-a6e1-0bdae958277f",
   "metadata": {
    "execution": {
     "iopub.execute_input": "2024-01-30T00:17:27.163156Z",
     "iopub.status.busy": "2024-01-30T00:17:27.162758Z",
     "iopub.status.idle": "2024-01-30T00:17:27.172440Z",
     "shell.execute_reply": "2024-01-30T00:17:27.171571Z",
     "shell.execute_reply.started": "2024-01-30T00:17:27.163125Z"
    }
   },
   "outputs": [
    {
     "data": {
      "text/plain": [
       "'0|11111110|11111111111111111111111'"
      ]
     },
     "execution_count": 18,
     "metadata": {},
     "output_type": "execute_result"
    }
   ],
   "source": [
    "#2127 × (2 − 2−23)\n",
    "float_to_binary((1<<127) * (2.0 - 1.0/(1<<23)))"
   ]
  },
  {
   "cell_type": "code",
   "execution_count": 19,
   "id": "6e0d1d41-6c96-4eed-b2e6-ca26d6a72740",
   "metadata": {
    "execution": {
     "iopub.execute_input": "2024-01-30T00:17:27.173709Z",
     "iopub.status.busy": "2024-01-30T00:17:27.173433Z",
     "iopub.status.idle": "2024-01-30T00:17:27.183780Z",
     "shell.execute_reply": "2024-01-30T00:17:27.182917Z",
     "shell.execute_reply.started": "2024-01-30T00:17:27.173682Z"
    }
   },
   "outputs": [
    {
     "data": {
      "text/plain": [
       "['1|10000000|00000000000000000000000',\n",
       " '1|01111111|10011001100110011001101',\n",
       " '1|01111111|00110011001100110011010',\n",
       " '1|01111110|10011001100110011001101',\n",
       " '1|01111101|10011001100110011001101',\n",
       " '0|00000000|00000000000000000000000',\n",
       " '0|01111101|10011001100110011001101',\n",
       " '0|01111110|10011001100110011001101',\n",
       " '0|01111111|00110011001100110011010',\n",
       " '0|01111111|10011001100110011001101',\n",
       " '0|10000000|00000000000000000000000']"
      ]
     },
     "execution_count": 19,
     "metadata": {},
     "output_type": "execute_result"
    }
   ],
   "source": [
    "t = (torch.arange(11, dtype=torch.float32)-5.0)/2.5\n",
    "binstack(t)"
   ]
  },
  {
   "cell_type": "code",
   "execution_count": 20,
   "id": "5d035460-317c-4928-9a02-f9f7ae79d9e0",
   "metadata": {
    "execution": {
     "iopub.execute_input": "2024-01-30T00:17:27.185176Z",
     "iopub.status.busy": "2024-01-30T00:17:27.184789Z",
     "iopub.status.idle": "2024-01-30T00:17:27.193029Z",
     "shell.execute_reply": "2024-01-30T00:17:27.192264Z",
     "shell.execute_reply.started": "2024-01-30T00:17:27.185145Z"
    }
   },
   "outputs": [
    {
     "data": {
      "text/plain": [
       "(['0000000000000000000000000000000000000000000000000000000000000111'],\n",
       " tensor([0, 1, 2, 3, 4]))"
      ]
     },
     "execution_count": 20,
     "metadata": {},
     "output_type": "execute_result"
    }
   ],
   "source": [
    "t = torch.arange(5)\n",
    "binstack(bitwise_or_reduce(t)), t"
   ]
  },
  {
   "cell_type": "code",
   "execution_count": 21,
   "id": "38cd43b3-ab25-42dc-a3c9-6f1ceec309d2",
   "metadata": {
    "execution": {
     "iopub.execute_input": "2024-01-30T00:17:27.194238Z",
     "iopub.status.busy": "2024-01-30T00:17:27.193940Z",
     "iopub.status.idle": "2024-01-30T00:17:27.203282Z",
     "shell.execute_reply": "2024-01-30T00:17:27.202334Z",
     "shell.execute_reply.started": "2024-01-30T00:17:27.194216Z"
    }
   },
   "outputs": [
    {
     "data": {
      "text/plain": [
       "tensor([2047], dtype=torch.int32)"
      ]
     },
     "execution_count": 21,
     "metadata": {},
     "output_type": "execute_result"
    }
   ],
   "source": [
    "bitwise_or_reduce(torch.arange(1025, dtype=torch.int32))"
   ]
  },
  {
   "cell_type": "code",
   "execution_count": 22,
   "id": "f1c43d1b-14a5-4dc5-ade1-47cf684cf86c",
   "metadata": {
    "execution": {
     "iopub.execute_input": "2024-01-30T00:17:27.204709Z",
     "iopub.status.busy": "2024-01-30T00:17:27.204316Z",
     "iopub.status.idle": "2024-01-30T00:17:27.212137Z",
     "shell.execute_reply": "2024-01-30T00:17:27.211445Z",
     "shell.execute_reply.started": "2024-01-30T00:17:27.204679Z"
    }
   },
   "outputs": [
    {
     "data": {
      "text/plain": [
       "tensor([0, 1, 2, 3, 4, 5, 6, 7, 8])"
      ]
     },
     "execution_count": 22,
     "metadata": {},
     "output_type": "execute_result"
    }
   ],
   "source": [
    "torch.arange(9).reshape(3,3).flatten()"
   ]
  },
  {
   "cell_type": "code",
   "execution_count": 23,
   "id": "5883b5ee-3615-45cf-83d4-ec6adb7915a7",
   "metadata": {
    "execution": {
     "iopub.execute_input": "2024-01-30T00:17:27.213302Z",
     "iopub.status.busy": "2024-01-30T00:17:27.213007Z",
     "iopub.status.idle": "2024-01-30T00:17:27.223283Z",
     "shell.execute_reply": "2024-01-30T00:17:27.222418Z",
     "shell.execute_reply.started": "2024-01-30T00:17:27.213281Z"
    }
   },
   "outputs": [
    {
     "data": {
      "text/plain": [
       "(tensor([-2236961], dtype=torch.int32), ['1|11111111|10111011101110111011111'])"
      ]
     },
     "execution_count": 23,
     "metadata": {},
     "output_type": "execute_result"
    }
   ],
   "source": [
    "t = (torch.arange(11, dtype=torch.float32)-5.0)/2.5\n",
    "or_all([t]), binor_all([t])#, binor_model(model)"
   ]
  },
  {
   "cell_type": "code",
   "execution_count": 24,
   "id": "10cd0a5b-791d-4631-ae0a-529071e564bc",
   "metadata": {
    "execution": {
     "iopub.execute_input": "2024-01-30T00:17:27.224746Z",
     "iopub.status.busy": "2024-01-30T00:17:27.224351Z",
     "iopub.status.idle": "2024-01-30T00:17:27.230046Z",
     "shell.execute_reply": "2024-01-30T00:17:27.229320Z",
     "shell.execute_reply.started": "2024-01-30T00:17:27.224715Z"
    }
   },
   "outputs": [],
   "source": [
    "t = torch.tensor([2/3])"
   ]
  },
  {
   "cell_type": "code",
   "execution_count": 25,
   "id": "a0e5bebe-c864-4ea4-9ca4-72224192904b",
   "metadata": {
    "execution": {
     "iopub.execute_input": "2024-01-30T00:17:27.231190Z",
     "iopub.status.busy": "2024-01-30T00:17:27.230907Z",
     "iopub.status.idle": "2024-01-30T00:17:27.244584Z",
     "shell.execute_reply": "2024-01-30T00:17:27.243589Z",
     "shell.execute_reply.started": "2024-01-30T00:17:27.231169Z"
    }
   },
   "outputs": [
    {
     "name": "stdout",
     "output_type": "stream",
     "text": [
      "0|01111110|01010101010101010101011\n",
      "0|01111110|01010101010101100000000\n",
      "0|01111110|01010101010101010101011\n"
     ]
    }
   ],
   "source": [
    "print(float_to_binary(t.item()))\n",
    "print(float_to_binary(round_to_bits(t, 16).item()))\n",
    "print(float_to_binary(t.item()))"
   ]
  },
  {
   "cell_type": "code",
   "execution_count": 26,
   "id": "dc12f56f-0f18-4e5b-8f6e-3a50107c9c69",
   "metadata": {
    "execution": {
     "iopub.execute_input": "2024-01-30T00:17:27.246199Z",
     "iopub.status.busy": "2024-01-30T00:17:27.245843Z",
     "iopub.status.idle": "2024-01-30T00:17:27.260314Z",
     "shell.execute_reply": "2024-01-30T00:17:27.259270Z",
     "shell.execute_reply.started": "2024-01-30T00:17:27.246164Z"
    }
   },
   "outputs": [
    {
     "name": "stdout",
     "output_type": "stream",
     "text": [
      "0|01111110|01010101010101010101011\n",
      "0|01111110|01010101010101100000000\n",
      "0|01111110|01010101010101010101011\n",
      "0|01111110|01010101010101100000000\n",
      "0|01111110|01010101010101100000000\n"
     ]
    }
   ],
   "source": [
    "print(float_to_binary(t.item()))\n",
    "print(float_to_binary(round_to_bits(t, 16).item()))\n",
    "print(float_to_binary(t.item()))\n",
    "print(float_to_binary(round_to_bits_(t, 16).item()))\n",
    "print(float_to_binary(t.item()))"
   ]
  },
  {
   "cell_type": "code",
   "execution_count": 27,
   "id": "4837c2bc-5e70-4842-a3b4-e55687caed5f",
   "metadata": {
    "execution": {
     "iopub.execute_input": "2024-01-30T00:17:27.261712Z",
     "iopub.status.busy": "2024-01-30T00:17:27.261326Z",
     "iopub.status.idle": "2024-01-30T00:17:27.274844Z",
     "shell.execute_reply": "2024-01-30T00:17:27.273839Z",
     "shell.execute_reply.started": "2024-01-30T00:17:27.261685Z"
    }
   },
   "outputs": [
    {
     "name": "stdout",
     "output_type": "stream",
     "text": [
      "torch.Size([2, 3, 5]), torch.float32, (0.3517160713672638, -0.020990868488540097, -0.3402797281742096), 2.818e-02, cpu\n",
      "torch.Size([2, 3, 5]), torch.float32, (0.3515625, -0.020963541666666665, -0.33984375), 2.811e-02, cpu\n",
      "torch.Size([2, 3, 5]), torch.float32, (0.3517160713672638, -0.020990868488540097, -0.3402797281742096), 2.818e-02, cpu\n",
      "torch.Size([2, 3, 5]), torch.float32, (0.3515625, -0.020963541666666665, -0.33984375), 2.811e-02, cpu\n",
      "torch.Size([2, 3, 5]), torch.float32, (0.3515625, -0.020963541666666665, -0.33984375), 2.811e-02, cpu\n"
     ]
    }
   ],
   "source": [
    "t = torch.randn(2*3*5).reshape(2,3,5)/7.0\n",
    "about(t)\n",
    "about(round_to_bits(t, 8))\n",
    "about(t)\n",
    "about(round_to_bits_(t, 8))\n",
    "about(t)"
   ]
  },
  {
   "cell_type": "code",
   "execution_count": 28,
   "id": "bc00f32d-8b38-431f-bd9e-34d69cf99b36",
   "metadata": {
    "execution": {
     "iopub.execute_input": "2024-01-30T00:17:27.276559Z",
     "iopub.status.busy": "2024-01-30T00:17:27.276103Z",
     "iopub.status.idle": "2024-01-30T00:17:27.284523Z",
     "shell.execute_reply": "2024-01-30T00:17:27.283883Z",
     "shell.execute_reply.started": "2024-01-30T00:17:27.276523Z"
    }
   },
   "outputs": [
    {
     "data": {
      "text/plain": [
       "['0|00000000|00000000000000000000000',\n",
       " '0|01111111|00000000000000000000000',\n",
       " '0|10000000|00000000000000000000000',\n",
       " '0|10000000|10000000000000000000000',\n",
       " '0|10000001|00000000000000000000000']"
      ]
     },
     "execution_count": 28,
     "metadata": {},
     "output_type": "execute_result"
    }
   ],
   "source": [
    "binstack(torch.arange(5) * 1.0)"
   ]
  },
  {
   "cell_type": "code",
   "execution_count": 29,
   "id": "bf96d908-606b-4677-910b-20795c79b5f5",
   "metadata": {
    "execution": {
     "iopub.execute_input": "2024-01-30T00:17:27.285705Z",
     "iopub.status.busy": "2024-01-30T00:17:27.285367Z",
     "iopub.status.idle": "2024-01-30T00:17:27.293274Z",
     "shell.execute_reply": "2024-01-30T00:17:27.292515Z",
     "shell.execute_reply.started": "2024-01-30T00:17:27.285683Z"
    }
   },
   "outputs": [
    {
     "data": {
      "text/plain": [
       "['0|00000000|00000000000000000000000',\n",
       " '0|00000000|00000000000000000000001',\n",
       " '0|00000000|00000000000000000000010',\n",
       " '0|00000000|00000000000000000000011',\n",
       " '0|00000000|00000000000000000000100']"
      ]
     },
     "execution_count": 29,
     "metadata": {},
     "output_type": "execute_result"
    }
   ],
   "source": [
    "binstack(torch.arange(5, dtype=torch.int32))"
   ]
  },
  {
   "cell_type": "code",
   "execution_count": 30,
   "id": "f24a76e7-a46b-48b7-8b49-3077c91f438a",
   "metadata": {
    "execution": {
     "iopub.execute_input": "2024-01-30T00:17:27.294620Z",
     "iopub.status.busy": "2024-01-30T00:17:27.294243Z",
     "iopub.status.idle": "2024-01-30T00:17:27.304217Z",
     "shell.execute_reply": "2024-01-30T00:17:27.303323Z",
     "shell.execute_reply.started": "2024-01-30T00:17:27.294591Z"
    }
   },
   "outputs": [
    {
     "data": {
      "text/plain": [
       "(['0|01111100|01011011010011000001001',\n",
       "  '1|01111111|10111100101111000110010',\n",
       "  '1|01111101|11111100001010111111101',\n",
       "  '1|01111111|01010100001110101100000',\n",
       "  '0|01111111|00100011001001011000101'],\n",
       " ['0|01111100|01011011010011000001001',\n",
       "  '1|01111111|10111100101111000110010',\n",
       "  '1|01111101|11111100001010111111101',\n",
       "  '1|01111111|01010100001110101100000',\n",
       "  '0|01111111|00100011001001011000101'],\n",
       " ['1|01111111|11111111111111111111111'])"
      ]
     },
     "execution_count": 30,
     "metadata": {},
     "output_type": "execute_result"
    }
   ],
   "source": [
    "t = torch.randn(5)\n",
    "binstack(t), binor_each(t), binor_all(t)"
   ]
  },
  {
   "cell_type": "markdown",
   "id": "d103a44f-4af2-4b3c-9b9b-4f0b0e6e91c0",
   "metadata": {},
   "source": [
    "## Get model"
   ]
  },
  {
   "cell_type": "code",
   "execution_count": 31,
   "id": "7db52a9a-1a57-43db-bff9-5e557564525d",
   "metadata": {
    "execution": {
     "iopub.execute_input": "2024-01-30T00:17:27.305549Z",
     "iopub.status.busy": "2024-01-30T00:17:27.305252Z",
     "iopub.status.idle": "2024-01-30T00:17:30.842712Z",
     "shell.execute_reply": "2024-01-30T00:17:30.841297Z",
     "shell.execute_reply.started": "2024-01-30T00:17:27.305521Z"
    }
   },
   "outputs": [],
   "source": [
    "model_name = 'internal'\n",
    "#model_name = 'gpt2'\n",
    "reference_model = provide_model_on_cpu(model_name)"
   ]
  },
  {
   "cell_type": "code",
   "execution_count": 32,
   "id": "9f1888ce-186e-4788-b2d4-170f342ce725",
   "metadata": {
    "execution": {
     "iopub.execute_input": "2024-01-30T00:17:30.845020Z",
     "iopub.status.busy": "2024-01-30T00:17:30.844602Z",
     "iopub.status.idle": "2024-01-30T00:17:30.912761Z",
     "shell.execute_reply": "2024-01-30T00:17:30.911500Z",
     "shell.execute_reply.started": "2024-01-30T00:17:30.844985Z"
    }
   },
   "outputs": [
    {
     "data": {
      "text/plain": [
       "(GPT(\n",
       "   (transformer): ModuleDict(\n",
       "     (wte): Embedding(50304, 768)\n",
       "     (wpe): Embedding(1024, 768)\n",
       "     (drop): Dropout(p=0.0, inplace=False)\n",
       "     (h): ModuleList(\n",
       "       (0-11): 12 x Block(\n",
       "         (ln_1): LayerNorm()\n",
       "         (attn): CausalSelfAttention(\n",
       "           (c_attn): Linear(in_features=768, out_features=2304, bias=False)\n",
       "           (c_proj): Linear(in_features=768, out_features=768, bias=False)\n",
       "           (attn_dropout): Dropout(p=0.0, inplace=False)\n",
       "           (resid_dropout): Dropout(p=0.0, inplace=False)\n",
       "         )\n",
       "         (ln_2): LayerNorm()\n",
       "         (mlp): MLP(\n",
       "           (c_fc): Linear(in_features=768, out_features=3072, bias=False)\n",
       "           (gelu): GELU(approximate='none')\n",
       "           (c_proj): Linear(in_features=3072, out_features=768, bias=False)\n",
       "           (dropout): Dropout(p=0.0, inplace=False)\n",
       "         )\n",
       "       )\n",
       "     )\n",
       "     (ln_f): LayerNorm()\n",
       "   )\n",
       "   (lm_head): Linear(in_features=768, out_features=50304, bias=False)\n",
       " ),\n",
       " device(type='cpu'))"
      ]
     },
     "execution_count": 32,
     "metadata": {},
     "output_type": "execute_result"
    }
   ],
   "source": [
    "model = copy.deepcopy(reference_model)\n",
    "model, host_device_of(model)"
   ]
  },
  {
   "cell_type": "markdown",
   "id": "021bee62-e11b-4176-a16b-851f0f8d2c63",
   "metadata": {},
   "source": [
    "## Traversing the model"
   ]
  },
  {
   "cell_type": "markdown",
   "id": "438fcd1e-b167-4158-b102-f51bb2f1d177",
   "metadata": {
    "execution": {
     "iopub.execute_input": "2024-01-29T05:47:54.429689Z",
     "iopub.status.busy": "2024-01-29T05:47:54.429202Z",
     "iopub.status.idle": "2024-01-29T05:47:54.438745Z",
     "shell.execute_reply": "2024-01-29T05:47:54.437672Z",
     "shell.execute_reply.started": "2024-01-29T05:47:54.429633Z"
    },
    "scrolled": true
   },
   "source": [
    "```python\n",
    "def print_model_components(model):\n",
    "    for name, module in model.named_modules():\n",
    "        print([\" \",\"A\"][is_activation_class(module)], \\\n",
    "              # [\" \",\"N\"][isinstance(module, LayerNorm)], \\\n",
    "              [\" \",\"W\"][hasattr(module, \"weight\")], \\\n",
    "              hasattr(module, \"weight\") and module.weight is not None and \"%24s\" % (str(module.weight.shape)) or \" \"*24, \\\n",
    "              [\" \",\"B\"][hasattr(module, \"bias\")], \\\n",
    "              hasattr(module, \"bias\") and module.bias is not None and \"%22s\" % (str(module.bias.shape)) or \" \"*22, \\\n",
    "              name)\n",
    "```"
   ]
  },
  {
   "cell_type": "code",
   "execution_count": 33,
   "id": "26024d0d-0b3e-4c83-9248-624452fb32bc",
   "metadata": {
    "execution": {
     "iopub.execute_input": "2024-01-30T00:17:30.914585Z",
     "iopub.status.busy": "2024-01-30T00:17:30.914179Z",
     "iopub.status.idle": "2024-01-30T00:17:30.959785Z",
     "shell.execute_reply": "2024-01-30T00:17:30.958403Z",
     "shell.execute_reply.started": "2024-01-30T00:17:30.914551Z"
    },
    "scrolled": true
   },
   "outputs": [
    {
     "name": "stdout",
     "output_type": "stream",
     "text": [
      "                                                      \n",
      "                                                      transformer\n",
      "  W torch.Size([50304, 768])                          transformer.wte\n",
      "  W  torch.Size([1024, 768])                          transformer.wpe\n",
      "                                                      transformer.drop\n",
      "                                                      transformer.h\n",
      "                                                      transformer.h.0\n",
      "  W        torch.Size([768]) B                        transformer.h.0.ln_1\n",
      "                                                      transformer.h.0.attn\n",
      "  W  torch.Size([2304, 768]) B                        transformer.h.0.attn.c_attn\n",
      "  W   torch.Size([768, 768]) B                        transformer.h.0.attn.c_proj\n",
      "                                                      transformer.h.0.attn.attn_dropout\n",
      "                                                      transformer.h.0.attn.resid_dropout\n",
      "  W        torch.Size([768]) B                        transformer.h.0.ln_2\n",
      "                                                      transformer.h.0.mlp\n",
      "  W  torch.Size([3072, 768]) B                        transformer.h.0.mlp.c_fc\n",
      "A                                                     transformer.h.0.mlp.gelu\n",
      "  W  torch.Size([768, 3072]) B                        transformer.h.0.mlp.c_proj\n",
      "                                                      transformer.h.0.mlp.dropout\n",
      "                                                      transformer.h.1\n",
      "  W        torch.Size([768]) B                        transformer.h.1.ln_1\n",
      "                                                      transformer.h.1.attn\n",
      "  W  torch.Size([2304, 768]) B                        transformer.h.1.attn.c_attn\n",
      "  W   torch.Size([768, 768]) B                        transformer.h.1.attn.c_proj\n",
      "                                                      transformer.h.1.attn.attn_dropout\n",
      "                                                      transformer.h.1.attn.resid_dropout\n",
      "  W        torch.Size([768]) B                        transformer.h.1.ln_2\n",
      "                                                      transformer.h.1.mlp\n",
      "  W  torch.Size([3072, 768]) B                        transformer.h.1.mlp.c_fc\n",
      "A                                                     transformer.h.1.mlp.gelu\n",
      "  W  torch.Size([768, 3072]) B                        transformer.h.1.mlp.c_proj\n",
      "                                                      transformer.h.1.mlp.dropout\n",
      "                                                      transformer.h.2\n",
      "  W        torch.Size([768]) B                        transformer.h.2.ln_1\n",
      "                                                      transformer.h.2.attn\n",
      "  W  torch.Size([2304, 768]) B                        transformer.h.2.attn.c_attn\n",
      "  W   torch.Size([768, 768]) B                        transformer.h.2.attn.c_proj\n",
      "                                                      transformer.h.2.attn.attn_dropout\n",
      "                                                      transformer.h.2.attn.resid_dropout\n",
      "  W        torch.Size([768]) B                        transformer.h.2.ln_2\n",
      "                                                      transformer.h.2.mlp\n",
      "  W  torch.Size([3072, 768]) B                        transformer.h.2.mlp.c_fc\n",
      "A                                                     transformer.h.2.mlp.gelu\n",
      "  W  torch.Size([768, 3072]) B                        transformer.h.2.mlp.c_proj\n",
      "                                                      transformer.h.2.mlp.dropout\n",
      "                                                      transformer.h.3\n",
      "  W        torch.Size([768]) B                        transformer.h.3.ln_1\n",
      "                                                      transformer.h.3.attn\n",
      "  W  torch.Size([2304, 768]) B                        transformer.h.3.attn.c_attn\n",
      "  W   torch.Size([768, 768]) B                        transformer.h.3.attn.c_proj\n",
      "                                                      transformer.h.3.attn.attn_dropout\n",
      "                                                      transformer.h.3.attn.resid_dropout\n",
      "  W        torch.Size([768]) B                        transformer.h.3.ln_2\n",
      "                                                      transformer.h.3.mlp\n",
      "  W  torch.Size([3072, 768]) B                        transformer.h.3.mlp.c_fc\n",
      "A                                                     transformer.h.3.mlp.gelu\n",
      "  W  torch.Size([768, 3072]) B                        transformer.h.3.mlp.c_proj\n",
      "                                                      transformer.h.3.mlp.dropout\n",
      "                                                      transformer.h.4\n",
      "  W        torch.Size([768]) B                        transformer.h.4.ln_1\n",
      "                                                      transformer.h.4.attn\n",
      "  W  torch.Size([2304, 768]) B                        transformer.h.4.attn.c_attn\n",
      "  W   torch.Size([768, 768]) B                        transformer.h.4.attn.c_proj\n",
      "                                                      transformer.h.4.attn.attn_dropout\n",
      "                                                      transformer.h.4.attn.resid_dropout\n",
      "  W        torch.Size([768]) B                        transformer.h.4.ln_2\n",
      "                                                      transformer.h.4.mlp\n",
      "  W  torch.Size([3072, 768]) B                        transformer.h.4.mlp.c_fc\n",
      "A                                                     transformer.h.4.mlp.gelu\n",
      "  W  torch.Size([768, 3072]) B                        transformer.h.4.mlp.c_proj\n",
      "                                                      transformer.h.4.mlp.dropout\n",
      "                                                      transformer.h.5\n",
      "  W        torch.Size([768]) B                        transformer.h.5.ln_1\n",
      "                                                      transformer.h.5.attn\n",
      "  W  torch.Size([2304, 768]) B                        transformer.h.5.attn.c_attn\n",
      "  W   torch.Size([768, 768]) B                        transformer.h.5.attn.c_proj\n",
      "                                                      transformer.h.5.attn.attn_dropout\n",
      "                                                      transformer.h.5.attn.resid_dropout\n",
      "  W        torch.Size([768]) B                        transformer.h.5.ln_2\n",
      "                                                      transformer.h.5.mlp\n",
      "  W  torch.Size([3072, 768]) B                        transformer.h.5.mlp.c_fc\n",
      "A                                                     transformer.h.5.mlp.gelu\n",
      "  W  torch.Size([768, 3072]) B                        transformer.h.5.mlp.c_proj\n",
      "                                                      transformer.h.5.mlp.dropout\n",
      "                                                      transformer.h.6\n",
      "  W        torch.Size([768]) B                        transformer.h.6.ln_1\n",
      "                                                      transformer.h.6.attn\n",
      "  W  torch.Size([2304, 768]) B                        transformer.h.6.attn.c_attn\n",
      "  W   torch.Size([768, 768]) B                        transformer.h.6.attn.c_proj\n",
      "                                                      transformer.h.6.attn.attn_dropout\n",
      "                                                      transformer.h.6.attn.resid_dropout\n",
      "  W        torch.Size([768]) B                        transformer.h.6.ln_2\n",
      "                                                      transformer.h.6.mlp\n",
      "  W  torch.Size([3072, 768]) B                        transformer.h.6.mlp.c_fc\n",
      "A                                                     transformer.h.6.mlp.gelu\n",
      "  W  torch.Size([768, 3072]) B                        transformer.h.6.mlp.c_proj\n",
      "                                                      transformer.h.6.mlp.dropout\n",
      "                                                      transformer.h.7\n",
      "  W        torch.Size([768]) B                        transformer.h.7.ln_1\n",
      "                                                      transformer.h.7.attn\n",
      "  W  torch.Size([2304, 768]) B                        transformer.h.7.attn.c_attn\n",
      "  W   torch.Size([768, 768]) B                        transformer.h.7.attn.c_proj\n",
      "                                                      transformer.h.7.attn.attn_dropout\n",
      "                                                      transformer.h.7.attn.resid_dropout\n",
      "  W        torch.Size([768]) B                        transformer.h.7.ln_2\n",
      "                                                      transformer.h.7.mlp\n",
      "  W  torch.Size([3072, 768]) B                        transformer.h.7.mlp.c_fc\n",
      "A                                                     transformer.h.7.mlp.gelu\n",
      "  W  torch.Size([768, 3072]) B                        transformer.h.7.mlp.c_proj\n",
      "                                                      transformer.h.7.mlp.dropout\n",
      "                                                      transformer.h.8\n",
      "  W        torch.Size([768]) B                        transformer.h.8.ln_1\n",
      "                                                      transformer.h.8.attn\n",
      "  W  torch.Size([2304, 768]) B                        transformer.h.8.attn.c_attn\n",
      "  W   torch.Size([768, 768]) B                        transformer.h.8.attn.c_proj\n",
      "                                                      transformer.h.8.attn.attn_dropout\n",
      "                                                      transformer.h.8.attn.resid_dropout\n",
      "  W        torch.Size([768]) B                        transformer.h.8.ln_2\n",
      "                                                      transformer.h.8.mlp\n",
      "  W  torch.Size([3072, 768]) B                        transformer.h.8.mlp.c_fc\n",
      "A                                                     transformer.h.8.mlp.gelu\n",
      "  W  torch.Size([768, 3072]) B                        transformer.h.8.mlp.c_proj\n",
      "                                                      transformer.h.8.mlp.dropout\n",
      "                                                      transformer.h.9\n",
      "  W        torch.Size([768]) B                        transformer.h.9.ln_1\n",
      "                                                      transformer.h.9.attn\n",
      "  W  torch.Size([2304, 768]) B                        transformer.h.9.attn.c_attn\n",
      "  W   torch.Size([768, 768]) B                        transformer.h.9.attn.c_proj\n",
      "                                                      transformer.h.9.attn.attn_dropout\n",
      "                                                      transformer.h.9.attn.resid_dropout\n",
      "  W        torch.Size([768]) B                        transformer.h.9.ln_2\n",
      "                                                      transformer.h.9.mlp\n",
      "  W  torch.Size([3072, 768]) B                        transformer.h.9.mlp.c_fc\n",
      "A                                                     transformer.h.9.mlp.gelu\n",
      "  W  torch.Size([768, 3072]) B                        transformer.h.9.mlp.c_proj\n",
      "                                                      transformer.h.9.mlp.dropout\n",
      "                                                      transformer.h.10\n",
      "  W        torch.Size([768]) B                        transformer.h.10.ln_1\n",
      "                                                      transformer.h.10.attn\n",
      "  W  torch.Size([2304, 768]) B                        transformer.h.10.attn.c_attn\n",
      "  W   torch.Size([768, 768]) B                        transformer.h.10.attn.c_proj\n",
      "                                                      transformer.h.10.attn.attn_dropout\n",
      "                                                      transformer.h.10.attn.resid_dropout\n",
      "  W        torch.Size([768]) B                        transformer.h.10.ln_2\n",
      "                                                      transformer.h.10.mlp\n",
      "  W  torch.Size([3072, 768]) B                        transformer.h.10.mlp.c_fc\n",
      "A                                                     transformer.h.10.mlp.gelu\n",
      "  W  torch.Size([768, 3072]) B                        transformer.h.10.mlp.c_proj\n",
      "                                                      transformer.h.10.mlp.dropout\n",
      "                                                      transformer.h.11\n",
      "  W        torch.Size([768]) B                        transformer.h.11.ln_1\n",
      "                                                      transformer.h.11.attn\n",
      "  W  torch.Size([2304, 768]) B                        transformer.h.11.attn.c_attn\n",
      "  W   torch.Size([768, 768]) B                        transformer.h.11.attn.c_proj\n",
      "                                                      transformer.h.11.attn.attn_dropout\n",
      "                                                      transformer.h.11.attn.resid_dropout\n",
      "  W        torch.Size([768]) B                        transformer.h.11.ln_2\n",
      "                                                      transformer.h.11.mlp\n",
      "  W  torch.Size([3072, 768]) B                        transformer.h.11.mlp.c_fc\n",
      "A                                                     transformer.h.11.mlp.gelu\n",
      "  W  torch.Size([768, 3072]) B                        transformer.h.11.mlp.c_proj\n",
      "                                                      transformer.h.11.mlp.dropout\n",
      "  W        torch.Size([768]) B                        transformer.ln_f\n",
      "  W torch.Size([50304, 768]) B                        lm_head\n"
     ]
    }
   ],
   "source": [
    "print_model_components(model)"
   ]
  },
  {
   "cell_type": "code",
   "execution_count": 34,
   "id": "f31b70fe-2f26-466c-a913-6872fb4bf9af",
   "metadata": {
    "execution": {
     "iopub.execute_input": "2024-01-30T00:17:30.961620Z",
     "iopub.status.busy": "2024-01-30T00:17:30.961213Z",
     "iopub.status.idle": "2024-01-30T00:17:31.045071Z",
     "shell.execute_reply": "2024-01-30T00:17:31.043934Z",
     "shell.execute_reply.started": "2024-01-30T00:17:30.961586Z"
    }
   },
   "outputs": [
    {
     "data": {
      "text/plain": [
       "(164, 164)"
      ]
     },
     "execution_count": 34,
     "metadata": {},
     "output_type": "execute_result"
    }
   ],
   "source": [
    "names = [name for name, module in model.named_modules()]\n",
    "len(names), len(set(names))"
   ]
  },
  {
   "cell_type": "markdown",
   "id": "87bbe9a8-6b80-4294-9e32-53a5d89bfe55",
   "metadata": {
    "execution": {
     "iopub.execute_input": "2024-01-27T06:04:08.184077Z",
     "iopub.status.busy": "2024-01-27T06:04:08.183652Z",
     "iopub.status.idle": "2024-01-27T06:04:08.189657Z",
     "shell.execute_reply": "2024-01-27T06:04:08.188367Z",
     "shell.execute_reply.started": "2024-01-27T06:04:08.184042Z"
    }
   },
   "source": [
    "## Record model intermediates"
   ]
  },
  {
   "cell_type": "code",
   "execution_count": 35,
   "id": "e5cfe6c3-2826-4bc1-892b-95a1d0d552ed",
   "metadata": {
    "execution": {
     "iopub.execute_input": "2024-01-30T00:17:31.046840Z",
     "iopub.status.busy": "2024-01-30T00:17:31.046440Z",
     "iopub.status.idle": "2024-01-30T00:17:31.066324Z",
     "shell.execute_reply": "2024-01-30T00:17:31.065165Z",
     "shell.execute_reply.started": "2024-01-30T00:17:31.046806Z"
    }
   },
   "outputs": [
    {
     "data": {
      "text/plain": [
       "<function lac_llm.record_module_output(name, output)>"
      ]
     },
     "execution_count": 35,
     "metadata": {},
     "output_type": "execute_result"
    }
   ],
   "source": [
    "record_module_output"
   ]
  },
  {
   "cell_type": "markdown",
   "id": "60445f54-a06e-4658-82d1-ed43ea20df37",
   "metadata": {
    "execution": {
     "iopub.execute_input": "2024-01-29T05:36:42.818602Z",
     "iopub.status.busy": "2024-01-29T05:36:42.818252Z",
     "iopub.status.idle": "2024-01-29T05:36:42.826039Z",
     "shell.execute_reply": "2024-01-29T05:36:42.825122Z",
     "shell.execute_reply.started": "2024-01-29T05:36:42.818574Z"
    },
    "scrolled": true
   },
   "source": [
    "```python\n",
    "def hook_model_for_recording(model):\n",
    "    record_handles = {}\n",
    "    for name, module in model.named_modules():\n",
    "        f = lambda module, args, output, name=name: record_module_output(name, output)\n",
    "        record_handles[name] = module.register_forward_hook(f)\n",
    "    return record_handles\n",
    "```"
   ]
  },
  {
   "cell_type": "code",
   "execution_count": 36,
   "id": "f05c0687-3b1e-47fe-8c18-33fe48083134",
   "metadata": {
    "execution": {
     "iopub.execute_input": "2024-01-30T00:17:31.067971Z",
     "iopub.status.busy": "2024-01-30T00:17:31.067586Z",
     "iopub.status.idle": "2024-01-30T00:17:31.078981Z",
     "shell.execute_reply": "2024-01-30T00:17:31.078102Z",
     "shell.execute_reply.started": "2024-01-30T00:17:31.067939Z"
    }
   },
   "outputs": [],
   "source": [
    "record_handles = hook_model_for_recording(model)"
   ]
  },
  {
   "cell_type": "code",
   "execution_count": 37,
   "id": "163d8651-07f0-4e34-bb1e-54b91353c653",
   "metadata": {
    "execution": {
     "iopub.execute_input": "2024-01-30T00:17:31.080600Z",
     "iopub.status.busy": "2024-01-30T00:17:31.080215Z",
     "iopub.status.idle": "2024-01-30T00:17:31.089646Z",
     "shell.execute_reply": "2024-01-30T00:17:31.088675Z",
     "shell.execute_reply.started": "2024-01-30T00:17:31.080568Z"
    }
   },
   "outputs": [
    {
     "data": {
      "text/plain": [
       "dict_keys(['', 'transformer', 'transformer.wte', 'transformer.wpe', 'transformer.drop', 'transformer.h', 'transformer.h.0', 'transformer.h.0.ln_1', 'transformer.h.0.attn', 'transformer.h.0.attn.c_attn', 'transformer.h.0.attn.c_proj', 'transformer.h.0.attn.attn_dropout', 'transformer.h.0.attn.resid_dropout', 'transformer.h.0.ln_2', 'transformer.h.0.mlp', 'transformer.h.0.mlp.c_fc', 'transformer.h.0.mlp.gelu', 'transformer.h.0.mlp.c_proj', 'transformer.h.0.mlp.dropout', 'transformer.h.1', 'transformer.h.1.ln_1', 'transformer.h.1.attn', 'transformer.h.1.attn.c_attn', 'transformer.h.1.attn.c_proj', 'transformer.h.1.attn.attn_dropout', 'transformer.h.1.attn.resid_dropout', 'transformer.h.1.ln_2', 'transformer.h.1.mlp', 'transformer.h.1.mlp.c_fc', 'transformer.h.1.mlp.gelu', 'transformer.h.1.mlp.c_proj', 'transformer.h.1.mlp.dropout', 'transformer.h.2', 'transformer.h.2.ln_1', 'transformer.h.2.attn', 'transformer.h.2.attn.c_attn', 'transformer.h.2.attn.c_proj', 'transformer.h.2.attn.attn_dropout', 'transformer.h.2.attn.resid_dropout', 'transformer.h.2.ln_2', 'transformer.h.2.mlp', 'transformer.h.2.mlp.c_fc', 'transformer.h.2.mlp.gelu', 'transformer.h.2.mlp.c_proj', 'transformer.h.2.mlp.dropout', 'transformer.h.3', 'transformer.h.3.ln_1', 'transformer.h.3.attn', 'transformer.h.3.attn.c_attn', 'transformer.h.3.attn.c_proj', 'transformer.h.3.attn.attn_dropout', 'transformer.h.3.attn.resid_dropout', 'transformer.h.3.ln_2', 'transformer.h.3.mlp', 'transformer.h.3.mlp.c_fc', 'transformer.h.3.mlp.gelu', 'transformer.h.3.mlp.c_proj', 'transformer.h.3.mlp.dropout', 'transformer.h.4', 'transformer.h.4.ln_1', 'transformer.h.4.attn', 'transformer.h.4.attn.c_attn', 'transformer.h.4.attn.c_proj', 'transformer.h.4.attn.attn_dropout', 'transformer.h.4.attn.resid_dropout', 'transformer.h.4.ln_2', 'transformer.h.4.mlp', 'transformer.h.4.mlp.c_fc', 'transformer.h.4.mlp.gelu', 'transformer.h.4.mlp.c_proj', 'transformer.h.4.mlp.dropout', 'transformer.h.5', 'transformer.h.5.ln_1', 'transformer.h.5.attn', 'transformer.h.5.attn.c_attn', 'transformer.h.5.attn.c_proj', 'transformer.h.5.attn.attn_dropout', 'transformer.h.5.attn.resid_dropout', 'transformer.h.5.ln_2', 'transformer.h.5.mlp', 'transformer.h.5.mlp.c_fc', 'transformer.h.5.mlp.gelu', 'transformer.h.5.mlp.c_proj', 'transformer.h.5.mlp.dropout', 'transformer.h.6', 'transformer.h.6.ln_1', 'transformer.h.6.attn', 'transformer.h.6.attn.c_attn', 'transformer.h.6.attn.c_proj', 'transformer.h.6.attn.attn_dropout', 'transformer.h.6.attn.resid_dropout', 'transformer.h.6.ln_2', 'transformer.h.6.mlp', 'transformer.h.6.mlp.c_fc', 'transformer.h.6.mlp.gelu', 'transformer.h.6.mlp.c_proj', 'transformer.h.6.mlp.dropout', 'transformer.h.7', 'transformer.h.7.ln_1', 'transformer.h.7.attn', 'transformer.h.7.attn.c_attn', 'transformer.h.7.attn.c_proj', 'transformer.h.7.attn.attn_dropout', 'transformer.h.7.attn.resid_dropout', 'transformer.h.7.ln_2', 'transformer.h.7.mlp', 'transformer.h.7.mlp.c_fc', 'transformer.h.7.mlp.gelu', 'transformer.h.7.mlp.c_proj', 'transformer.h.7.mlp.dropout', 'transformer.h.8', 'transformer.h.8.ln_1', 'transformer.h.8.attn', 'transformer.h.8.attn.c_attn', 'transformer.h.8.attn.c_proj', 'transformer.h.8.attn.attn_dropout', 'transformer.h.8.attn.resid_dropout', 'transformer.h.8.ln_2', 'transformer.h.8.mlp', 'transformer.h.8.mlp.c_fc', 'transformer.h.8.mlp.gelu', 'transformer.h.8.mlp.c_proj', 'transformer.h.8.mlp.dropout', 'transformer.h.9', 'transformer.h.9.ln_1', 'transformer.h.9.attn', 'transformer.h.9.attn.c_attn', 'transformer.h.9.attn.c_proj', 'transformer.h.9.attn.attn_dropout', 'transformer.h.9.attn.resid_dropout', 'transformer.h.9.ln_2', 'transformer.h.9.mlp', 'transformer.h.9.mlp.c_fc', 'transformer.h.9.mlp.gelu', 'transformer.h.9.mlp.c_proj', 'transformer.h.9.mlp.dropout', 'transformer.h.10', 'transformer.h.10.ln_1', 'transformer.h.10.attn', 'transformer.h.10.attn.c_attn', 'transformer.h.10.attn.c_proj', 'transformer.h.10.attn.attn_dropout', 'transformer.h.10.attn.resid_dropout', 'transformer.h.10.ln_2', 'transformer.h.10.mlp', 'transformer.h.10.mlp.c_fc', 'transformer.h.10.mlp.gelu', 'transformer.h.10.mlp.c_proj', 'transformer.h.10.mlp.dropout', 'transformer.h.11', 'transformer.h.11.ln_1', 'transformer.h.11.attn', 'transformer.h.11.attn.c_attn', 'transformer.h.11.attn.c_proj', 'transformer.h.11.attn.attn_dropout', 'transformer.h.11.attn.resid_dropout', 'transformer.h.11.ln_2', 'transformer.h.11.mlp', 'transformer.h.11.mlp.c_fc', 'transformer.h.11.mlp.gelu', 'transformer.h.11.mlp.c_proj', 'transformer.h.11.mlp.dropout', 'transformer.ln_f', 'lm_head'])"
      ]
     },
     "execution_count": 37,
     "metadata": {},
     "output_type": "execute_result"
    }
   ],
   "source": [
    "record_handles.keys()"
   ]
  },
  {
   "cell_type": "markdown",
   "id": "863a5167-5207-4aec-851d-b0ba9e5de25c",
   "metadata": {},
   "source": [
    "### Get the pre-surgery logits"
   ]
  },
  {
   "cell_type": "code",
   "execution_count": 38,
   "id": "fd768f7f-7079-4a52-a21c-eaf2d0b39781",
   "metadata": {
    "execution": {
     "iopub.execute_input": "2024-01-30T00:17:31.091219Z",
     "iopub.status.busy": "2024-01-30T00:17:31.090823Z",
     "iopub.status.idle": "2024-01-30T00:17:31.097228Z",
     "shell.execute_reply": "2024-01-30T00:17:31.096265Z",
     "shell.execute_reply.started": "2024-01-30T00:17:31.091186Z"
    }
   },
   "outputs": [],
   "source": [
    "text = r\"\"\"You will rejoice to hear that no disaster has accompanied the\n",
    "commencement of an enterprise which you have regarded with such evil\n",
    "forebodings. I arrived here yesterday, and my first task is to assure\n",
    "my dear sister of my welfare and increasing confidence in the success\n",
    "of my undertaking.\n",
    "\"\"\""
   ]
  },
  {
   "cell_type": "code",
   "execution_count": 39,
   "id": "23183646-4710-4bff-839d-2b7eebde2332",
   "metadata": {
    "execution": {
     "iopub.execute_input": "2024-01-30T00:17:31.098733Z",
     "iopub.status.busy": "2024-01-30T00:17:31.098351Z",
     "iopub.status.idle": "2024-01-30T00:17:31.109440Z",
     "shell.execute_reply": "2024-01-30T00:17:31.108536Z",
     "shell.execute_reply.started": "2024-01-30T00:17:31.098701Z"
    }
   },
   "outputs": [
    {
     "data": {
      "text/plain": [
       "(290, 62, list)"
      ]
     },
     "execution_count": 39,
     "metadata": {},
     "output_type": "execute_result"
    }
   ],
   "source": [
    "import tiktoken\n",
    "enc = tiktoken.get_encoding(\"gpt2\")\n",
    "toks = enc.encode(text)\n",
    "len(text), len(toks), type(toks)"
   ]
  },
  {
   "cell_type": "code",
   "execution_count": 40,
   "id": "35a17307-e2ad-4cac-b234-991aa4bb3b75",
   "metadata": {
    "execution": {
     "iopub.execute_input": "2024-01-30T00:17:31.110499Z",
     "iopub.status.busy": "2024-01-30T00:17:31.110235Z",
     "iopub.status.idle": "2024-01-30T00:17:31.114544Z",
     "shell.execute_reply": "2024-01-30T00:17:31.113954Z",
     "shell.execute_reply.started": "2024-01-30T00:17:31.110479Z"
    }
   },
   "outputs": [],
   "source": [
    "#idx = torch.tensor([[198]], dtype=torch.int64)\n",
    "idx = torch.tensor([toks], dtype=torch.int64)"
   ]
  },
  {
   "cell_type": "markdown",
   "id": "7f33ce60-08ec-4f86-b931-6ec84c1bdda2",
   "metadata": {},
   "source": [
    "#### Calculated on cpu"
   ]
  },
  {
   "cell_type": "code",
   "execution_count": 41,
   "id": "94ced7f2-2570-45f3-af2c-8d8162b44dbe",
   "metadata": {
    "execution": {
     "iopub.execute_input": "2024-01-30T00:17:31.121946Z",
     "iopub.status.busy": "2024-01-30T00:17:31.121697Z",
     "iopub.status.idle": "2024-01-30T00:17:31.124543Z",
     "shell.execute_reply": "2024-01-30T00:17:31.123995Z",
     "shell.execute_reply.started": "2024-01-30T00:17:31.121926Z"
    }
   },
   "outputs": [],
   "source": [
    "config.model_record = []\n",
    "#del(config.model_record)"
   ]
  },
  {
   "cell_type": "code",
   "execution_count": 42,
   "id": "ccf2cc5b-5164-4fda-9eca-dfde7d104bde",
   "metadata": {
    "execution": {
     "iopub.execute_input": "2024-01-30T00:17:31.125696Z",
     "iopub.status.busy": "2024-01-30T00:17:31.125459Z",
     "iopub.status.idle": "2024-01-30T00:17:31.209296Z",
     "shell.execute_reply": "2024-01-30T00:17:31.208406Z",
     "shell.execute_reply.started": "2024-01-30T00:17:31.125676Z"
    }
   },
   "outputs": [
    {
     "data": {
      "text/plain": [
       "tensor([[[  4.1730,   2.5067,   4.7283,  ..., -10.1042, -10.1043, -10.1041]]])"
      ]
     },
     "execution_count": 42,
     "metadata": {},
     "output_type": "execute_result"
    }
   ],
   "source": [
    "y_pre_surgery, loss = model(idx)\n",
    "y_pre_surgery"
   ]
  },
  {
   "cell_type": "code",
   "execution_count": 43,
   "id": "b0abba5b-15bc-40d4-9d47-b4f8c56da99a",
   "metadata": {
    "execution": {
     "iopub.execute_input": "2024-01-30T00:17:31.210928Z",
     "iopub.status.busy": "2024-01-30T00:17:31.210535Z",
     "iopub.status.idle": "2024-01-30T00:17:31.216687Z",
     "shell.execute_reply": "2024-01-30T00:17:31.215856Z",
     "shell.execute_reply.started": "2024-01-30T00:17:31.210894Z"
    }
   },
   "outputs": [
    {
     "data": {
      "text/plain": [
       "(150, 164)"
      ]
     },
     "execution_count": 43,
     "metadata": {},
     "output_type": "execute_result"
    }
   ],
   "source": [
    "len(config.model_record), len(record_handles)"
   ]
  },
  {
   "cell_type": "code",
   "execution_count": 44,
   "id": "1ae0f167-8fa6-418b-b923-f85fa71dd847",
   "metadata": {
    "execution": {
     "iopub.execute_input": "2024-01-30T00:17:31.218114Z",
     "iopub.status.busy": "2024-01-30T00:17:31.217744Z",
     "iopub.status.idle": "2024-01-30T00:17:31.225094Z",
     "shell.execute_reply": "2024-01-30T00:17:31.224259Z",
     "shell.execute_reply.started": "2024-01-30T00:17:31.218082Z"
    }
   },
   "outputs": [],
   "source": [
    "cpu_model_record = config.model_record\n",
    "config.model_record = []"
   ]
  },
  {
   "cell_type": "markdown",
   "id": "8e6fbed5-f7d5-48dc-8b3d-010a1a2212fd",
   "metadata": {},
   "source": [
    "##### Copy model record to gpu for later analysis"
   ]
  },
  {
   "cell_type": "code",
   "execution_count": 45,
   "id": "4eb5d27f-4ece-422f-89d2-7777009ada63",
   "metadata": {
    "execution": {
     "iopub.execute_input": "2024-01-30T00:17:31.226531Z",
     "iopub.status.busy": "2024-01-30T00:17:31.226162Z",
     "iopub.status.idle": "2024-01-30T00:17:31.441125Z",
     "shell.execute_reply": "2024-01-30T00:17:31.440316Z",
     "shell.execute_reply.started": "2024-01-30T00:17:31.226499Z"
    }
   },
   "outputs": [],
   "source": [
    "def toer(v):\n",
    "    match v:\n",
    "        case torch.Tensor() as t:\n",
    "            return t.to(cuda_device)\n",
    "        case (t, _) if isinstance(t, torch.Tensor):\n",
    "            return t.to(cuda_device)\n",
    "\n",
    "cpu_model_record = [(name, toer(t)) for name, t in cpu_model_record]"
   ]
  },
  {
   "cell_type": "markdown",
   "id": "e9484386-bd71-4074-b5d7-07f197b85fb3",
   "metadata": {},
   "source": [
    "#### Calculated on gpu"
   ]
  },
  {
   "cell_type": "code",
   "execution_count": 46,
   "id": "ad7c3673-34bd-4ac7-b1e6-37f3b1d05625",
   "metadata": {
    "execution": {
     "iopub.execute_input": "2024-01-30T00:17:31.442269Z",
     "iopub.status.busy": "2024-01-30T00:17:31.442057Z",
     "iopub.status.idle": "2024-01-30T00:17:31.612637Z",
     "shell.execute_reply": "2024-01-30T00:17:31.611471Z",
     "shell.execute_reply.started": "2024-01-30T00:17:31.442249Z"
    }
   },
   "outputs": [
    {
     "name": "stdout",
     "output_type": "stream",
     "text": [
      "model_g.training=False, host_device_of(model_g)=device(type='cuda', index=2)\n"
     ]
    }
   ],
   "source": [
    "#model_g = copy.deepcopy(reference_model).to('cuda')\n",
    "model_g = copy.deepcopy(model).to(cuda_device)\n",
    "print(f\"{model_g.training=}, {host_device_of(model_g)=}\")"
   ]
  },
  {
   "cell_type": "code",
   "execution_count": 47,
   "id": "c48c386e-55ad-4202-8dcb-8d4064046adf",
   "metadata": {
    "execution": {
     "iopub.execute_input": "2024-01-30T00:17:31.614344Z",
     "iopub.status.busy": "2024-01-30T00:17:31.613954Z",
     "iopub.status.idle": "2024-01-30T00:17:31.780383Z",
     "shell.execute_reply": "2024-01-30T00:17:31.779464Z",
     "shell.execute_reply.started": "2024-01-30T00:17:31.614310Z"
    }
   },
   "outputs": [],
   "source": [
    "yg_pre_surgery, loss = model_g(idx.to(host_device_of(model_g)))"
   ]
  },
  {
   "cell_type": "code",
   "execution_count": 48,
   "id": "73b1bd9d-93f9-4ba9-a511-76201da93e48",
   "metadata": {
    "execution": {
     "iopub.execute_input": "2024-01-30T00:17:31.781695Z",
     "iopub.status.busy": "2024-01-30T00:17:31.781469Z",
     "iopub.status.idle": "2024-01-30T00:17:31.785053Z",
     "shell.execute_reply": "2024-01-30T00:17:31.784326Z",
     "shell.execute_reply.started": "2024-01-30T00:17:31.781673Z"
    }
   },
   "outputs": [],
   "source": [
    "gpu_model_record = config.model_record\n",
    "config.model_record = []"
   ]
  },
  {
   "cell_type": "markdown",
   "id": "7d278bff-9ce9-4213-aff3-0bd03bbfd284",
   "metadata": {},
   "source": [
    "### Compare calculation records from cpu and gpu"
   ]
  },
  {
   "cell_type": "markdown",
   "id": "37ef14eb-c42f-470b-b537-14eddd29a07e",
   "metadata": {
    "execution": {
     "iopub.execute_input": "2024-01-29T05:36:43.573338Z",
     "iopub.status.busy": "2024-01-29T05:36:43.573127Z",
     "iopub.status.idle": "2024-01-29T05:36:43.583186Z",
     "shell.execute_reply": "2024-01-29T05:36:43.582400Z",
     "shell.execute_reply.started": "2024-01-29T05:36:43.573319Z"
    },
    "scrolled": true
   },
   "source": [
    "```python\n",
    "def compare_records(record_a, record_b, device='cpu'):\n",
    "    assert all(c[0]==g[0] for c,g in zip(record_a, record_b))\n",
    "    assert all(c[1].dtype==g[1].dtype for c,g in zip(record_a[:-1], record_b[:-1]))\n",
    "    record_names = [v[0] for v in record_a]\n",
    "    close_list = [torch.allclose(c[1].to(device), g[1].to(device), atol=1e-09) for c,g in zip(record_a[:-1], record_b[:-1])]\n",
    "    close_dict = dict((name, (i, close)) for i, (name, close) in enumerate(zip(record_names, close_list)))\n",
    "    for name, (i, close) in close_dict.items():\n",
    "        if True or not close:\n",
    "            print(name)\n",
    "            about(record_b[i][1].to(device) - record_a[i][1].to(device))\n",
    "```"
   ]
  },
  {
   "cell_type": "code",
   "execution_count": 49,
   "id": "bdb8fe33-37a3-4f21-9849-6423b6823162",
   "metadata": {
    "execution": {
     "iopub.execute_input": "2024-01-30T00:17:31.786174Z",
     "iopub.status.busy": "2024-01-30T00:17:31.785923Z",
     "iopub.status.idle": "2024-01-30T00:17:32.013109Z",
     "shell.execute_reply": "2024-01-30T00:17:32.012014Z",
     "shell.execute_reply.started": "2024-01-30T00:17:31.786153Z"
    },
    "scrolled": true
   },
   "outputs": [
    {
     "name": "stdout",
     "output_type": "stream",
     "text": [
      "transformer.wte\n",
      "torch.Size([1, 62, 768]), torch.float32, (0.0, 0.0, 0.0), 0.000e+00, cpu\n",
      "transformer.wpe\n",
      "torch.Size([62, 768]), torch.float32, (0.0, 0.0, 0.0), 0.000e+00, cpu\n",
      "transformer.drop\n",
      "torch.Size([1, 62, 768]), torch.float32, (0.0, 0.0, 0.0), 0.000e+00, cpu\n",
      "transformer.h.0.ln_1\n",
      "torch.Size([1, 62, 768]), torch.float32, (9.5367431640625e-07, 6.322277850588479e-10, -1.430511474609375e-06), 2.063e-15, cpu\n",
      "transformer.h.0.attn.c_attn\n",
      "torch.Size([1, 62, 2304]), torch.float32, (0.0014039278030395508, 1.2933771252246972e-06, -0.0015301704406738281), 3.322e-08, cpu\n",
      "transformer.h.0.attn.c_proj\n",
      "torch.Size([1, 62, 768]), torch.float32, (0.00022935867309570312, 2.5189960301642997e-08, -6.835907697677612e-05), 3.404e-11, cpu\n",
      "transformer.h.0.attn.resid_dropout\n",
      "torch.Size([1, 62, 768]), torch.float32, (0.00022935867309570312, 2.5189960301642997e-08, -6.835907697677612e-05), 3.404e-11, cpu\n",
      "transformer.h.0.attn\n",
      "torch.Size([1, 62, 768]), torch.float32, (0.00022935867309570312, 2.5189960301642997e-08, -6.835907697677612e-05), 3.404e-11, cpu\n",
      "transformer.h.0.ln_2\n",
      "torch.Size([1, 62, 768]), torch.float32, (0.008922576904296875, 1.2719424502801234e-06, -0.003641810268163681), 8.615e-08, cpu\n",
      "transformer.h.0.mlp.c_fc\n",
      "torch.Size([1, 62, 3072]), torch.float32, (0.006072998046875, 9.311773878443903e-05, -0.009368896484375), 2.190e-07, cpu\n",
      "transformer.h.0.mlp.gelu\n",
      "torch.Size([1, 62, 3072]), torch.float32, (0.006072998046875, 1.2071824696603717e-05, -0.002275228500366211), 7.223e-09, cpu\n",
      "transformer.h.0.mlp.c_proj\n",
      "torch.Size([1, 62, 768]), torch.float32, (0.0025758743286132812, -4.4601814176031996e-07, -0.00464630126953125), 8.726e-09, cpu\n",
      "transformer.h.0.mlp.dropout\n",
      "torch.Size([1, 62, 768]), torch.float32, (0.0025758743286132812, -4.4601814176031996e-07, -0.00464630126953125), 8.726e-09, cpu\n",
      "transformer.h.0.mlp\n",
      "torch.Size([1, 62, 768]), torch.float32, (0.0025758743286132812, -4.4601814176031996e-07, -0.00464630126953125), 8.726e-09, cpu\n",
      "transformer.h.0\n",
      "torch.Size([1, 62, 768]), torch.float32, (0.0025739669799804688, -4.208042873772204e-07, -0.0046749114990234375), 8.739e-09, cpu\n",
      "transformer.h.1.ln_1\n",
      "torch.Size([1, 62, 768]), torch.float32, (0.02117919921875, 4.4443156003649405e-06, -0.0179290771484375), 2.308e-07, cpu\n",
      "transformer.h.1.attn.c_attn\n",
      "torch.Size([1, 62, 2304]), torch.float32, (0.014702796936035156, 6.368747140952377e-06, -0.011996269226074219), 2.480e-07, cpu\n",
      "transformer.h.1.attn.c_proj\n",
      "torch.Size([1, 62, 768]), torch.float32, (0.0009936690330505371, 7.020595419710902e-07, -0.0014650821685791016), 1.241e-08, cpu\n",
      "transformer.h.1.attn.resid_dropout\n",
      "torch.Size([1, 62, 768]), torch.float32, (0.0009936690330505371, 7.020595419710902e-07, -0.0014650821685791016), 1.241e-08, cpu\n",
      "transformer.h.1.attn\n",
      "torch.Size([1, 62, 768]), torch.float32, (0.0009936690330505371, 7.020595419710902e-07, -0.0014650821685791016), 1.241e-08, cpu\n",
      "transformer.h.1.ln_2\n",
      "torch.Size([1, 62, 768]), torch.float32, (0.005718231201171875, -2.5205015322051343e-06, -0.007067680358886719), 5.329e-07, cpu\n",
      "transformer.h.1.mlp.c_fc\n",
      "torch.Size([1, 62, 3072]), torch.float32, (0.011324048042297363, -3.564100159330279e-05, -0.009233474731445312), 2.342e-07, cpu\n",
      "transformer.h.1.mlp.gelu\n",
      "torch.Size([1, 62, 3072]), torch.float32, (0.005511641502380371, 4.1990379997513256e-07, -0.010145425796508789), 1.690e-08, cpu\n",
      "transformer.h.1.mlp.c_proj\n",
      "torch.Size([1, 62, 768]), torch.float32, (0.0018607378005981445, -9.734312783699372e-07, -0.0036115646362304688), 1.273e-08, cpu\n",
      "transformer.h.1.mlp.dropout\n",
      "torch.Size([1, 62, 768]), torch.float32, (0.0018607378005981445, -9.734312783699372e-07, -0.0036115646362304688), 1.273e-08, cpu\n",
      "transformer.h.1.mlp\n",
      "torch.Size([1, 62, 768]), torch.float32, (0.0018607378005981445, -9.734312783699372e-07, -0.0036115646362304688), 1.273e-08, cpu\n",
      "transformer.h.1\n",
      "torch.Size([1, 62, 768]), torch.float32, (0.002243518829345703, -6.922984236249855e-07, -0.008263587951660156), 2.621e-08, cpu\n",
      "transformer.h.2.ln_1\n",
      "torch.Size([1, 62, 768]), torch.float32, (0.0071086883544921875, -3.733463396502562e-07, -0.0103759765625), 5.654e-07, cpu\n",
      "transformer.h.2.attn.c_attn\n",
      "torch.Size([1, 62, 2304]), torch.float32, (0.017152786254882812, -9.545862983641428e-07, -0.020261764526367188), 8.993e-07, cpu\n",
      "transformer.h.2.attn.c_proj\n",
      "torch.Size([1, 62, 768]), torch.float32, (0.0021889209747314453, 1.1516785571564136e-07, -0.0009436756372451782), 1.618e-08, cpu\n",
      "transformer.h.2.attn.resid_dropout\n",
      "torch.Size([1, 62, 768]), torch.float32, (0.0021889209747314453, 1.1516785571564136e-07, -0.0009436756372451782), 1.618e-08, cpu\n",
      "transformer.h.2.attn\n",
      "torch.Size([1, 62, 768]), torch.float32, (0.0021889209747314453, 1.1516785571564136e-07, -0.0009436756372451782), 1.618e-08, cpu\n",
      "transformer.h.2.ln_2\n",
      "torch.Size([1, 62, 768]), torch.float32, (0.010311126708984375, -1.5792905434829995e-06, -0.018140792846679688), 1.161e-06, cpu\n",
      "transformer.h.2.mlp.c_fc\n",
      "torch.Size([1, 62, 3072]), torch.float32, (0.0325927734375, 5.693305580605308e-05, -0.009581565856933594), 6.539e-07, cpu\n",
      "transformer.h.2.mlp.gelu\n",
      "torch.Size([1, 62, 3072]), torch.float32, (0.0325927734375, 1.2775556995523296e-06, -0.005762934684753418), 4.240e-08, cpu\n",
      "transformer.h.2.mlp.c_proj\n",
      "torch.Size([1, 62, 768]), torch.float32, (0.018587112426757812, -1.1796940671829556e-06, -0.0067882537841796875), 3.972e-08, cpu\n",
      "transformer.h.2.mlp.dropout\n",
      "torch.Size([1, 62, 768]), torch.float32, (0.018587112426757812, -1.1796940671829556e-06, -0.0067882537841796875), 3.972e-08, cpu\n",
      "transformer.h.2.mlp\n",
      "torch.Size([1, 62, 768]), torch.float32, (0.018587112426757812, -1.1796940671829556e-06, -0.0067882537841796875), 3.972e-08, cpu\n",
      "transformer.h.2\n",
      "torch.Size([1, 62, 768]), torch.float32, (0.01943206787109375, -1.7569029824376377e-06, -0.005747795104980469), 6.194e-08, cpu\n",
      "transformer.h.3.ln_1\n",
      "torch.Size([1, 62, 768]), torch.float32, (0.01975536346435547, 2.7460172890169982e-06, -0.010732650756835938), 8.210e-07, cpu\n",
      "transformer.h.3.attn.c_attn\n",
      "torch.Size([1, 62, 2304]), torch.float32, (0.010837554931640625, 2.65991228938167e-06, -0.011912345886230469), 8.155e-07, cpu\n",
      "transformer.h.3.attn.c_proj\n",
      "torch.Size([1, 62, 768]), torch.float32, (0.0022810697555541992, 2.6471546503202145e-08, -0.0020265579223632812), 1.695e-08, cpu\n",
      "transformer.h.3.attn.resid_dropout\n",
      "torch.Size([1, 62, 768]), torch.float32, (0.0022810697555541992, 2.6471546503202145e-08, -0.0020265579223632812), 1.695e-08, cpu\n",
      "transformer.h.3.attn\n",
      "torch.Size([1, 62, 768]), torch.float32, (0.0022810697555541992, 2.6471546503202145e-08, -0.0020265579223632812), 1.695e-08, cpu\n",
      "transformer.h.3.ln_2\n",
      "torch.Size([1, 62, 768]), torch.float32, (0.013414382934570312, 1.8005290300340666e-06, -0.023022174835205078), 1.221e-06, cpu\n",
      "transformer.h.3.mlp.c_fc\n",
      "torch.Size([1, 62, 3072]), torch.float32, (0.012732982635498047, 3.5063840865375585e-05, -0.006039619445800781), 5.586e-07, cpu\n",
      "transformer.h.3.mlp.gelu\n",
      "torch.Size([1, 62, 3072]), torch.float32, (0.012732982635498047, 1.0028091754038993e-06, -0.004514336585998535), 4.500e-08, cpu\n",
      "transformer.h.3.mlp.c_proj\n",
      "torch.Size([1, 62, 768]), torch.float32, (0.01226043701171875, -7.334387844586614e-07, -0.0030870437622070312), 4.447e-08, cpu\n",
      "transformer.h.3.mlp.dropout\n",
      "torch.Size([1, 62, 768]), torch.float32, (0.01226043701171875, -7.334387844586614e-07, -0.0030870437622070312), 4.447e-08, cpu\n",
      "transformer.h.3.mlp\n",
      "torch.Size([1, 62, 768]), torch.float32, (0.01226043701171875, -7.334387844586614e-07, -0.0030870437622070312), 4.447e-08, cpu\n",
      "transformer.h.3\n",
      "torch.Size([1, 62, 768]), torch.float32, (0.026988983154296875, -2.463762470025329e-06, -0.004965782165527344), 9.020e-08, cpu\n",
      "transformer.h.4.ln_1\n",
      "torch.Size([1, 62, 768]), torch.float32, (0.02692699432373047, 4.940747898931428e-07, -0.01666259765625), 1.079e-06, cpu\n",
      "transformer.h.4.attn.c_attn\n",
      "torch.Size([1, 62, 2304]), torch.float32, (0.014832496643066406, -9.59112340477918e-06, -0.01673126220703125), 9.117e-07, cpu\n",
      "transformer.h.4.attn.c_proj\n",
      "torch.Size([1, 62, 768]), torch.float32, (0.0025196075439453125, 5.226550952126565e-08, -0.0051555633544921875), 2.309e-08, cpu\n",
      "transformer.h.4.attn.resid_dropout\n",
      "torch.Size([1, 62, 768]), torch.float32, (0.0025196075439453125, 5.226550952126565e-08, -0.0051555633544921875), 2.309e-08, cpu\n",
      "transformer.h.4.attn\n",
      "torch.Size([1, 62, 768]), torch.float32, (0.0025196075439453125, 5.226550952126565e-08, -0.0051555633544921875), 2.309e-08, cpu\n",
      "transformer.h.4.ln_2\n",
      "torch.Size([1, 62, 768]), torch.float32, (0.06637954711914062, 2.892634678615376e-06, -0.03323554992675781), 1.282e-06, cpu\n",
      "transformer.h.4.mlp.c_fc\n",
      "torch.Size([1, 62, 3072]), torch.float32, (0.06881141662597656, 0.00011948111805040948, -0.04990386962890625), 7.656e-07, cpu\n",
      "transformer.h.4.mlp.gelu\n",
      "torch.Size([1, 62, 3072]), torch.float32, (0.06881141662597656, 2.914048641640365e-06, -0.04990386962890625), 1.420e-07, cpu\n",
      "transformer.h.4.mlp.c_proj\n",
      "torch.Size([1, 62, 768]), torch.float32, (0.0820465087890625, 1.7421495823494111e-06, -0.020823240280151367), 2.267e-07, cpu\n",
      "transformer.h.4.mlp.dropout\n",
      "torch.Size([1, 62, 768]), torch.float32, (0.0820465087890625, 1.7421495823494111e-06, -0.020823240280151367), 2.267e-07, cpu\n",
      "transformer.h.4.mlp\n",
      "torch.Size([1, 62, 768]), torch.float32, (0.0820465087890625, 1.7421495823494111e-06, -0.020823240280151367), 2.267e-07, cpu\n",
      "transformer.h.4\n",
      "torch.Size([1, 62, 768]), torch.float32, (0.1038818359375, -6.691976933882782e-07, -0.022021323442459106), 3.614e-07, cpu\n",
      "transformer.h.5.ln_1\n",
      "torch.Size([1, 62, 768]), torch.float32, (0.008887052536010742, -3.6757128885473548e-06, -0.02477264404296875), 1.383e-06, cpu\n",
      "transformer.h.5.attn.c_attn\n",
      "torch.Size([1, 62, 2304]), torch.float32, (0.012661933898925781, 5.108344489485309e-06, -0.012267112731933594), 7.561e-07, cpu\n",
      "transformer.h.5.attn.c_proj\n",
      "torch.Size([1, 62, 768]), torch.float32, (0.0030356645584106445, -6.061843138130855e-07, -0.0012000799179077148), 2.084e-08, cpu\n",
      "transformer.h.5.attn.resid_dropout\n",
      "torch.Size([1, 62, 768]), torch.float32, (0.0030356645584106445, -6.061843138130855e-07, -0.0012000799179077148), 2.084e-08, cpu\n",
      "transformer.h.5.attn\n",
      "torch.Size([1, 62, 768]), torch.float32, (0.0030356645584106445, -6.061843138130855e-07, -0.0012000799179077148), 2.084e-08, cpu\n",
      "transformer.h.5.ln_2\n",
      "torch.Size([1, 62, 768]), torch.float32, (0.008690834045410156, -9.4718561080475e-07, -0.008274078369140625), 9.512e-07, cpu\n",
      "transformer.h.5.mlp.c_fc\n",
      "torch.Size([1, 62, 3072]), torch.float32, (0.0073223114013671875, 4.310223797012186e-05, -0.005020268261432648), 4.278e-07, cpu\n",
      "transformer.h.5.mlp.gelu\n",
      "torch.Size([1, 62, 3072]), torch.float32, (0.00325775146484375, -5.429173162325623e-07, -0.004137754440307617), 4.217e-08, cpu\n",
      "transformer.h.5.mlp.c_proj\n",
      "torch.Size([1, 62, 768]), torch.float32, (0.00337982177734375, 3.7606970249970633e-07, -0.0019681453704833984), 3.760e-08, cpu\n",
      "transformer.h.5.mlp.dropout\n",
      "torch.Size([1, 62, 768]), torch.float32, (0.00337982177734375, 3.7606970249970633e-07, -0.0019681453704833984), 3.760e-08, cpu\n",
      "transformer.h.5.mlp\n",
      "torch.Size([1, 62, 768]), torch.float32, (0.00337982177734375, 3.7606970249970633e-07, -0.0019681453704833984), 3.760e-08, cpu\n",
      "transformer.h.5\n",
      "torch.Size([1, 62, 768]), torch.float32, (0.1073760986328125, -8.996000742040304e-07, -0.02227279543876648), 3.822e-07, cpu\n",
      "transformer.h.6.ln_1\n",
      "torch.Size([1, 62, 768]), torch.float32, (0.02223968505859375, 8.943858402275392e-08, -0.032440185546875), 1.636e-06, cpu\n",
      "transformer.h.6.attn.c_attn\n",
      "torch.Size([1, 62, 2304]), torch.float32, (0.010026931762695312, -9.802369328917521e-06, -0.011445999145507812), 8.317e-07, cpu\n",
      "transformer.h.6.attn.c_proj\n",
      "torch.Size([1, 62, 768]), torch.float32, (0.002483963966369629, -4.150860594788639e-07, -0.0016744136810302734), 1.891e-08, cpu\n",
      "transformer.h.6.attn.resid_dropout\n",
      "torch.Size([1, 62, 768]), torch.float32, (0.002483963966369629, -4.150860594788639e-07, -0.0016744136810302734), 1.891e-08, cpu\n",
      "transformer.h.6.attn\n",
      "torch.Size([1, 62, 768]), torch.float32, (0.002483963966369629, -4.150860594788639e-07, -0.0016744136810302734), 1.891e-08, cpu\n",
      "transformer.h.6.ln_2\n",
      "torch.Size([1, 62, 768]), torch.float32, (0.008399724960327148, -1.6151514497370724e-06, -0.009372711181640625), 8.275e-07, cpu\n",
      "transformer.h.6.mlp.c_fc\n",
      "torch.Size([1, 62, 3072]), torch.float32, (0.005089402198791504, 3.2290803403458985e-05, -0.00577998161315918), 3.645e-07, cpu\n",
      "transformer.h.6.mlp.gelu\n",
      "torch.Size([1, 62, 3072]), torch.float32, (0.0033845901489257812, -3.7514080380038637e-06, -0.004386186599731445), 4.353e-08, cpu\n",
      "transformer.h.6.mlp.c_proj\n",
      "torch.Size([1, 62, 768]), torch.float32, (0.0020368099212646484, 2.5083924996853126e-07, -0.0022071003913879395), 4.397e-08, cpu\n",
      "transformer.h.6.mlp.dropout\n",
      "torch.Size([1, 62, 768]), torch.float32, (0.0020368099212646484, 2.5083924996853126e-07, -0.0022071003913879395), 4.397e-08, cpu\n",
      "transformer.h.6.mlp\n",
      "torch.Size([1, 62, 768]), torch.float32, (0.0020368099212646484, 2.5083924996853126e-07, -0.0022071003913879395), 4.397e-08, cpu\n",
      "transformer.h.6\n",
      "torch.Size([1, 62, 768]), torch.float32, (0.1099853515625, -1.0638150538446792e-06, -0.0220603346824646), 4.030e-07, cpu\n",
      "transformer.h.7.ln_1\n",
      "torch.Size([1, 62, 768]), torch.float32, (0.018672943115234375, -4.785620324775996e-07, -0.02066802978515625), 1.354e-06, cpu\n",
      "transformer.h.7.attn.c_attn\n",
      "torch.Size([1, 62, 2304]), torch.float32, (0.007161140441894531, -3.676358927704213e-06, -0.00721326470375061), 6.665e-07, cpu\n",
      "transformer.h.7.attn.c_proj\n",
      "torch.Size([1, 62, 768]), torch.float32, (0.0026868581771850586, -1.429272219621619e-07, -0.0009926557540893555), 1.710e-08, cpu\n",
      "transformer.h.7.attn.resid_dropout\n",
      "torch.Size([1, 62, 768]), torch.float32, (0.0026868581771850586, -1.429272219621619e-07, -0.0009926557540893555), 1.710e-08, cpu\n",
      "transformer.h.7.attn\n",
      "torch.Size([1, 62, 768]), torch.float32, (0.0026868581771850586, -1.429272219621619e-07, -0.0009926557540893555), 1.710e-08, cpu\n",
      "transformer.h.7.ln_2\n",
      "torch.Size([1, 62, 768]), torch.float32, (0.007069587707519531, -2.3912416514085952e-06, -0.008144378662109375), 8.539e-07, cpu\n",
      "transformer.h.7.mlp.c_fc\n",
      "torch.Size([1, 62, 3072]), torch.float32, (0.00661921501159668, 5.078310542522578e-05, -0.00768733024597168), 3.678e-07, cpu\n",
      "transformer.h.7.mlp.gelu\n",
      "torch.Size([1, 62, 3072]), torch.float32, (0.003316640853881836, 1.0396367230678992e-05, -0.004291266202926636), 4.002e-08, cpu\n",
      "transformer.h.7.mlp.c_proj\n",
      "torch.Size([1, 62, 768]), torch.float32, (0.0014224052429199219, -1.2556008592797806e-06, -0.0018411874771118164), 4.102e-08, cpu\n",
      "transformer.h.7.mlp.dropout\n",
      "torch.Size([1, 62, 768]), torch.float32, (0.0014224052429199219, -1.2556008592797806e-06, -0.0018411874771118164), 4.102e-08, cpu\n",
      "transformer.h.7.mlp\n",
      "torch.Size([1, 62, 768]), torch.float32, (0.0014224052429199219, -1.2556008592797806e-06, -0.0018411874771118164), 4.102e-08, cpu\n",
      "transformer.h.7\n",
      "torch.Size([1, 62, 768]), torch.float32, (0.111419677734375, -2.4622577843875924e-06, -0.021790742874145508), 4.199e-07, cpu\n",
      "transformer.h.8.ln_1\n",
      "torch.Size([1, 62, 768]), torch.float32, (0.02271270751953125, 2.0771126394592598e-06, -0.02378082275390625), 1.310e-06, cpu\n",
      "transformer.h.8.attn.c_attn\n",
      "torch.Size([1, 62, 2304]), torch.float32, (0.008781015872955322, 6.786423231082362e-06, -0.008447647094726562), 6.717e-07, cpu\n",
      "transformer.h.8.attn.c_proj\n",
      "torch.Size([1, 62, 768]), torch.float32, (0.0017560720443725586, 7.890743313999005e-07, -0.002447456121444702), 1.580e-08, cpu\n",
      "transformer.h.8.attn.resid_dropout\n",
      "torch.Size([1, 62, 768]), torch.float32, (0.0017560720443725586, 7.890743313999005e-07, -0.002447456121444702), 1.580e-08, cpu\n",
      "transformer.h.8.attn\n",
      "torch.Size([1, 62, 768]), torch.float32, (0.0017560720443725586, 7.890743313999005e-07, -0.002447456121444702), 1.580e-08, cpu\n",
      "transformer.h.8.ln_2\n",
      "torch.Size([1, 62, 768]), torch.float32, (0.007793426513671875, -8.361317628424497e-07, -0.009368896484375), 7.939e-07, cpu\n",
      "transformer.h.8.mlp.c_fc\n",
      "torch.Size([1, 62, 3072]), torch.float32, (0.006191730499267578, 5.392917557305883e-05, -0.005497381091117859), 3.371e-07, cpu\n",
      "transformer.h.8.mlp.gelu\n",
      "torch.Size([1, 62, 3072]), torch.float32, (0.003952980041503906, 9.724844193417166e-06, -0.0029016733169555664), 3.738e-08, cpu\n",
      "transformer.h.8.mlp.c_proj\n",
      "torch.Size([1, 62, 768]), torch.float32, (0.001986101269721985, 8.70889817799976e-08, -0.0022821426391601562), 4.381e-08, cpu\n",
      "transformer.h.8.mlp.dropout\n",
      "torch.Size([1, 62, 768]), torch.float32, (0.001986101269721985, 8.70889817799976e-08, -0.0022821426391601562), 4.381e-08, cpu\n",
      "transformer.h.8.mlp\n",
      "torch.Size([1, 62, 768]), torch.float32, (0.001986101269721985, 8.70889817799976e-08, -0.0022821426391601562), 4.381e-08, cpu\n",
      "transformer.h.8\n",
      "torch.Size([1, 62, 768]), torch.float32, (0.1132354736328125, -1.5860881909267397e-06, -0.021548748016357422), 4.465e-07, cpu\n",
      "transformer.h.9.ln_1\n",
      "torch.Size([1, 62, 768]), torch.float32, (0.01776123046875, 9.058922750862239e-07, -0.029327392578125), 1.329e-06, cpu\n",
      "transformer.h.9.attn.c_attn\n",
      "torch.Size([1, 62, 2304]), torch.float32, (0.009806632995605469, -5.560226191263085e-06, -0.011347770690917969), 6.426e-07, cpu\n",
      "transformer.h.9.attn.c_proj\n",
      "torch.Size([1, 62, 768]), torch.float32, (0.0015096664428710938, -6.86865907863971e-07, -0.002832353115081787), 2.417e-08, cpu\n",
      "transformer.h.9.attn.resid_dropout\n",
      "torch.Size([1, 62, 768]), torch.float32, (0.0015096664428710938, -6.86865907863971e-07, -0.002832353115081787), 2.417e-08, cpu\n",
      "transformer.h.9.attn\n",
      "torch.Size([1, 62, 768]), torch.float32, (0.0015096664428710938, -6.86865907863971e-07, -0.002832353115081787), 2.417e-08, cpu\n",
      "transformer.h.9.ln_2\n",
      "torch.Size([1, 62, 768]), torch.float32, (0.008901596069335938, -1.1609103571499286e-06, -0.00690460205078125), 8.304e-07, cpu\n",
      "transformer.h.9.mlp.c_fc\n",
      "torch.Size([1, 62, 3072]), torch.float32, (0.005166888236999512, -6.698699891824627e-06, -0.003870844841003418), 3.421e-07, cpu\n",
      "transformer.h.9.mlp.gelu\n",
      "torch.Size([1, 62, 3072]), torch.float32, (0.003711104393005371, 2.431076208093023e-06, -0.00328141450881958), 4.563e-08, cpu\n",
      "transformer.h.9.mlp.c_proj\n",
      "torch.Size([1, 62, 768]), torch.float32, (0.0030454397201538086, -2.514596361081242e-06, -0.004313468933105469), 7.002e-08, cpu\n",
      "transformer.h.9.mlp.dropout\n",
      "torch.Size([1, 62, 768]), torch.float32, (0.0030454397201538086, -2.514596361081242e-06, -0.004313468933105469), 7.002e-08, cpu\n",
      "transformer.h.9.mlp\n",
      "torch.Size([1, 62, 768]), torch.float32, (0.0030454397201538086, -2.514596361081242e-06, -0.004313468933105469), 7.002e-08, cpu\n",
      "transformer.h.9\n",
      "torch.Size([1, 62, 768]), torch.float32, (0.1107177734375, -4.7877060995976725e-06, -0.02088642120361328), 5.031e-07, cpu\n",
      "transformer.h.10.ln_1\n",
      "torch.Size([1, 62, 768]), torch.float32, (0.009433269500732422, 3.3450038839169616e-07, -0.008894145488739014), 1.356e-06, cpu\n",
      "transformer.h.10.attn.c_attn\n",
      "torch.Size([1, 62, 2304]), torch.float32, (0.005619406700134277, 2.734731529147547e-06, -0.0059222206473350525), 6.377e-07, cpu\n",
      "transformer.h.10.attn.c_proj\n",
      "torch.Size([1, 62, 768]), torch.float32, (0.0019826889038085938, -2.0972556581244877e-07, -0.005860805511474609), 2.116e-08, cpu\n",
      "transformer.h.10.attn.resid_dropout\n",
      "torch.Size([1, 62, 768]), torch.float32, (0.0019826889038085938, -2.0972556581244877e-07, -0.005860805511474609), 2.116e-08, cpu\n",
      "transformer.h.10.attn\n",
      "torch.Size([1, 62, 768]), torch.float32, (0.0019826889038085938, -2.0972556581244877e-07, -0.005860805511474609), 2.116e-08, cpu\n",
      "transformer.h.10.ln_2\n",
      "torch.Size([1, 62, 768]), torch.float32, (0.00829315185546875, 2.5331345986165048e-06, -0.007880210876464844), 7.646e-07, cpu\n",
      "transformer.h.10.mlp.c_fc\n",
      "torch.Size([1, 62, 3072]), torch.float32, (0.0069637298583984375, -3.520650381861615e-05, -0.0061609745025634766), 3.287e-07, cpu\n",
      "transformer.h.10.mlp.gelu\n",
      "torch.Size([1, 62, 3072]), torch.float32, (0.004753232002258301, -6.911766487988796e-06, -0.0035414695739746094), 4.706e-08, cpu\n",
      "transformer.h.10.mlp.c_proj\n",
      "torch.Size([1, 62, 768]), torch.float32, (0.007597446441650391, 3.368885137861462e-06, -0.0153656005859375), 1.004e-07, cpu\n",
      "transformer.h.10.mlp.dropout\n",
      "torch.Size([1, 62, 768]), torch.float32, (0.007597446441650391, 3.368885137861462e-06, -0.0153656005859375), 1.004e-07, cpu\n",
      "transformer.h.10.mlp\n",
      "torch.Size([1, 62, 768]), torch.float32, (0.007597446441650391, 3.368885137861462e-06, -0.0153656005859375), 1.004e-07, cpu\n",
      "transformer.h.10\n",
      "torch.Size([1, 62, 768]), torch.float32, (0.0953216552734375, -1.6291596693918109e-06, -0.020589351654052734), 5.396e-07, cpu\n",
      "transformer.h.11.ln_1\n",
      "torch.Size([1, 62, 768]), torch.float32, (0.010863304138183594, -2.5198437047447687e-06, -0.010582923889160156), 1.388e-06, cpu\n",
      "transformer.h.11.attn.c_attn\n",
      "torch.Size([1, 62, 2304]), torch.float32, (0.005072832107543945, -7.941365371840468e-06, -0.005217790603637695), 6.393e-07, cpu\n",
      "transformer.h.11.attn.c_proj\n",
      "torch.Size([1, 62, 768]), torch.float32, (0.0153350830078125, 3.690256415856927e-09, -0.014555215835571289), 7.333e-08, cpu\n",
      "transformer.h.11.attn.resid_dropout\n",
      "torch.Size([1, 62, 768]), torch.float32, (0.0153350830078125, 3.690256415856927e-09, -0.014555215835571289), 7.333e-08, cpu\n",
      "transformer.h.11.attn\n",
      "torch.Size([1, 62, 768]), torch.float32, (0.0153350830078125, 3.690256415856927e-09, -0.014555215835571289), 7.333e-08, cpu\n",
      "transformer.h.11.ln_2\n",
      "torch.Size([1, 62, 768]), torch.float32, (0.030544281005859375, -1.8264324537650252e-06, -0.029390335083007812), 1.083e-06, cpu\n",
      "transformer.h.11.mlp.c_fc\n",
      "torch.Size([1, 62, 3072]), torch.float32, (0.018294811248779297, 5.399798255551701e-05, -0.011646002531051636), 5.104e-07, cpu\n",
      "transformer.h.11.mlp.gelu\n",
      "torch.Size([1, 62, 3072]), torch.float32, (0.010418891906738281, -6.8132455519273605e-06, -0.009582489728927612), 7.572e-08, cpu\n",
      "transformer.h.11.mlp.c_proj\n",
      "torch.Size([1, 62, 768]), torch.float32, (0.009913444519042969, -6.877507070952247e-06, -0.02054595947265625), 1.799e-07, cpu\n",
      "transformer.h.11.mlp.dropout\n",
      "torch.Size([1, 62, 768]), torch.float32, (0.009913444519042969, -6.877507070952247e-06, -0.02054595947265625), 1.799e-07, cpu\n",
      "transformer.h.11.mlp\n",
      "torch.Size([1, 62, 768]), torch.float32, (0.009913444519042969, -6.877507070952247e-06, -0.02054595947265625), 1.799e-07, cpu\n",
      "transformer.h.11\n",
      "torch.Size([1, 62, 768]), torch.float32, (0.11578369140625, -8.503197648835378e-06, -0.016841888427734375), 8.059e-07, cpu\n",
      "transformer.ln_f\n",
      "torch.Size([1, 62, 768]), torch.float32, (0.1051483154296875, -6.465734190652422e-06, -0.06937980651855469), 2.287e-05, cpu\n",
      "lm_head\n",
      "torch.Size([1, 1, 50304]), torch.float32, (0.024580001831054688, 0.003459617039354627, -0.019138336181640625), 2.027e-05, cpu\n"
     ]
    }
   ],
   "source": [
    "compare_records(cpu_model_record, gpu_model_record)"
   ]
  },
  {
   "cell_type": "code",
   "execution_count": 50,
   "id": "86e0b9c3-5ab3-4fe5-abb0-a0e58e747f79",
   "metadata": {
    "execution": {
     "iopub.execute_input": "2024-01-30T00:17:32.015214Z",
     "iopub.status.busy": "2024-01-30T00:17:32.014751Z",
     "iopub.status.idle": "2024-01-30T00:17:32.027087Z",
     "shell.execute_reply": "2024-01-30T00:17:32.026210Z",
     "shell.execute_reply.started": "2024-01-30T00:17:32.015182Z"
    }
   },
   "outputs": [
    {
     "data": {
      "text/plain": [
       "['1|01111111|11111111111111111111111']"
      ]
     },
     "execution_count": 50,
     "metadata": {},
     "output_type": "execute_result"
    }
   ],
   "source": [
    "tok_emb = gpu_model_record[0]\n",
    "binor_all(tok_emb[1])"
   ]
  },
  {
   "cell_type": "code",
   "execution_count": 51,
   "id": "7425e90c-4b08-4235-8397-35faff55708c",
   "metadata": {
    "execution": {
     "iopub.execute_input": "2024-01-30T00:17:32.028644Z",
     "iopub.status.busy": "2024-01-30T00:17:32.028266Z",
     "iopub.status.idle": "2024-01-30T00:17:32.047811Z",
     "shell.execute_reply": "2024-01-30T00:17:32.046798Z",
     "shell.execute_reply.started": "2024-01-30T00:17:32.028610Z"
    }
   },
   "outputs": [
    {
     "name": "stdout",
     "output_type": "stream",
     "text": [
      "torch.Size([1, 62, 768]), torch.float32, (0.15897409617900848, -0.0001894384528583231, -0.3170527517795563), 2.892e-04, cuda:2\n"
     ]
    }
   ],
   "source": [
    "about(tok_emb[1])"
   ]
  },
  {
   "cell_type": "markdown",
   "id": "6f5f8a54-d9cf-4fb0-ae5d-ec597ff40980",
   "metadata": {},
   "source": [
    "### Inspect model intermediates"
   ]
  },
  {
   "cell_type": "code",
   "execution_count": 52,
   "id": "21b78f24-3660-49ed-a697-f4ee3ced44d5",
   "metadata": {
    "execution": {
     "iopub.execute_input": "2024-01-30T00:17:32.049381Z",
     "iopub.status.busy": "2024-01-30T00:17:32.048997Z",
     "iopub.status.idle": "2024-01-30T00:17:32.276940Z",
     "shell.execute_reply": "2024-01-30T00:17:32.276324Z",
     "shell.execute_reply.started": "2024-01-30T00:17:32.049347Z"
    },
    "scrolled": true
   },
   "outputs": [
    {
     "name": "stdout",
     "output_type": "stream",
     "text": [
      "['1|01111111|11111111111111111111111'] transformer.wte\n",
      "['1|01111111|11111111111111111111111'] transformer.wpe\n",
      "['1|01111111|11111111111111111111111'] transformer.drop\n",
      "['1|11111111|11111111111111111111111'] transformer.h.0.ln_1\n",
      "['1|11111111|11111111111111111111111'] transformer.h.0.attn.c_attn\n",
      "['1|01111111|11111111111111111111111'] transformer.h.0.attn.c_proj\n",
      "['1|01111111|11111111111111111111111'] transformer.h.0.attn.resid_dropout\n",
      "['1|01111111|11111111111111111111111'] transformer.h.0.attn\n",
      "['1|11111111|11111111111111111111111'] transformer.h.0.ln_2\n",
      "['1|11111111|11111111111111111111111'] transformer.h.0.mlp.c_fc\n",
      "['1|11111111|11111111111111111111111'] transformer.h.0.mlp.gelu\n",
      "['1|11111111|11111111111111111111111'] transformer.h.0.mlp.c_proj\n",
      "['1|11111111|11111111111111111111111'] transformer.h.0.mlp.dropout\n",
      "['1|11111111|11111111111111111111111'] transformer.h.0.mlp\n",
      "['1|11111111|11111111111111111111111'] transformer.h.0\n",
      "['1|11111111|11111111111111111111111'] transformer.h.1.ln_1\n",
      "['1|11111111|11111111111111111111111'] transformer.h.1.attn.c_attn\n",
      "['1|01111111|11111111111111111111111'] transformer.h.1.attn.c_proj\n",
      "['1|01111111|11111111111111111111111'] transformer.h.1.attn.resid_dropout\n",
      "['1|01111111|11111111111111111111111'] transformer.h.1.attn\n",
      "['1|11111111|11111111111111111111111'] transformer.h.1.ln_2\n",
      "['1|11111111|11111111111111111111111'] transformer.h.1.mlp.c_fc\n",
      "['1|11111111|11111111111111111111111'] transformer.h.1.mlp.gelu\n",
      "['1|11111111|11111111111111111111111'] transformer.h.1.mlp.c_proj\n",
      "['1|11111111|11111111111111111111111'] transformer.h.1.mlp.dropout\n",
      "['1|11111111|11111111111111111111111'] transformer.h.1.mlp\n",
      "['1|11111111|11111111111111111111111'] transformer.h.1\n",
      "['1|11111111|11111111111111111111111'] transformer.h.2.ln_1\n",
      "['1|11111111|11111111111111111111111'] transformer.h.2.attn.c_attn\n",
      "['1|11111111|11111111111111111111111'] transformer.h.2.attn.c_proj\n",
      "['1|11111111|11111111111111111111111'] transformer.h.2.attn.resid_dropout\n",
      "['1|11111111|11111111111111111111111'] transformer.h.2.attn\n",
      "['1|11111111|11111111111111111111111'] transformer.h.2.ln_2\n",
      "['1|11111111|11111111111111111111111'] transformer.h.2.mlp.c_fc\n",
      "['1|11111111|11111111111111111111111'] transformer.h.2.mlp.gelu\n",
      "['1|11111111|11111111111111111111111'] transformer.h.2.mlp.c_proj\n",
      "['1|11111111|11111111111111111111111'] transformer.h.2.mlp.dropout\n",
      "['1|11111111|11111111111111111111111'] transformer.h.2.mlp\n",
      "['1|11111111|11111111111111111111111'] transformer.h.2\n",
      "['1|11111111|11111111111111111111111'] transformer.h.3.ln_1\n",
      "['1|11111111|11111111111111111111111'] transformer.h.3.attn.c_attn\n",
      "['1|11111111|11111111111111111111111'] transformer.h.3.attn.c_proj\n",
      "['1|11111111|11111111111111111111111'] transformer.h.3.attn.resid_dropout\n",
      "['1|11111111|11111111111111111111111'] transformer.h.3.attn\n",
      "['1|11111111|11111111111111111111111'] transformer.h.3.ln_2\n",
      "['1|11111111|11111111111111111111111'] transformer.h.3.mlp.c_fc\n",
      "['1|11111111|11111111111111111111111'] transformer.h.3.mlp.gelu\n",
      "['1|11111111|11111111111111111111111'] transformer.h.3.mlp.c_proj\n",
      "['1|11111111|11111111111111111111111'] transformer.h.3.mlp.dropout\n",
      "['1|11111111|11111111111111111111111'] transformer.h.3.mlp\n",
      "['1|11111111|11111111111111111111111'] transformer.h.3\n",
      "['1|11111111|11111111111111111111111'] transformer.h.4.ln_1\n",
      "['1|11111111|11111111111111111111111'] transformer.h.4.attn.c_attn\n",
      "['1|11111111|11111111111111111111111'] transformer.h.4.attn.c_proj\n",
      "['1|11111111|11111111111111111111111'] transformer.h.4.attn.resid_dropout\n",
      "['1|11111111|11111111111111111111111'] transformer.h.4.attn\n",
      "['1|11111111|11111111111111111111111'] transformer.h.4.ln_2\n",
      "['1|11111111|11111111111111111111111'] transformer.h.4.mlp.c_fc\n",
      "['1|11111111|11111111111111111111111'] transformer.h.4.mlp.gelu\n",
      "['1|11111111|11111111111111111111111'] transformer.h.4.mlp.c_proj\n",
      "['1|11111111|11111111111111111111111'] transformer.h.4.mlp.dropout\n",
      "['1|11111111|11111111111111111111111'] transformer.h.4.mlp\n",
      "['1|11111111|11111111111111111111111'] transformer.h.4\n",
      "['1|11111111|11111111111111111111111'] transformer.h.5.ln_1\n",
      "['1|11111111|11111111111111111111111'] transformer.h.5.attn.c_attn\n",
      "['1|11111111|11111111111111111111111'] transformer.h.5.attn.c_proj\n",
      "['1|11111111|11111111111111111111111'] transformer.h.5.attn.resid_dropout\n",
      "['1|11111111|11111111111111111111111'] transformer.h.5.attn\n",
      "['1|11111111|11111111111111111111111'] transformer.h.5.ln_2\n",
      "['1|11111111|11111111111111111111111'] transformer.h.5.mlp.c_fc\n",
      "['1|11111111|11111111111111111111111'] transformer.h.5.mlp.gelu\n",
      "['1|11111111|11111111111111111111111'] transformer.h.5.mlp.c_proj\n",
      "['1|11111111|11111111111111111111111'] transformer.h.5.mlp.dropout\n",
      "['1|11111111|11111111111111111111111'] transformer.h.5.mlp\n",
      "['1|11111111|11111111111111111111111'] transformer.h.5\n",
      "['1|11111111|11111111111111111111111'] transformer.h.6.ln_1\n",
      "['1|11111111|11111111111111111111111'] transformer.h.6.attn.c_attn\n",
      "['1|01111111|11111111111111111111111'] transformer.h.6.attn.c_proj\n",
      "['1|01111111|11111111111111111111111'] transformer.h.6.attn.resid_dropout\n",
      "['1|01111111|11111111111111111111111'] transformer.h.6.attn\n",
      "['1|11111111|11111111111111111111111'] transformer.h.6.ln_2\n",
      "['1|11111111|11111111111111111111111'] transformer.h.6.mlp.c_fc\n",
      "['1|11111111|11111111111111111111111'] transformer.h.6.mlp.gelu\n",
      "['1|11111111|11111111111111111111111'] transformer.h.6.mlp.c_proj\n",
      "['1|11111111|11111111111111111111111'] transformer.h.6.mlp.dropout\n",
      "['1|11111111|11111111111111111111111'] transformer.h.6.mlp\n",
      "['1|11111111|11111111111111111111111'] transformer.h.6\n",
      "['1|11111111|11111111111111111111111'] transformer.h.7.ln_1\n",
      "['1|11111111|11111111111111111111111'] transformer.h.7.attn.c_attn\n",
      "['1|01111111|11111111111111111111111'] transformer.h.7.attn.c_proj\n",
      "['1|01111111|11111111111111111111111'] transformer.h.7.attn.resid_dropout\n",
      "['1|01111111|11111111111111111111111'] transformer.h.7.attn\n",
      "['1|11111111|11111111111111111111111'] transformer.h.7.ln_2\n",
      "['1|11111111|11111111111111111111111'] transformer.h.7.mlp.c_fc\n",
      "['1|11111111|11111111111111111111111'] transformer.h.7.mlp.gelu\n",
      "['1|11111111|11111111111111111111111'] transformer.h.7.mlp.c_proj\n",
      "['1|11111111|11111111111111111111111'] transformer.h.7.mlp.dropout\n",
      "['1|11111111|11111111111111111111111'] transformer.h.7.mlp\n",
      "['1|11111111|11111111111111111111111'] transformer.h.7\n",
      "['1|11111111|11111111111111111111111'] transformer.h.8.ln_1\n",
      "['1|11111111|11111111111111111111111'] transformer.h.8.attn.c_attn\n",
      "['1|11111111|11111111111111111111111'] transformer.h.8.attn.c_proj\n",
      "['1|11111111|11111111111111111111111'] transformer.h.8.attn.resid_dropout\n",
      "['1|11111111|11111111111111111111111'] transformer.h.8.attn\n",
      "['1|11111111|11111111111111111111111'] transformer.h.8.ln_2\n",
      "['1|11111111|11111111111111111111111'] transformer.h.8.mlp.c_fc\n",
      "['1|11111111|11111111111111111111111'] transformer.h.8.mlp.gelu\n",
      "['1|11111111|11111111111111111111111'] transformer.h.8.mlp.c_proj\n",
      "['1|11111111|11111111111111111111111'] transformer.h.8.mlp.dropout\n",
      "['1|11111111|11111111111111111111111'] transformer.h.8.mlp\n",
      "['1|11111111|11111111111111111111111'] transformer.h.8\n",
      "['1|11111111|11111111111111111111111'] transformer.h.9.ln_1\n",
      "['1|11111111|11111111111111111111111'] transformer.h.9.attn.c_attn\n",
      "['1|11111111|11111111111111111111111'] transformer.h.9.attn.c_proj\n",
      "['1|11111111|11111111111111111111111'] transformer.h.9.attn.resid_dropout\n",
      "['1|11111111|11111111111111111111111'] transformer.h.9.attn\n",
      "['1|11111111|11111111111111111111111'] transformer.h.9.ln_2\n",
      "['1|11111111|11111111111111111111111'] transformer.h.9.mlp.c_fc\n",
      "['1|11111111|11111111111111111111111'] transformer.h.9.mlp.gelu\n",
      "['1|11111111|11111111111111111111111'] transformer.h.9.mlp.c_proj\n",
      "['1|11111111|11111111111111111111111'] transformer.h.9.mlp.dropout\n",
      "['1|11111111|11111111111111111111111'] transformer.h.9.mlp\n",
      "['1|11111111|11111111111111111111111'] transformer.h.9\n",
      "['1|11111111|11111111111111111111111'] transformer.h.10.ln_1\n",
      "['1|11111111|11111111111111111111111'] transformer.h.10.attn.c_attn\n",
      "['1|11111111|11111111111111111111111'] transformer.h.10.attn.c_proj\n",
      "['1|11111111|11111111111111111111111'] transformer.h.10.attn.resid_dropout\n",
      "['1|11111111|11111111111111111111111'] transformer.h.10.attn\n",
      "['1|11111111|11111111111111111111111'] transformer.h.10.ln_2\n",
      "['1|11111111|11111111111111111111111'] transformer.h.10.mlp.c_fc\n",
      "['1|11111111|11111111111111111111111'] transformer.h.10.mlp.gelu\n",
      "['1|11111111|11111111111111111111111'] transformer.h.10.mlp.c_proj\n",
      "['1|11111111|11111111111111111111111'] transformer.h.10.mlp.dropout\n",
      "['1|11111111|11111111111111111111111'] transformer.h.10.mlp\n",
      "['1|11111111|11111111111111111111111'] transformer.h.10\n",
      "['1|11111111|11111111111111111111111'] transformer.h.11.ln_1\n",
      "['1|11111111|11111111111111111111111'] transformer.h.11.attn.c_attn\n",
      "['1|11111111|11111111111111111111111'] transformer.h.11.attn.c_proj\n",
      "['1|11111111|11111111111111111111111'] transformer.h.11.attn.resid_dropout\n",
      "['1|11111111|11111111111111111111111'] transformer.h.11.attn\n",
      "['1|11111111|11111111111111111111111'] transformer.h.11.ln_2\n",
      "['1|11111111|11111111111111111111111'] transformer.h.11.mlp.c_fc\n",
      "['1|11111111|11111111111111111111111'] transformer.h.11.mlp.gelu\n",
      "['1|11111111|11111111111111111111111'] transformer.h.11.mlp.c_proj\n",
      "['1|11111111|11111111111111111111111'] transformer.h.11.mlp.dropout\n",
      "['1|11111111|11111111111111111111111'] transformer.h.11.mlp\n",
      "['1|11111111|11111111111111111111111'] transformer.h.11\n",
      "['1|11111111|11111111111111111111111'] transformer.ln_f\n",
      "['1|11111111|11111111111111111111111'] lm_head\n",
      "['1|11111111|11111111111111111111111'] \n"
     ]
    }
   ],
   "source": [
    "for name, t in cpu_model_record:\n",
    "    match t:\n",
    "        case torch.Tensor() as tensor if tensor.dtype == torch.float32:\n",
    "            print(binor_all(tensor), name)\n",
    "        case (tensor, _) if isinstance(tensor, torch.Tensor):\n",
    "            print(binor_all(tensor), name, _)\n",
    "        case _:\n",
    "            print(f\"{name} is {t}\")"
   ]
  },
  {
   "cell_type": "markdown",
   "id": "5ca34ad6-fc51-448e-a959-32f580a546f2",
   "metadata": {},
   "source": [
    "## Quantizing the model\n",
    "torch.FloatTensor on CPU and torch.cuda.FloatTensor on GPU is a [tensor](https://pytorch.org/docs/stable/tensors.html#torch.Tensor) of ``dtype`` ``torch.float32``\n",
    "\n",
    "IEEE 754 [binary16](https://en.wikipedia.org/wiki/Single-precision_floating-point_format) has 24 bits of mantissa (1 implied and 23 expressed)\n",
    "\n",
    "If we have two floats, a and b, quantized to m bits of mantissa (the lower bits zeros), their product can require 2m bits of mantissa to avoid loss of information. If we add n such products together, *all of which have the same exponent*, we need ceil(log2(n)) more bits"
   ]
  },
  {
   "cell_type": "code",
   "execution_count": 53,
   "id": "44708045-4d97-4d48-a768-fc69d6a704fe",
   "metadata": {
    "execution": {
     "iopub.execute_input": "2024-01-30T00:17:32.278490Z",
     "iopub.status.busy": "2024-01-30T00:17:32.278189Z",
     "iopub.status.idle": "2024-01-30T00:17:32.282494Z",
     "shell.execute_reply": "2024-01-30T00:17:32.281628Z",
     "shell.execute_reply.started": "2024-01-30T00:17:32.278468Z"
    }
   },
   "outputs": [],
   "source": [
    "from torch import Tensor\n",
    "import torch.nn as nn"
   ]
  },
  {
   "cell_type": "code",
   "execution_count": 54,
   "id": "8acb605c-39d6-4b9b-99d5-7c67f4f6ba55",
   "metadata": {
    "execution": {
     "iopub.execute_input": "2024-01-30T00:17:32.283658Z",
     "iopub.status.busy": "2024-01-30T00:17:32.283386Z",
     "iopub.status.idle": "2024-01-30T00:17:32.296566Z",
     "shell.execute_reply": "2024-01-30T00:17:32.295565Z",
     "shell.execute_reply.started": "2024-01-30T00:17:32.283638Z"
    }
   },
   "outputs": [
    {
     "data": {
      "text/plain": [
       "['1|01111010|01110100101111001010000',\n",
       " '1|01111011|01100111001000011111010',\n",
       " '1|01111100|00011010110010111001110',\n",
       " '1|01111100|01011011000110101001010',\n",
       " '1|01111100|00011010010001110101001',\n",
       " '0|00000000|00000000000000000000000',\n",
       " '0|01111101|00001100011101011111001',\n",
       " '0|01111110|01000010110100101111011',\n",
       " '0|01111111|00001111110110011100000',\n",
       " '0|01111111|10000011001001110111101',\n",
       " '0|01111111|11110100010110100001110']"
      ]
     },
     "execution_count": 54,
     "metadata": {},
     "output_type": "execute_result"
    }
   ],
   "source": [
    "binstack(model.transformer.h[0].mlp.gelu((torch.arange(11)-5.0)/2.5))"
   ]
  },
  {
   "cell_type": "markdown",
   "id": "0019f231-825a-43b5-928c-d9e0bf76f796",
   "metadata": {},
   "source": [
    "## Surgery"
   ]
  },
  {
   "cell_type": "markdown",
   "id": "c5e4c045-dfb4-49e3-a06a-efae727ac449",
   "metadata": {},
   "source": [
    "### `quantize_module`"
   ]
  },
  {
   "cell_type": "markdown",
   "id": "515753f2-5e9d-4be2-920e-f6599157e376",
   "metadata": {
    "execution": {
     "iopub.execute_input": "2024-01-29T05:36:43.856722Z",
     "iopub.status.busy": "2024-01-29T05:36:43.856146Z",
     "iopub.status.idle": "2024-01-29T05:36:43.866122Z",
     "shell.execute_reply": "2024-01-29T05:36:43.865343Z",
     "shell.execute_reply.started": "2024-01-29T05:36:43.856674Z"
    }
   },
   "source": [
    "```python\n",
    "def quantize_module(module, n_bits):\n",
    "    def quantize_param(parameter):\n",
    "        if parameter is not None:\n",
    "            round_to_bits_(parameter, n_bits - parameter.abs().max().log2().ceil().int().item())\n",
    "            \n",
    "    def quantize_output(module, args, output):\n",
    "        # A forward hook function, viz.\n",
    "        # https://pytorch.org/docs/stable/generated/torch.nn.Module.html#torch.nn.Module.register_forward_hook\n",
    "        match output:\n",
    "            case torch.Tensor() as t:\n",
    "                round_to_bits_(t, n_bits) # Round in-place\n",
    "            case (t, _) if isinstance(t, torch.Tensor):\n",
    "                round_to_bits_(t, n_bits) # Round in-place\n",
    "        return output\n",
    "        \n",
    "    quantize_handles = {}\n",
    "    for name, module in module.named_modules():\n",
    "        if hasattr(module, \"weight\"):\n",
    "            quantize_param(module.weight)\n",
    "        if hasattr(module, \"bias\"):\n",
    "            quantize_param(module.bias)\n",
    "        # Hook in the quantization of the module's output\n",
    "        quantize_handles[name] = module.register_forward_hook(quantize_output)\n",
    "    return quantize_handles\n",
    "```"
   ]
  },
  {
   "cell_type": "markdown",
   "id": "afb91b3a-0af8-4cbe-bd3c-87a678135165",
   "metadata": {},
   "source": [
    "### Apply"
   ]
  },
  {
   "cell_type": "code",
   "execution_count": 82,
   "id": "0b104b08-e665-4023-bafa-bb0a7463607f",
   "metadata": {
    "execution": {
     "iopub.execute_input": "2024-01-30T00:32:44.416663Z",
     "iopub.status.busy": "2024-01-30T00:32:44.416010Z",
     "iopub.status.idle": "2024-01-30T00:32:44.625171Z",
     "shell.execute_reply": "2024-01-30T00:32:44.624412Z",
     "shell.execute_reply.started": "2024-01-30T00:32:44.416606Z"
    }
   },
   "outputs": [
    {
     "data": {
      "text/plain": [
       "(164, True)"
      ]
     },
     "execution_count": 82,
     "metadata": {},
     "output_type": "execute_result"
    }
   ],
   "source": [
    "model = copy.deepcopy(reference_model)\n",
    "record_handles = hook_model_for_recording(model)\n",
    "quantize_handles = quantize_module(model, 8)\n",
    "len(quantize_handles), quantize_handles.keys() == record_handles.keys()"
   ]
  },
  {
   "cell_type": "code",
   "execution_count": 83,
   "id": "8cb62a11-e013-466a-93b2-349da952a5ee",
   "metadata": {
    "execution": {
     "iopub.execute_input": "2024-01-30T00:32:44.626850Z",
     "iopub.status.busy": "2024-01-30T00:32:44.626554Z",
     "iopub.status.idle": "2024-01-30T00:32:44.632494Z",
     "shell.execute_reply": "2024-01-30T00:32:44.631797Z",
     "shell.execute_reply.started": "2024-01-30T00:32:44.626826Z"
    }
   },
   "outputs": [
    {
     "data": {
      "text/plain": [
       "(GPT(\n",
       "   (transformer): ModuleDict(\n",
       "     (wte): Embedding(50304, 768)\n",
       "     (wpe): Embedding(1024, 768)\n",
       "     (drop): Dropout(p=0.0, inplace=False)\n",
       "     (h): ModuleList(\n",
       "       (0-11): 12 x Block(\n",
       "         (ln_1): LayerNorm()\n",
       "         (attn): CausalSelfAttention(\n",
       "           (c_attn): Linear(in_features=768, out_features=2304, bias=False)\n",
       "           (c_proj): Linear(in_features=768, out_features=768, bias=False)\n",
       "           (attn_dropout): Dropout(p=0.0, inplace=False)\n",
       "           (resid_dropout): Dropout(p=0.0, inplace=False)\n",
       "         )\n",
       "         (ln_2): LayerNorm()\n",
       "         (mlp): MLP(\n",
       "           (c_fc): Linear(in_features=768, out_features=3072, bias=False)\n",
       "           (gelu): GELU(approximate='none')\n",
       "           (c_proj): Linear(in_features=3072, out_features=768, bias=False)\n",
       "           (dropout): Dropout(p=0.0, inplace=False)\n",
       "         )\n",
       "       )\n",
       "     )\n",
       "     (ln_f): LayerNorm()\n",
       "   )\n",
       "   (lm_head): Linear(in_features=768, out_features=50304, bias=False)\n",
       " ),\n",
       " device(type='cpu'))"
      ]
     },
     "execution_count": 83,
     "metadata": {},
     "output_type": "execute_result"
    }
   ],
   "source": [
    "model, host_device_of(model)"
   ]
  },
  {
   "cell_type": "markdown",
   "id": "a6a69630-ab2a-4c5d-aa8c-a0536f5d9e41",
   "metadata": {},
   "source": [
    "#### Verify all weights quantized"
   ]
  },
  {
   "cell_type": "code",
   "execution_count": 84,
   "id": "562190cf-bdf5-4d33-a8bc-524dde3846c1",
   "metadata": {
    "execution": {
     "iopub.execute_input": "2024-01-30T00:32:44.633595Z",
     "iopub.status.busy": "2024-01-30T00:32:44.633309Z",
     "iopub.status.idle": "2024-01-30T00:32:44.818398Z",
     "shell.execute_reply": "2024-01-30T00:32:44.817733Z",
     "shell.execute_reply.started": "2024-01-30T00:32:44.633572Z"
    }
   },
   "outputs": [
    {
     "data": {
      "text/plain": [
       "'1||1111111|1|11111110000000000000000'"
      ]
     },
     "execution_count": 84,
     "metadata": {},
     "output_type": "execute_result"
    }
   ],
   "source": [
    "binor_model(model)"
   ]
  },
  {
   "cell_type": "markdown",
   "id": "84e66238-f621-412c-be77-ad91fef2ea73",
   "metadata": {
    "execution": {
     "iopub.execute_input": "2024-01-29T03:05:08.857313Z",
     "iopub.status.busy": "2024-01-29T03:05:08.857088Z",
     "iopub.status.idle": "2024-01-29T03:05:35.502273Z",
     "shell.execute_reply": "2024-01-29T03:05:35.499059Z",
     "shell.execute_reply.started": "2024-01-29T03:05:08.857291Z"
    }
   },
   "source": [
    "for name, module in model.named_modules():\n",
    "    #print([\" \",\"A\"][is_activation_class(module)], [\" \",\"W\"][hasattr(module, \"weight\")], name)\n",
    "    if hasattr(module, \"weight\"):\n",
    "        print(binor_all(module.weight), \"W\", name)\n",
    "    if hasattr(module, \"bias\"):\n",
    "        print(binor_all(module.weight), \"B\", name)"
   ]
  },
  {
   "cell_type": "code",
   "execution_count": 85,
   "id": "4e0a54c1-65f2-4b73-a0ff-0e7fcf8ca78c",
   "metadata": {
    "execution": {
     "iopub.execute_input": "2024-01-30T00:32:44.819713Z",
     "iopub.status.busy": "2024-01-30T00:32:44.819415Z",
     "iopub.status.idle": "2024-01-30T00:32:44.826150Z",
     "shell.execute_reply": "2024-01-30T00:32:44.825466Z",
     "shell.execute_reply.started": "2024-01-30T00:32:44.819689Z"
    }
   },
   "outputs": [
    {
     "name": "stdout",
     "output_type": "stream",
     "text": [
      "type(gact)=<class 'torch.nn.modules.activation.GELU'>\n"
     ]
    },
    {
     "data": {
      "text/plain": [
       "['1|01111010|10000000000000000000000',\n",
       " '1|01111011|01100000000000000000000',\n",
       " '1|01111100|00011000000000000000000',\n",
       " '1|01111100|01011000000000000000000',\n",
       " '1|01111100|00011000000000000000000',\n",
       " '0|00000000|00000000000000000000000',\n",
       " '0|01111101|00001100000000000000000',\n",
       " '0|01111110|01000010000000000000000',\n",
       " '0|01111111|00010000000000000000000',\n",
       " '0|01111111|10000011000000000000000',\n",
       " '0|01111111|11110100000000000000000']"
      ]
     },
     "execution_count": 85,
     "metadata": {},
     "output_type": "execute_result"
    }
   ],
   "source": [
    "gact = model.transformer.h[0].mlp.gelu\n",
    "print(f\"{type(gact)=}\")\n",
    "binstack(gact((torch.arange(11)-5.0)/2.5))"
   ]
  },
  {
   "cell_type": "markdown",
   "id": "7ff532af-a240-4c30-845a-ba3511f1deea",
   "metadata": {},
   "source": [
    "#### Get post-surgery logits"
   ]
  },
  {
   "cell_type": "code",
   "execution_count": 86,
   "id": "a133f39e-f41b-4749-8446-0b60d5d1fe58",
   "metadata": {
    "execution": {
     "iopub.execute_input": "2024-01-30T00:32:44.828323Z",
     "iopub.status.busy": "2024-01-30T00:32:44.828047Z",
     "iopub.status.idle": "2024-01-30T00:32:44.838417Z",
     "shell.execute_reply": "2024-01-30T00:32:44.837645Z",
     "shell.execute_reply.started": "2024-01-30T00:32:44.828301Z"
    }
   },
   "outputs": [],
   "source": [
    "config.model_record = []"
   ]
  },
  {
   "cell_type": "code",
   "execution_count": 87,
   "id": "10268d15-354e-415e-a0f1-db3b1adcee1b",
   "metadata": {
    "execution": {
     "iopub.execute_input": "2024-01-30T00:32:44.839937Z",
     "iopub.status.busy": "2024-01-30T00:32:44.839540Z",
     "iopub.status.idle": "2024-01-30T00:32:44.994085Z",
     "shell.execute_reply": "2024-01-30T00:32:44.993106Z",
     "shell.execute_reply.started": "2024-01-30T00:32:44.839904Z"
    }
   },
   "outputs": [],
   "source": [
    "y_post_surgery, loss = model(idx)\n",
    "cpu_model_record_post_surgery = config.model_record\n",
    "config.model_record = []"
   ]
  },
  {
   "cell_type": "markdown",
   "id": "22c6e7bb-550b-48c4-870b-3cbeaf0fbb06",
   "metadata": {},
   "source": [
    "#### Verify the weights are still quantized"
   ]
  },
  {
   "cell_type": "code",
   "execution_count": 88,
   "id": "63bde876-ee89-40bf-bf12-bd9ce0308d14",
   "metadata": {
    "execution": {
     "iopub.execute_input": "2024-01-30T00:32:44.995755Z",
     "iopub.status.busy": "2024-01-30T00:32:44.995363Z",
     "iopub.status.idle": "2024-01-30T00:32:45.200768Z",
     "shell.execute_reply": "2024-01-30T00:32:45.199888Z",
     "shell.execute_reply.started": "2024-01-30T00:32:44.995720Z"
    }
   },
   "outputs": [
    {
     "data": {
      "text/plain": [
       "'1||1111111|1|11111110000000000000000'"
      ]
     },
     "execution_count": 88,
     "metadata": {},
     "output_type": "execute_result"
    }
   ],
   "source": [
    "binor_model(model)"
   ]
  },
  {
   "cell_type": "code",
   "execution_count": 89,
   "id": "86d3a78b-9941-4cb6-8bb1-6205675e9e54",
   "metadata": {
    "execution": {
     "iopub.execute_input": "2024-01-30T00:32:45.202381Z",
     "iopub.status.busy": "2024-01-30T00:32:45.201990Z",
     "iopub.status.idle": "2024-01-30T00:32:45.209136Z",
     "shell.execute_reply": "2024-01-30T00:32:45.208307Z",
     "shell.execute_reply.started": "2024-01-30T00:32:45.202346Z"
    }
   },
   "outputs": [
    {
     "name": "stdout",
     "output_type": "stream",
     "text": [
      "torch.Size([1, 1, 50304]), torch.float32, (20.126220703125, -3.596728064276814, -23.976789474487305), 1.980e+01, cpu\n",
      "torch.Size([1, 1, 50304]), torch.float32, (22.6328125, -4.290519811421557, -26.8671875), 2.728e+01, cpu\n",
      "torch.Size([1, 1, 50304]), torch.float32, (2.506591796875, -0.6937917471180833, -3.5022177696228027), 7.810e-01, cpu\n"
     ]
    }
   ],
   "source": [
    "about(y_pre_surgery)\n",
    "about(y_post_surgery)\n",
    "about(y_post_surgery - y_pre_surgery)"
   ]
  },
  {
   "cell_type": "markdown",
   "id": "2e67a94f-04fd-457e-942b-7ddeb60412c6",
   "metadata": {},
   "source": [
    "#### View intermediate states of the model calculation"
   ]
  },
  {
   "cell_type": "markdown",
   "id": "7247f177-3a7d-47c0-ac3a-3ecd385512af",
   "metadata": {
    "execution": {
     "iopub.execute_input": "2024-01-29T05:36:44.727055Z",
     "iopub.status.busy": "2024-01-29T05:36:44.726691Z",
     "iopub.status.idle": "2024-01-29T05:36:44.732441Z",
     "shell.execute_reply": "2024-01-29T05:36:44.731436Z",
     "shell.execute_reply.started": "2024-01-29T05:36:44.727023Z"
    },
    "scrolled": true
   },
   "source": [
    "```python\n",
    "def view_record(model_record):\n",
    "    for name, t in model_record:\n",
    "        if hasattr(t, \"dtype\") and t.dtype == torch.float32:\n",
    "            #print(f32_delimit(binstack(bitwise_or_reduce(view_as_int32(t)))[0]), name)\n",
    "            print(binor(t), name)\n",
    "        else:\n",
    "            print(f\"{name} is {t}\")\n",
    "```"
   ]
  },
  {
   "cell_type": "code",
   "execution_count": 90,
   "id": "400fcb83-21e0-47c8-ba5e-9ff1eb2d7b5c",
   "metadata": {
    "execution": {
     "iopub.execute_input": "2024-01-30T00:32:45.210588Z",
     "iopub.status.busy": "2024-01-30T00:32:45.210213Z",
     "iopub.status.idle": "2024-01-30T00:32:45.319058Z",
     "shell.execute_reply": "2024-01-30T00:32:45.318241Z",
     "shell.execute_reply.started": "2024-01-30T00:32:45.210556Z"
    },
    "scrolled": true
   },
   "outputs": [
    {
     "name": "stdout",
     "output_type": "stream",
     "text": [
      "['1|01111111|11111100000000000000000'] transformer.wte\n",
      "['1|01111111|11111100000000000000000'] transformer.wpe\n",
      "['1|01111111|11111111000000000000000'] transformer.drop\n",
      "['1|11111111|11111111110000000000000'] transformer.h.0.ln_1\n",
      "['1|11111111|11111111110000000000000'] transformer.h.0.attn.c_attn\n",
      "['1|01111111|11111100000000000000000'] transformer.h.0.attn.c_proj\n",
      "['1|01111111|11111100000000000000000'] transformer.h.0.attn.resid_dropout\n",
      "['1|01111111|11111100000000000000000'] transformer.h.0.attn\n",
      "['1|11111111|11111111111111000000000'] transformer.h.0.ln_2\n",
      "['1|11111111|11111111111110000000000'] transformer.h.0.mlp.c_fc\n",
      "['1|11111111|11111111110110000000000'] transformer.h.0.mlp.gelu\n",
      "['1|11111111|11111111111100000000000'] transformer.h.0.mlp.c_proj\n",
      "['1|11111111|11111111111100000000000'] transformer.h.0.mlp.dropout\n",
      "['1|11111111|11111111111100000000000'] transformer.h.0.mlp\n",
      "['1|11111111|11111111111100000000000'] transformer.h.0\n",
      "['1|11111111|11111111111110000000000'] transformer.h.1.ln_1\n",
      "['1|11111111|11111111111100000000000'] transformer.h.1.attn.c_attn\n",
      "['1|01111111|11111111000000000000000'] transformer.h.1.attn.c_proj\n",
      "['1|01111111|11111111000000000000000'] transformer.h.1.attn.resid_dropout\n",
      "['1|01111111|11111111000000000000000'] transformer.h.1.attn\n",
      "['1|11111111|11111111111100000000000'] transformer.h.1.ln_2\n",
      "['1|11111111|11111111111000000000000'] transformer.h.1.mlp.c_fc\n",
      "['1|11111111|11111111110000000000000'] transformer.h.1.mlp.gelu\n",
      "['1|11111111|11111111101000000000000'] transformer.h.1.mlp.c_proj\n",
      "['1|11111111|11111111101000000000000'] transformer.h.1.mlp.dropout\n",
      "['1|11111111|11111111101000000000000'] transformer.h.1.mlp\n",
      "['1|11111111|11111111110000000000000'] transformer.h.1\n",
      "['1|11111111|11111111111110000000000'] transformer.h.2.ln_1\n",
      "['1|11111111|11111111111100000000000'] transformer.h.2.attn.c_attn\n",
      "['1|11111111|11111111000000000000000'] transformer.h.2.attn.c_proj\n",
      "['1|11111111|11111111000000000000000'] transformer.h.2.attn.resid_dropout\n",
      "['1|11111111|11111111000000000000000'] transformer.h.2.attn\n",
      "['1|11111111|11111111111110000000000'] transformer.h.2.ln_2\n",
      "['1|11111111|11111111111100000000000'] transformer.h.2.mlp.c_fc\n",
      "['1|11111111|11111111110100000000000'] transformer.h.2.mlp.gelu\n",
      "['1|11111111|11111111110000000000000'] transformer.h.2.mlp.c_proj\n",
      "['1|11111111|11111111110000000000000'] transformer.h.2.mlp.dropout\n",
      "['1|11111111|11111111110000000000000'] transformer.h.2.mlp\n",
      "['1|11111111|11111111111100000000000'] transformer.h.2\n",
      "['1|11111111|11111111111110000000000'] transformer.h.3.ln_1\n",
      "['1|11111111|11111111111100000000000'] transformer.h.3.attn.c_attn\n",
      "['1|11111111|11111111000000000000000'] transformer.h.3.attn.c_proj\n",
      "['1|11111111|11111111000000000000000'] transformer.h.3.attn.resid_dropout\n",
      "['1|11111111|11111111000000000000000'] transformer.h.3.attn\n",
      "['1|11111111|11111111111110000000000'] transformer.h.3.ln_2\n",
      "['1|11111111|11111111111110000000000'] transformer.h.3.mlp.c_fc\n",
      "['1|11111111|11111111111110000000000'] transformer.h.3.mlp.gelu\n",
      "['1|11111111|11111111110100000000000'] transformer.h.3.mlp.c_proj\n",
      "['1|11111111|11111111110100000000000'] transformer.h.3.mlp.dropout\n",
      "['1|11111111|11111111110100000000000'] transformer.h.3.mlp\n",
      "['1|11111111|11111111111110000000000'] transformer.h.3\n",
      "['1|11111111|11111111111110000000000'] transformer.h.4.ln_1\n",
      "['1|11111111|11111111111100000000000'] transformer.h.4.attn.c_attn\n",
      "['1|11111111|11111111111000000000000'] transformer.h.4.attn.c_proj\n",
      "['1|11111111|11111111111000000000000'] transformer.h.4.attn.resid_dropout\n",
      "['1|11111111|11111111111000000000000'] transformer.h.4.attn\n",
      "['1|11111111|11111111111100000000000'] transformer.h.4.ln_2\n",
      "['1|11111111|11111111111111000000000'] transformer.h.4.mlp.c_fc\n",
      "['1|11111111|11111111111111000000000'] transformer.h.4.mlp.gelu\n",
      "['1|11111111|11111111111111100000000'] transformer.h.4.mlp.c_proj\n",
      "['1|11111111|11111111111111100000000'] transformer.h.4.mlp.dropout\n",
      "['1|11111111|11111111111111100000000'] transformer.h.4.mlp\n",
      "['1|11111111|11111111111111100000000'] transformer.h.4\n",
      "['1|11111111|11111111111111000000000'] transformer.h.5.ln_1\n",
      "['1|11111111|11111111111000000000000'] transformer.h.5.attn.c_attn\n",
      "['1|11111111|11111111000000000000000'] transformer.h.5.attn.c_proj\n",
      "['1|11111111|11111111000000000000000'] transformer.h.5.attn.resid_dropout\n",
      "['1|11111111|11111111000000000000000'] transformer.h.5.attn\n",
      "['1|11111111|11111111111110000000000'] transformer.h.5.ln_2\n",
      "['1|11111111|11111111110000000000000'] transformer.h.5.mlp.c_fc\n",
      "['1|11111111|11111111110000000000000'] transformer.h.5.mlp.gelu\n",
      "['1|11111111|11111111101000000000000'] transformer.h.5.mlp.c_proj\n",
      "['1|11111111|11111111101000000000000'] transformer.h.5.mlp.dropout\n",
      "['1|11111111|11111111101000000000000'] transformer.h.5.mlp\n",
      "['1|11111111|11111111111111100000000'] transformer.h.5\n",
      "['1|11111111|11111111111111000000000'] transformer.h.6.ln_1\n",
      "['1|11111111|11111111111100000000000'] transformer.h.6.attn.c_attn\n",
      "['1|01111111|11111111000000000000000'] transformer.h.6.attn.c_proj\n",
      "['1|01111111|11111111000000000000000'] transformer.h.6.attn.resid_dropout\n",
      "['1|01111111|11111111000000000000000'] transformer.h.6.attn\n",
      "['1|11111111|11111111111100000000000'] transformer.h.6.ln_2\n",
      "['1|11111111|11111111110000000000000'] transformer.h.6.mlp.c_fc\n",
      "['1|11111111|11111111100000000000000'] transformer.h.6.mlp.gelu\n",
      "['1|11111111|11111111100000000000000'] transformer.h.6.mlp.c_proj\n",
      "['1|11111111|11111111100000000000000'] transformer.h.6.mlp.dropout\n",
      "['1|11111111|11111111100000000000000'] transformer.h.6.mlp\n",
      "['1|11111111|11111111111111100000000'] transformer.h.6\n",
      "['1|11111111|11111111111111000000000'] transformer.h.7.ln_1\n",
      "['1|11111111|11111111111000000000000'] transformer.h.7.attn.c_attn\n",
      "['1|01111111|11111111000000000000000'] transformer.h.7.attn.c_proj\n",
      "['1|01111111|11111111000000000000000'] transformer.h.7.attn.resid_dropout\n",
      "['1|01111111|11111111000000000000000'] transformer.h.7.attn\n",
      "['1|11111111|11111111111110000000000'] transformer.h.7.ln_2\n",
      "['1|11111111|11111111110000000000000'] transformer.h.7.mlp.c_fc\n",
      "['1|11111111|11111111110000000000000'] transformer.h.7.mlp.gelu\n",
      "['1|11111111|11111111100000000000000'] transformer.h.7.mlp.c_proj\n",
      "['1|11111111|11111111100000000000000'] transformer.h.7.mlp.dropout\n",
      "['1|11111111|11111111100000000000000'] transformer.h.7.mlp\n",
      "['1|11111111|11111111111111100000000'] transformer.h.7\n",
      "['1|11111111|11111111111111000000000'] transformer.h.8.ln_1\n",
      "['1|11111111|11111111111000000000000'] transformer.h.8.attn.c_attn\n",
      "['1|11111111|11111111100000000000000'] transformer.h.8.attn.c_proj\n",
      "['1|11111111|11111111100000000000000'] transformer.h.8.attn.resid_dropout\n",
      "['1|11111111|11111111100000000000000'] transformer.h.8.attn\n",
      "['1|11111111|11111111111100000000000'] transformer.h.8.ln_2\n",
      "['1|11111111|11111111110000000000000'] transformer.h.8.mlp.c_fc\n",
      "['1|11111111|11111111110000000000000'] transformer.h.8.mlp.gelu\n",
      "['1|11111111|11111111110000000000000'] transformer.h.8.mlp.c_proj\n",
      "['1|11111111|11111111110000000000000'] transformer.h.8.mlp.dropout\n",
      "['1|11111111|11111111110000000000000'] transformer.h.8.mlp\n",
      "['1|11111111|11111111111111000000000'] transformer.h.8\n",
      "['1|11111111|11111111111111000000000'] transformer.h.9.ln_1\n",
      "['1|11111111|11111111111100000000000'] transformer.h.9.attn.c_attn\n",
      "['1|11111111|11111111110000000000000'] transformer.h.9.attn.c_proj\n",
      "['1|11111111|11111111110000000000000'] transformer.h.9.attn.resid_dropout\n",
      "['1|11111111|11111111110000000000000'] transformer.h.9.attn\n",
      "['1|11111111|11111111111100000000000'] transformer.h.9.ln_2\n",
      "['1|11111111|11111111110000000000000'] transformer.h.9.mlp.c_fc\n",
      "['1|11111111|11111111110000000000000'] transformer.h.9.mlp.gelu\n",
      "['1|11111111|11111111110000000000000'] transformer.h.9.mlp.c_proj\n",
      "['1|11111111|11111111110000000000000'] transformer.h.9.mlp.dropout\n",
      "['1|11111111|11111111110000000000000'] transformer.h.9.mlp\n",
      "['1|11111111|11111111111111000000000'] transformer.h.9\n",
      "['1|11111111|11111111111100000000000'] transformer.h.10.ln_1\n",
      "['1|11111111|11111111110000000000000'] transformer.h.10.attn.c_attn\n",
      "['1|11111111|11111111110000000000000'] transformer.h.10.attn.c_proj\n",
      "['1|11111111|11111111110000000000000'] transformer.h.10.attn.resid_dropout\n",
      "['1|11111111|11111111110000000000000'] transformer.h.10.attn\n",
      "['1|11111111|11111111111100000000000'] transformer.h.10.ln_2\n",
      "['1|11111111|11111111110000000000000'] transformer.h.10.mlp.c_fc\n",
      "['1|11111111|11111111110000000000000'] transformer.h.10.mlp.gelu\n",
      "['1|11111111|11111111111100000000000'] transformer.h.10.mlp.c_proj\n",
      "['1|11111111|11111111111100000000000'] transformer.h.10.mlp.dropout\n",
      "['1|11111111|11111111111100000000000'] transformer.h.10.mlp\n",
      "['1|11111111|11111111111111100000000'] transformer.h.10\n",
      "['1|11111111|11111111111100000000000'] transformer.h.11.ln_1\n",
      "['1|11111111|11111111111100000000000'] transformer.h.11.attn.c_attn\n",
      "['1|11111111|11111111111111100000000'] transformer.h.11.attn.c_proj\n",
      "['1|11111111|11111111111111100000000'] transformer.h.11.attn.resid_dropout\n",
      "['1|11111111|11111111111111100000000'] transformer.h.11.attn\n",
      "['1|11111111|11111111111100000000000'] transformer.h.11.ln_2\n",
      "['1|11111111|11111111111000000000000'] transformer.h.11.mlp.c_fc\n",
      "['1|11111111|11111111110000000000000'] transformer.h.11.mlp.gelu\n",
      "['1|11111111|11111111111100000000000'] transformer.h.11.mlp.c_proj\n",
      "['1|11111111|11111111111100000000000'] transformer.h.11.mlp.dropout\n",
      "['1|11111111|11111111111100000000000'] transformer.h.11.mlp\n",
      "['1|11111111|11111111111100000000000'] transformer.h.11\n",
      "['1|11111111|11111111111111000000000'] transformer.ln_f\n",
      "['1|11111111|11111111111100000000000'] lm_head\n",
      " is (tensor([[[  4.6367,   2.7539,   4.9844,  ..., -12.4727, -12.4805, -12.4805]]]), None)\n"
     ]
    }
   ],
   "source": [
    "view_record(cpu_model_record_post_surgery)"
   ]
  },
  {
   "cell_type": "code",
   "execution_count": 91,
   "id": "e2ead00f-a9bd-450a-96dc-e00cb145706f",
   "metadata": {
    "execution": {
     "iopub.execute_input": "2024-01-30T00:32:45.320758Z",
     "iopub.status.busy": "2024-01-30T00:32:45.320373Z",
     "iopub.status.idle": "2024-01-30T00:32:45.324263Z",
     "shell.execute_reply": "2024-01-30T00:32:45.323576Z",
     "shell.execute_reply.started": "2024-01-30T00:32:45.320725Z"
    },
    "scrolled": true
   },
   "outputs": [],
   "source": [
    "#config.model_record[3][0], binstack(config.model_record[3][1])"
   ]
  },
  {
   "cell_type": "code",
   "execution_count": 92,
   "id": "95763c39-cbdb-45a4-8eb3-21e70b02ff50",
   "metadata": {
    "execution": {
     "iopub.execute_input": "2024-01-30T00:32:45.325627Z",
     "iopub.status.busy": "2024-01-30T00:32:45.325264Z",
     "iopub.status.idle": "2024-01-30T00:32:45.334070Z",
     "shell.execute_reply": "2024-01-30T00:32:45.333385Z",
     "shell.execute_reply.started": "2024-01-30T00:32:45.325595Z"
    }
   },
   "outputs": [
    {
     "name": "stdout",
     "output_type": "stream",
     "text": [
      "torch.Size([768]), torch.float32, (1.75, 0.60345458984375, 0.28125), 3.747e-01, cpu\n"
     ]
    }
   ],
   "source": [
    "about(model.transformer.h[0].ln_1.weight)"
   ]
  },
  {
   "cell_type": "code",
   "execution_count": 93,
   "id": "1c7a0d69-8fbf-42f3-b1a6-f4f43f889b2a",
   "metadata": {
    "execution": {
     "iopub.execute_input": "2024-01-30T00:32:45.335458Z",
     "iopub.status.busy": "2024-01-30T00:32:45.335076Z",
     "iopub.status.idle": "2024-01-30T00:32:45.342903Z",
     "shell.execute_reply": "2024-01-30T00:32:45.342041Z",
     "shell.execute_reply.started": "2024-01-30T00:32:45.335427Z"
    }
   },
   "outputs": [],
   "source": [
    "#assert 0"
   ]
  },
  {
   "cell_type": "markdown",
   "id": "4abb9e92-7146-46cb-9381-b4a084571ad5",
   "metadata": {},
   "source": [
    "## Try on cuda"
   ]
  },
  {
   "cell_type": "code",
   "execution_count": 94,
   "id": "248c53f7-072a-4307-b3ad-4b30278c4d91",
   "metadata": {
    "execution": {
     "iopub.execute_input": "2024-01-30T00:32:45.344346Z",
     "iopub.status.busy": "2024-01-30T00:32:45.343988Z",
     "iopub.status.idle": "2024-01-30T00:32:45.731810Z",
     "shell.execute_reply": "2024-01-30T00:32:45.731063Z",
     "shell.execute_reply.started": "2024-01-30T00:32:45.344314Z"
    }
   },
   "outputs": [
    {
     "name": "stdout",
     "output_type": "stream",
     "text": [
      "model_g.training=False, host_device_of(model_g)=device(type='cuda', index=0)\n"
     ]
    }
   ],
   "source": [
    "# Copy surgically-altered model to GPU\n",
    "model_g = copy.deepcopy(model).to('cuda')\n",
    "print(f\"{model_g.training=}, {host_device_of(model_g)=}\")"
   ]
  },
  {
   "cell_type": "code",
   "execution_count": 95,
   "id": "af2b69ce-c49a-4ec3-a5e1-8ac834fcc6cd",
   "metadata": {
    "execution": {
     "iopub.execute_input": "2024-01-30T00:32:45.735638Z",
     "iopub.status.busy": "2024-01-30T00:32:45.735418Z",
     "iopub.status.idle": "2024-01-30T00:32:45.923777Z",
     "shell.execute_reply": "2024-01-30T00:32:45.922860Z",
     "shell.execute_reply.started": "2024-01-30T00:32:45.735618Z"
    }
   },
   "outputs": [
    {
     "data": {
      "text/plain": [
       "True"
      ]
     },
     "execution_count": 95,
     "metadata": {},
     "output_type": "execute_result"
    }
   ],
   "source": [
    "all(torch.all(c==g.to('cpu')) for c,g in zip(model.parameters(), model_g.parameters()))"
   ]
  },
  {
   "cell_type": "code",
   "execution_count": 96,
   "id": "1c421118-17ba-4aa1-b726-435f21a29610",
   "metadata": {
    "execution": {
     "iopub.execute_input": "2024-01-30T00:32:45.925389Z",
     "iopub.status.busy": "2024-01-30T00:32:45.925005Z",
     "iopub.status.idle": "2024-01-30T00:32:45.984228Z",
     "shell.execute_reply": "2024-01-30T00:32:45.983399Z",
     "shell.execute_reply.started": "2024-01-30T00:32:45.925355Z"
    }
   },
   "outputs": [],
   "source": [
    "yg_post_surgery, loss = model_g(idx.to(host_device_of(model_g)))\n",
    "gpu_model_record_post_surgery = config.model_record\n",
    "config.model_record = []"
   ]
  },
  {
   "cell_type": "code",
   "execution_count": 97,
   "id": "b8c606d1-8cab-4d0d-8009-9cecaf7c69e6",
   "metadata": {
    "execution": {
     "iopub.execute_input": "2024-01-30T00:32:45.985668Z",
     "iopub.status.busy": "2024-01-30T00:32:45.985297Z",
     "iopub.status.idle": "2024-01-30T00:32:46.133020Z",
     "shell.execute_reply": "2024-01-30T00:32:46.131638Z",
     "shell.execute_reply.started": "2024-01-30T00:32:45.985636Z"
    },
    "scrolled": true
   },
   "outputs": [
    {
     "name": "stdout",
     "output_type": "stream",
     "text": [
      "['1|01111111|11111100000000000000000'] transformer.wte\n",
      "['1|01111111|11111100000000000000000'] transformer.wpe\n",
      "['1|01111111|11111111000000000000000'] transformer.drop\n",
      "['1|11111111|11111111110000000000000'] transformer.h.0.ln_1\n",
      "['1|11111111|11111111110000000000000'] transformer.h.0.attn.c_attn\n",
      "['1|01111111|11111100000000000000000'] transformer.h.0.attn.c_proj\n",
      "['1|01111111|11111100000000000000000'] transformer.h.0.attn.resid_dropout\n",
      "['1|01111111|11111100000000000000000'] transformer.h.0.attn\n",
      "['1|11111111|11111111111111000000000'] transformer.h.0.ln_2\n",
      "['1|11111111|11111111111110000000000'] transformer.h.0.mlp.c_fc\n",
      "['1|11111111|11111111111110000000000'] transformer.h.0.mlp.gelu\n",
      "['1|11111111|11111111111100000000000'] transformer.h.0.mlp.c_proj\n",
      "['1|11111111|11111111111100000000000'] transformer.h.0.mlp.dropout\n",
      "['1|11111111|11111111111100000000000'] transformer.h.0.mlp\n",
      "['1|11111111|11111111111100000000000'] transformer.h.0\n",
      "['1|11111111|11111111111110000000000'] transformer.h.1.ln_1\n",
      "['1|11111111|11111111111100000000000'] transformer.h.1.attn.c_attn\n",
      "['1|01111111|11111111000000000000000'] transformer.h.1.attn.c_proj\n",
      "['1|01111111|11111111000000000000000'] transformer.h.1.attn.resid_dropout\n",
      "['1|01111111|11111111000000000000000'] transformer.h.1.attn\n",
      "['1|11111111|11111111111100000000000'] transformer.h.1.ln_2\n",
      "['1|11111111|11111111111000000000000'] transformer.h.1.mlp.c_fc\n",
      "['1|11111111|11111111111000000000000'] transformer.h.1.mlp.gelu\n",
      "['1|11111111|11111111111000000000000'] transformer.h.1.mlp.c_proj\n",
      "['1|11111111|11111111111000000000000'] transformer.h.1.mlp.dropout\n",
      "['1|11111111|11111111111000000000000'] transformer.h.1.mlp\n",
      "['1|11111111|11111111110000000000000'] transformer.h.1\n",
      "['1|11111111|11111111111110000000000'] transformer.h.2.ln_1\n",
      "['1|11111111|11111111111100000000000'] transformer.h.2.attn.c_attn\n",
      "['1|11111111|11111111100000000000000'] transformer.h.2.attn.c_proj\n",
      "['1|11111111|11111111100000000000000'] transformer.h.2.attn.resid_dropout\n",
      "['1|11111111|11111111100000000000000'] transformer.h.2.attn\n",
      "['1|11111111|11111111111110000000000'] transformer.h.2.ln_2\n",
      "['1|11111111|11111111111100000000000'] transformer.h.2.mlp.c_fc\n",
      "['1|11111111|11111111111100000000000'] transformer.h.2.mlp.gelu\n",
      "['1|11111111|11111111111100000000000'] transformer.h.2.mlp.c_proj\n",
      "['1|11111111|11111111111100000000000'] transformer.h.2.mlp.dropout\n",
      "['1|11111111|11111111111100000000000'] transformer.h.2.mlp\n",
      "['1|11111111|11111111111000000000000'] transformer.h.2\n",
      "['1|11111111|11111111111110000000000'] transformer.h.3.ln_1\n",
      "['1|11111111|11111111111100000000000'] transformer.h.3.attn.c_attn\n",
      "['1|11111111|11111111000000000000000'] transformer.h.3.attn.c_proj\n",
      "['1|11111111|11111111000000000000000'] transformer.h.3.attn.resid_dropout\n",
      "['1|11111111|11111111000000000000000'] transformer.h.3.attn\n",
      "['1|11111111|11111111111110000000000'] transformer.h.3.ln_2\n",
      "['1|11111111|11111111111000000000000'] transformer.h.3.mlp.c_fc\n",
      "['1|11111111|11111111111000000000000'] transformer.h.3.mlp.gelu\n",
      "['1|11111111|11111111100000000000000'] transformer.h.3.mlp.c_proj\n",
      "['1|11111111|11111111100000000000000'] transformer.h.3.mlp.dropout\n",
      "['1|11111111|11111111100000000000000'] transformer.h.3.mlp\n",
      "['1|11111111|11111111111110000000000'] transformer.h.3\n",
      "['1|11111111|11111111111110000000000'] transformer.h.4.ln_1\n",
      "['1|11111111|11111111111100000000000'] transformer.h.4.attn.c_attn\n",
      "['1|11111111|11111111111000000000000'] transformer.h.4.attn.c_proj\n",
      "['1|11111111|11111111111000000000000'] transformer.h.4.attn.resid_dropout\n",
      "['1|11111111|11111111111000000000000'] transformer.h.4.attn\n",
      "['1|11111111|11111111111100000000000'] transformer.h.4.ln_2\n",
      "['1|11111111|11111111111111000000000'] transformer.h.4.mlp.c_fc\n",
      "['1|11111111|11111111111111000000000'] transformer.h.4.mlp.gelu\n",
      "['1|11111111|11111111111111100000000'] transformer.h.4.mlp.c_proj\n",
      "['1|11111111|11111111111111100000000'] transformer.h.4.mlp.dropout\n",
      "['1|11111111|11111111111111100000000'] transformer.h.4.mlp\n",
      "['1|11111111|11111111111111100000000'] transformer.h.4\n",
      "['1|11111111|11111111111111000000000'] transformer.h.5.ln_1\n",
      "['1|11111111|11111111111000000000000'] transformer.h.5.attn.c_attn\n",
      "['1|11111111|11111111100000000000000'] transformer.h.5.attn.c_proj\n",
      "['1|11111111|11111111100000000000000'] transformer.h.5.attn.resid_dropout\n",
      "['1|11111111|11111111100000000000000'] transformer.h.5.attn\n",
      "['1|11111111|11111111111100000000000'] transformer.h.5.ln_2\n",
      "['1|11111111|11111111110000000000000'] transformer.h.5.mlp.c_fc\n",
      "['1|11111111|11111111110000000000000'] transformer.h.5.mlp.gelu\n",
      "['1|11111111|11111111111000000000000'] transformer.h.5.mlp.c_proj\n",
      "['1|11111111|11111111111000000000000'] transformer.h.5.mlp.dropout\n",
      "['1|11111111|11111111111000000000000'] transformer.h.5.mlp\n",
      "['1|11111111|11111111111111100000000'] transformer.h.5\n",
      "['1|11111111|11111111111111000000000'] transformer.h.6.ln_1\n",
      "['1|11111111|11111111111100000000000'] transformer.h.6.attn.c_attn\n",
      "['1|01111111|11111111000000000000000'] transformer.h.6.attn.c_proj\n",
      "['1|01111111|11111111000000000000000'] transformer.h.6.attn.resid_dropout\n",
      "['1|01111111|11111111000000000000000'] transformer.h.6.attn\n",
      "['1|11111111|11111111111110000000000'] transformer.h.6.ln_2\n",
      "['1|11111111|11111111110000000000000'] transformer.h.6.mlp.c_fc\n",
      "['1|11111111|11111111100000000000000'] transformer.h.6.mlp.gelu\n",
      "['1|11111111|11111111100000000000000'] transformer.h.6.mlp.c_proj\n",
      "['1|11111111|11111111100000000000000'] transformer.h.6.mlp.dropout\n",
      "['1|11111111|11111111100000000000000'] transformer.h.6.mlp\n",
      "['1|11111111|11111111111111100000000'] transformer.h.6\n",
      "['1|11111111|11111111111110000000000'] transformer.h.7.ln_1\n",
      "['1|11111111|11111111111000000000000'] transformer.h.7.attn.c_attn\n",
      "['1|01111111|11111111000000000000000'] transformer.h.7.attn.c_proj\n",
      "['1|01111111|11111111000000000000000'] transformer.h.7.attn.resid_dropout\n",
      "['1|01111111|11111111000000000000000'] transformer.h.7.attn\n",
      "['1|11111111|11111111111100000000000'] transformer.h.7.ln_2\n",
      "['1|11111111|11111111110000000000000'] transformer.h.7.mlp.c_fc\n",
      "['1|11111111|11111111100000000000000'] transformer.h.7.mlp.gelu\n",
      "['1|11111111|11111111100000000000000'] transformer.h.7.mlp.c_proj\n",
      "['1|11111111|11111111100000000000000'] transformer.h.7.mlp.dropout\n",
      "['1|11111111|11111111100000000000000'] transformer.h.7.mlp\n",
      "['1|11111111|11111111111101100000000'] transformer.h.7\n",
      "['1|11111111|11111111111111000000000'] transformer.h.8.ln_1\n",
      "['1|11111111|11111111111000000000000'] transformer.h.8.attn.c_attn\n",
      "['1|11111111|11111111100000000000000'] transformer.h.8.attn.c_proj\n",
      "['1|11111111|11111111100000000000000'] transformer.h.8.attn.resid_dropout\n",
      "['1|11111111|11111111100000000000000'] transformer.h.8.attn\n",
      "['1|11111111|11111111111110000000000'] transformer.h.8.ln_2\n",
      "['1|11111111|11111111110000000000000'] transformer.h.8.mlp.c_fc\n",
      "['1|11111111|11111111110000000000000'] transformer.h.8.mlp.gelu\n",
      "['1|11111111|11111111110000000000000'] transformer.h.8.mlp.c_proj\n",
      "['1|11111111|11111111110000000000000'] transformer.h.8.mlp.dropout\n",
      "['1|11111111|11111111110000000000000'] transformer.h.8.mlp\n",
      "['1|11111111|11111111111101100000000'] transformer.h.8\n",
      "['1|11111111|11111111111111000000000'] transformer.h.9.ln_1\n",
      "['1|11111111|11111111111100000000000'] transformer.h.9.attn.c_attn\n",
      "['1|11111111|11111111110000000000000'] transformer.h.9.attn.c_proj\n",
      "['1|11111111|11111111110000000000000'] transformer.h.9.attn.resid_dropout\n",
      "['1|11111111|11111111110000000000000'] transformer.h.9.attn\n",
      "['1|11111111|11111111111100000000000'] transformer.h.9.ln_2\n",
      "['1|11111111|11111111110000000000000'] transformer.h.9.mlp.c_fc\n",
      "['1|11111111|11111111110000000000000'] transformer.h.9.mlp.gelu\n",
      "['1|11111111|11111111100000000000000'] transformer.h.9.mlp.c_proj\n",
      "['1|11111111|11111111100000000000000'] transformer.h.9.mlp.dropout\n",
      "['1|11111111|11111111100000000000000'] transformer.h.9.mlp\n",
      "['1|11111111|11111111111111100000000'] transformer.h.9\n",
      "['1|11111111|11111111111100000000000'] transformer.h.10.ln_1\n",
      "['1|11111111|11111111111000000000000'] transformer.h.10.attn.c_attn\n",
      "['1|11111111|11111111110000000000000'] transformer.h.10.attn.c_proj\n",
      "['1|11111111|11111111110000000000000'] transformer.h.10.attn.resid_dropout\n",
      "['1|11111111|11111111110000000000000'] transformer.h.10.attn\n",
      "['1|11111111|11111111111100000000000'] transformer.h.10.ln_2\n",
      "['1|11111111|11111111110000000000000'] transformer.h.10.mlp.c_fc\n",
      "['1|11111111|11111111110000000000000'] transformer.h.10.mlp.gelu\n",
      "['1|11111111|11111111111110000000000'] transformer.h.10.mlp.c_proj\n",
      "['1|11111111|11111111111110000000000'] transformer.h.10.mlp.dropout\n",
      "['1|11111111|11111111111110000000000'] transformer.h.10.mlp\n",
      "['1|11111111|11111111111111100000000'] transformer.h.10\n",
      "['1|11111111|11111111111110000000000'] transformer.h.11.ln_1\n",
      "['1|11111111|11111111111100000000000'] transformer.h.11.attn.c_attn\n",
      "['1|11111111|11111111111111100000000'] transformer.h.11.attn.c_proj\n",
      "['1|11111111|11111111111111100000000'] transformer.h.11.attn.resid_dropout\n",
      "['1|11111111|11111111111111100000000'] transformer.h.11.attn\n",
      "['1|11111111|11111111111100000000000'] transformer.h.11.ln_2\n",
      "['1|11111111|11111111111000000000000'] transformer.h.11.mlp.c_fc\n",
      "['1|11111111|11111111111000000000000'] transformer.h.11.mlp.gelu\n",
      "['1|11111111|11111111111100000000000'] transformer.h.11.mlp.c_proj\n",
      "['1|11111111|11111111111100000000000'] transformer.h.11.mlp.dropout\n",
      "['1|11111111|11111111111100000000000'] transformer.h.11.mlp\n",
      "['1|11111111|11111111111110000000000'] transformer.h.11\n",
      "['1|11111111|11111111111111000000000'] transformer.ln_f\n",
      "['1|11111111|11111111111100000000000'] lm_head\n",
      " is (tensor([[[  4.6055,   2.7227,   4.9492,  ..., -12.3281, -12.3320, -12.3320]]],\n",
      "       device='cuda:0'), None)\n"
     ]
    }
   ],
   "source": [
    "view_record(gpu_model_record_post_surgery)"
   ]
  },
  {
   "cell_type": "markdown",
   "id": "9c96f83c-5abf-4442-8bec-207faefd50ff",
   "metadata": {},
   "source": [
    "## Compare model intermediates CPU to GPU"
   ]
  },
  {
   "cell_type": "code",
   "execution_count": 98,
   "id": "72b25d2c-00b3-44a8-bce3-b7e636c09efe",
   "metadata": {
    "execution": {
     "iopub.execute_input": "2024-01-30T00:32:46.135087Z",
     "iopub.status.busy": "2024-01-30T00:32:46.134618Z",
     "iopub.status.idle": "2024-01-30T00:32:46.330411Z",
     "shell.execute_reply": "2024-01-30T00:32:46.329430Z",
     "shell.execute_reply.started": "2024-01-30T00:32:46.135040Z"
    },
    "scrolled": true
   },
   "outputs": [
    {
     "name": "stdout",
     "output_type": "stream",
     "text": [
      "transformer.wte\n",
      "torch.Size([1, 62, 768]), torch.float32, (0.0, 0.0, 0.0), 0.000e+00, cpu\n",
      "transformer.wpe\n",
      "torch.Size([62, 768]), torch.float32, (0.0, 0.0, 0.0), 0.000e+00, cpu\n",
      "transformer.drop\n",
      "torch.Size([1, 62, 768]), torch.float32, (0.0, 0.0, 0.0), 0.000e+00, cpu\n",
      "transformer.h.0.ln_1\n",
      "torch.Size([1, 62, 768]), torch.float32, (0.0, 0.0, 0.0), 0.000e+00, cpu\n",
      "transformer.h.0.attn.c_attn\n",
      "torch.Size([1, 62, 2304]), torch.float32, (0.0, 0.0, 0.0), 0.000e+00, cpu\n",
      "transformer.h.0.attn.c_proj\n",
      "torch.Size([1, 62, 768]), torch.float32, (0.00390625, -3.2814600134408605e-07, -0.00390625), 3.205e-09, cpu\n",
      "transformer.h.0.attn.resid_dropout\n",
      "torch.Size([1, 62, 768]), torch.float32, (0.00390625, -3.2814600134408605e-07, -0.00390625), 3.205e-09, cpu\n",
      "transformer.h.0.attn\n",
      "torch.Size([1, 62, 768]), torch.float32, (0.00390625, -3.2814600134408605e-07, -0.00390625), 3.205e-09, cpu\n",
      "transformer.h.0.ln_2\n",
      "torch.Size([1, 62, 768]), torch.float32, (0.17578125, 9.024015036962366e-07, -0.19921875), 6.969e-06, cpu\n",
      "transformer.h.0.mlp.c_fc\n",
      "torch.Size([1, 62, 3072]), torch.float32, (0.109375, -9.618779664398521e-06, -0.02734375), 3.618e-06, cpu\n",
      "transformer.h.0.mlp.gelu\n",
      "torch.Size([1, 62, 3072]), torch.float32, (0.015625, -1.0398126417590725e-05, -0.02734375), 4.013e-07, cpu\n",
      "transformer.h.0.mlp.c_proj\n",
      "torch.Size([1, 62, 768]), torch.float32, (0.0078125, 5.660518523185484e-06, -0.01171875), 1.142e-06, cpu\n",
      "transformer.h.0.mlp.dropout\n",
      "torch.Size([1, 62, 768]), torch.float32, (0.0078125, 5.660518523185484e-06, -0.01171875), 1.142e-06, cpu\n",
      "transformer.h.0.mlp\n",
      "torch.Size([1, 62, 768]), torch.float32, (0.0078125, 5.660518523185484e-06, -0.01171875), 1.142e-06, cpu\n",
      "transformer.h.0\n",
      "torch.Size([1, 62, 768]), torch.float32, (0.0078125, 5.332372521841398e-06, -0.01171875), 1.146e-06, cpu\n",
      "transformer.h.1.ln_1\n",
      "torch.Size([1, 62, 768]), torch.float32, (0.0859375, -1.2141402049731182e-05, -0.1484375), 2.568e-05, cpu\n",
      "transformer.h.1.attn.c_attn\n",
      "torch.Size([1, 62, 2304]), torch.float32, (0.0625, -3.0298814124103944e-05, -0.05859375), 1.518e-05, cpu\n",
      "transformer.h.1.attn.c_proj\n",
      "torch.Size([1, 62, 768]), torch.float32, (0.0078125, -6.809029527889785e-06, -0.01171875), 2.061e-06, cpu\n",
      "transformer.h.1.attn.resid_dropout\n",
      "torch.Size([1, 62, 768]), torch.float32, (0.0078125, -6.809029527889785e-06, -0.01171875), 2.061e-06, cpu\n",
      "transformer.h.1.attn\n",
      "torch.Size([1, 62, 768]), torch.float32, (0.0078125, -6.809029527889785e-06, -0.01171875), 2.061e-06, cpu\n",
      "transformer.h.1.ln_2\n",
      "torch.Size([1, 62, 768]), torch.float32, (0.06640625, -7.62939453125e-06, -0.06640625), 9.904e-05, cpu\n",
      "transformer.h.1.mlp.c_fc\n",
      "torch.Size([1, 62, 3072]), torch.float32, (0.08203125, -1.892992245253696e-05, -0.09765625), 2.892e-05, cpu\n",
      "transformer.h.1.mlp.gelu\n",
      "torch.Size([1, 62, 3072]), torch.float32, (0.0546875, -6.193755775369623e-06, -0.0390625), 2.361e-06, cpu\n",
      "transformer.h.1.mlp.c_proj\n",
      "torch.Size([1, 62, 768]), torch.float32, (0.01171875, 9.84438004032258e-07, -0.0078125), 3.787e-06, cpu\n",
      "transformer.h.1.mlp.dropout\n",
      "torch.Size([1, 62, 768]), torch.float32, (0.01171875, 9.84438004032258e-07, -0.0078125), 3.787e-06, cpu\n",
      "transformer.h.1.mlp\n",
      "torch.Size([1, 62, 768]), torch.float32, (0.01171875, 9.84438004032258e-07, -0.0078125), 3.787e-06, cpu\n",
      "transformer.h.1\n",
      "torch.Size([1, 62, 768]), torch.float32, (0.01953125, -4.92219002016129e-07, -0.01171875), 6.069e-06, cpu\n",
      "transformer.h.2.ln_1\n",
      "torch.Size([1, 62, 768]), torch.float32, (0.06640625, 1.0090489541330645e-05, -0.07421875), 1.442e-04, cpu\n",
      "transformer.h.2.attn.c_attn\n",
      "torch.Size([1, 62, 2304]), torch.float32, (0.140625, -4.049868566588262e-05, -0.08984375), 8.878e-05, cpu\n",
      "transformer.h.2.attn.c_proj\n",
      "torch.Size([1, 62, 768]), torch.float32, (0.01171875, 7.301248529905914e-06, -0.01171875), 4.230e-06, cpu\n",
      "transformer.h.2.attn.resid_dropout\n",
      "torch.Size([1, 62, 768]), torch.float32, (0.01171875, 7.301248529905914e-06, -0.01171875), 4.230e-06, cpu\n",
      "transformer.h.2.attn\n",
      "torch.Size([1, 62, 768]), torch.float32, (0.01171875, 7.301248529905914e-06, -0.01171875), 4.230e-06, cpu\n",
      "transformer.h.2.ln_2\n",
      "torch.Size([1, 62, 768]), torch.float32, (0.140625, -2.6251680107526884e-06, -0.109375), 3.823e-04, cpu\n",
      "transformer.h.2.mlp.c_fc\n",
      "torch.Size([1, 62, 3072]), torch.float32, (0.16015625, 0.0002984077699722782, -0.125), 1.674e-04, cpu\n",
      "transformer.h.2.mlp.gelu\n",
      "torch.Size([1, 62, 3072]), torch.float32, (0.1015625, -3.6383187899025536e-05, -0.0703125), 9.339e-06, cpu\n",
      "transformer.h.2.mlp.c_proj\n",
      "torch.Size([1, 62, 768]), torch.float32, (0.0546875, 1.845821257560484e-05, -0.01953125), 9.432e-06, cpu\n",
      "transformer.h.2.mlp.dropout\n",
      "torch.Size([1, 62, 768]), torch.float32, (0.0546875, 1.845821257560484e-05, -0.01953125), 9.432e-06, cpu\n",
      "transformer.h.2.mlp\n",
      "torch.Size([1, 62, 768]), torch.float32, (0.0546875, 1.845821257560484e-05, -0.01953125), 9.432e-06, cpu\n",
      "transformer.h.2\n",
      "torch.Size([1, 62, 768]), torch.float32, (0.046875, 2.5267242103494625e-05, -0.0234375), 1.637e-05, cpu\n",
      "transformer.h.3.ln_1\n",
      "torch.Size([1, 62, 768]), torch.float32, (0.0859375, -2.0098942582325268e-05, -0.109375), 2.791e-04, cpu\n",
      "transformer.h.3.attn.c_attn\n",
      "torch.Size([1, 62, 2304]), torch.float32, (0.09375, 3.787351765512993e-05, -0.11328125), 1.620e-04, cpu\n",
      "transformer.h.3.attn.c_proj\n",
      "torch.Size([1, 62, 768]), torch.float32, (0.0234375, 7.301248529905914e-06, -0.01953125), 6.684e-06, cpu\n",
      "transformer.h.3.attn.resid_dropout\n",
      "torch.Size([1, 62, 768]), torch.float32, (0.0234375, 7.301248529905914e-06, -0.01953125), 6.684e-06, cpu\n",
      "transformer.h.3.attn\n",
      "torch.Size([1, 62, 768]), torch.float32, (0.0234375, 7.301248529905914e-06, -0.01953125), 6.684e-06, cpu\n",
      "transformer.h.3.ln_2\n",
      "torch.Size([1, 62, 768]), torch.float32, (0.2265625, 1.0336599042338709e-05, -0.12109375), 4.555e-04, cpu\n",
      "transformer.h.3.mlp.c_fc\n",
      "torch.Size([1, 62, 3072]), torch.float32, (0.09375, 0.0007481113556892642, -0.08203125), 1.857e-04, cpu\n",
      "transformer.h.3.mlp.gelu\n",
      "torch.Size([1, 62, 3072]), torch.float32, (0.078125, 1.1608164797547043e-05, -0.05859375), 1.591e-05, cpu\n",
      "transformer.h.3.mlp.c_proj\n",
      "torch.Size([1, 62, 768]), torch.float32, (0.04296875, -6.726993027553763e-06, -0.02734375), 1.506e-05, cpu\n",
      "transformer.h.3.mlp.dropout\n",
      "torch.Size([1, 62, 768]), torch.float32, (0.04296875, -6.726993027553763e-06, -0.02734375), 1.506e-05, cpu\n",
      "transformer.h.3.mlp\n",
      "torch.Size([1, 62, 768]), torch.float32, (0.04296875, -6.726993027553763e-06, -0.02734375), 1.506e-05, cpu\n",
      "transformer.h.3\n",
      "torch.Size([1, 62, 768]), torch.float32, (0.0859375, 2.5841497605846775e-05, -0.03125), 2.615e-05, cpu\n",
      "transformer.h.4.ln_1\n",
      "torch.Size([1, 62, 768]), torch.float32, (0.18359375, -2.3052256594422043e-05, -0.140625), 4.186e-04, cpu\n",
      "transformer.h.4.attn.c_attn\n",
      "torch.Size([1, 62, 2304]), torch.float32, (0.09765625, -0.00010705763293850807, -0.140625), 2.331e-04, cpu\n",
      "transformer.h.4.attn.c_proj\n",
      "torch.Size([1, 62, 768]), torch.float32, (0.03515625, -7.055139028897849e-06, -0.0625), 9.089e-06, cpu\n",
      "transformer.h.4.attn.resid_dropout\n",
      "torch.Size([1, 62, 768]), torch.float32, (0.03515625, -7.055139028897849e-06, -0.0625), 9.089e-06, cpu\n",
      "transformer.h.4.attn\n",
      "torch.Size([1, 62, 768]), torch.float32, (0.03515625, -7.055139028897849e-06, -0.0625), 9.089e-06, cpu\n",
      "transformer.h.4.ln_2\n",
      "torch.Size([1, 62, 768]), torch.float32, (0.3515625, -4.758117019489247e-06, -0.2109375), 4.545e-04, cpu\n",
      "transformer.h.4.mlp.c_fc\n",
      "torch.Size([1, 62, 3072]), torch.float32, (0.65234375, 0.0006759602536437332, -0.44921875), 2.197e-04, cpu\n",
      "transformer.h.4.mlp.gelu\n",
      "torch.Size([1, 62, 3072]), torch.float32, (0.65234375, 3.226085375714046e-05, -0.23828125), 2.566e-05, cpu\n",
      "transformer.h.4.mlp.c_proj\n",
      "torch.Size([1, 62, 768]), torch.float32, (1.51171875, 1.148511004704301e-05, -0.5703125), 7.737e-05, cpu\n",
      "transformer.h.4.mlp.dropout\n",
      "torch.Size([1, 62, 768]), torch.float32, (1.51171875, 1.148511004704301e-05, -0.5703125), 7.737e-05, cpu\n",
      "transformer.h.4.mlp\n",
      "torch.Size([1, 62, 768]), torch.float32, (1.51171875, 1.148511004704301e-05, -0.5703125), 7.737e-05, cpu\n",
      "transformer.h.4\n",
      "torch.Size([1, 62, 768]), torch.float32, (1.53515625, 3.0271468623991936e-05, -0.53515625), 9.249e-05, cpu\n",
      "transformer.h.5.ln_1\n",
      "torch.Size([1, 62, 768]), torch.float32, (0.32421875, 1.361805905577957e-05, -0.23828125), 5.721e-04, cpu\n",
      "transformer.h.5.attn.c_attn\n",
      "torch.Size([1, 62, 2304]), torch.float32, (0.1015625, 6.803560427867383e-05, -0.11328125), 2.533e-04, cpu\n",
      "transformer.h.5.attn.c_proj\n",
      "torch.Size([1, 62, 768]), torch.float32, (0.01953125, -4.92219002016129e-07, -0.03125), 8.143e-06, cpu\n",
      "transformer.h.5.attn.resid_dropout\n",
      "torch.Size([1, 62, 768]), torch.float32, (0.01953125, -4.92219002016129e-07, -0.03125), 8.143e-06, cpu\n",
      "transformer.h.5.attn\n",
      "torch.Size([1, 62, 768]), torch.float32, (0.01953125, -4.92219002016129e-07, -0.03125), 8.143e-06, cpu\n",
      "transformer.h.5.ln_2\n",
      "torch.Size([1, 62, 768]), torch.float32, (0.12109375, -1.2387511550739246e-05, -0.125), 4.200e-04, cpu\n",
      "transformer.h.5.mlp.c_fc\n",
      "torch.Size([1, 62, 3072]), torch.float32, (0.078125, 3.66087882749496e-05, -0.0859375), 1.641e-04, cpu\n",
      "transformer.h.5.mlp.gelu\n",
      "torch.Size([1, 62, 3072]), torch.float32, (0.0625, 6.247079500588037e-05, -0.078125), 1.862e-05, cpu\n",
      "transformer.h.5.mlp.c_proj\n",
      "torch.Size([1, 62, 768]), torch.float32, (0.03125, -4.101825016801075e-06, -0.02734375), 1.802e-05, cpu\n",
      "transformer.h.5.mlp.dropout\n",
      "torch.Size([1, 62, 768]), torch.float32, (0.03125, -4.101825016801075e-06, -0.02734375), 1.802e-05, cpu\n",
      "transformer.h.5.mlp\n",
      "torch.Size([1, 62, 768]), torch.float32, (0.03125, -4.101825016801075e-06, -0.02734375), 1.802e-05, cpu\n",
      "transformer.h.5\n",
      "torch.Size([1, 62, 768]), torch.float32, (1.56640625, 2.5677424605174732e-05, -0.52734375), 9.703e-05, cpu\n",
      "transformer.h.6.ln_1\n",
      "torch.Size([1, 62, 768]), torch.float32, (0.359375, 4.881171769993279e-05, -0.421875), 6.950e-04, cpu\n",
      "transformer.h.6.attn.c_attn\n",
      "torch.Size([1, 62, 2304]), torch.float32, (0.12109375, 2.6005570606518818e-05, -0.12109375), 2.819e-04, cpu\n",
      "transformer.h.6.attn.c_proj\n",
      "torch.Size([1, 62, 768]), torch.float32, (0.015625, 1.0254562542002688e-05, -0.01953125), 7.221e-06, cpu\n",
      "transformer.h.6.attn.resid_dropout\n",
      "torch.Size([1, 62, 768]), torch.float32, (0.015625, 1.0254562542002688e-05, -0.01953125), 7.221e-06, cpu\n",
      "transformer.h.6.attn\n",
      "torch.Size([1, 62, 768]), torch.float32, (0.015625, 1.0254562542002688e-05, -0.01953125), 7.221e-06, cpu\n",
      "transformer.h.6.ln_2\n",
      "torch.Size([1, 62, 768]), torch.float32, (0.10546875, -1.148511004704301e-05, -0.11328125), 3.609e-04, cpu\n",
      "transformer.h.6.mlp.c_fc\n",
      "torch.Size([1, 62, 3072]), torch.float32, (0.078125, 0.00023727006809685819, -0.07421875), 1.410e-04, cpu\n",
      "transformer.h.6.mlp.gelu\n",
      "torch.Size([1, 62, 3072]), torch.float32, (0.08203125, 7.910369544900874e-05, -0.0703125), 1.870e-05, cpu\n",
      "transformer.h.6.mlp.c_proj\n",
      "torch.Size([1, 62, 768]), torch.float32, (0.03515625, -2.132949008736559e-06, -0.0234375), 2.030e-05, cpu\n",
      "transformer.h.6.mlp.dropout\n",
      "torch.Size([1, 62, 768]), torch.float32, (0.03515625, -2.132949008736559e-06, -0.0234375), 2.030e-05, cpu\n",
      "transformer.h.6.mlp\n",
      "torch.Size([1, 62, 768]), torch.float32, (0.03515625, -2.132949008736559e-06, -0.0234375), 2.030e-05, cpu\n",
      "transformer.h.6\n",
      "torch.Size([1, 62, 768]), torch.float32, (1.578125, 3.379903813844086e-05, -0.546875), 1.024e-04, cpu\n",
      "transformer.h.7.ln_1\n",
      "torch.Size([1, 62, 768]), torch.float32, (0.3125, 4.405360068044355e-05, -0.26171875), 5.984e-04, cpu\n",
      "transformer.h.7.attn.c_attn\n",
      "torch.Size([1, 62, 2304]), torch.float32, (0.09375, 5.583951122871864e-05, -0.09375), 2.399e-04, cpu\n",
      "transformer.h.7.attn.c_proj\n",
      "torch.Size([1, 62, 768]), torch.float32, (0.015625, -1.5586935063844087e-06, -0.05078125), 7.509e-06, cpu\n",
      "transformer.h.7.attn.resid_dropout\n",
      "torch.Size([1, 62, 768]), torch.float32, (0.015625, -1.5586935063844087e-06, -0.05078125), 7.509e-06, cpu\n",
      "transformer.h.7.attn\n",
      "torch.Size([1, 62, 768]), torch.float32, (0.015625, -1.5586935063844087e-06, -0.05078125), 7.509e-06, cpu\n",
      "transformer.h.7.ln_2\n",
      "torch.Size([1, 62, 768]), torch.float32, (0.13671875, 1.148511004704301e-05, -0.140625), 3.959e-04, cpu\n",
      "transformer.h.7.mlp.c_fc\n",
      "torch.Size([1, 62, 3072]), torch.float32, (0.07421875, -0.00012106536537088374, -0.07421875), 1.503e-04, cpu\n",
      "transformer.h.7.mlp.gelu\n",
      "torch.Size([1, 62, 3072]), torch.float32, (0.0703125, 3.570638677125336e-05, -0.0625), 1.849e-05, cpu\n",
      "transformer.h.7.mlp.c_proj\n",
      "torch.Size([1, 62, 768]), torch.float32, (0.04296875, -3.3634965137768817e-06, -0.02734375), 2.038e-05, cpu\n",
      "transformer.h.7.mlp.dropout\n",
      "torch.Size([1, 62, 768]), torch.float32, (0.04296875, -3.3634965137768817e-06, -0.02734375), 2.038e-05, cpu\n",
      "transformer.h.7.mlp\n",
      "torch.Size([1, 62, 768]), torch.float32, (0.04296875, -3.3634965137768817e-06, -0.02734375), 2.038e-05, cpu\n",
      "transformer.h.7\n",
      "torch.Size([1, 62, 768]), torch.float32, (1.58203125, 2.887684811827957e-05, -0.5390625), 1.093e-04, cpu\n",
      "transformer.h.8.ln_1\n",
      "torch.Size([1, 62, 768]), torch.float32, (0.42578125, 1.419231455813172e-05, -0.42578125), 6.182e-04, cpu\n",
      "transformer.h.8.attn.c_attn\n",
      "torch.Size([1, 62, 2304]), torch.float32, (0.09765625, 8.444290434587813e-05, -0.09765625), 2.541e-04, cpu\n",
      "transformer.h.8.attn.c_proj\n",
      "torch.Size([1, 62, 768]), torch.float32, (0.0390625, 3.691642515120968e-06, -0.08203125), 7.812e-06, cpu\n",
      "transformer.h.8.attn.resid_dropout\n",
      "torch.Size([1, 62, 768]), torch.float32, (0.0390625, 3.691642515120968e-06, -0.08203125), 7.812e-06, cpu\n",
      "transformer.h.8.attn\n",
      "torch.Size([1, 62, 768]), torch.float32, (0.0390625, 3.691642515120968e-06, -0.08203125), 7.812e-06, cpu\n",
      "transformer.h.8.ln_2\n",
      "torch.Size([1, 62, 768]), torch.float32, (0.13671875, 5.41440902217742e-06, -0.16796875), 3.886e-04, cpu\n",
      "transformer.h.8.mlp.c_fc\n",
      "torch.Size([1, 62, 3072]), torch.float32, (0.08203125, 0.00026551113333753363, -0.0703125), 1.469e-04, cpu\n",
      "transformer.h.8.mlp.gelu\n",
      "torch.Size([1, 62, 3072]), torch.float32, (0.06640625, 5.41645993468582e-05, -0.0546875), 1.839e-05, cpu\n",
      "transformer.h.8.mlp.c_proj\n",
      "torch.Size([1, 62, 768]), torch.float32, (0.0390625, -4.676080519153226e-06, -0.03515625), 2.236e-05, cpu\n",
      "transformer.h.8.mlp.dropout\n",
      "torch.Size([1, 62, 768]), torch.float32, (0.0390625, -4.676080519153226e-06, -0.03515625), 2.236e-05, cpu\n",
      "transformer.h.8.mlp\n",
      "torch.Size([1, 62, 768]), torch.float32, (0.0390625, -4.676080519153226e-06, -0.03515625), 2.236e-05, cpu\n",
      "transformer.h.8\n",
      "torch.Size([1, 62, 768]), torch.float32, (1.62109375, 2.789241011424731e-05, -0.546875), 1.228e-04, cpu\n",
      "transformer.h.9.ln_1\n",
      "torch.Size([1, 62, 768]), torch.float32, (0.40625, 4.4299710181451614e-05, -0.421875), 6.158e-04, cpu\n",
      "transformer.h.9.attn.c_attn\n",
      "torch.Size([1, 62, 2304]), torch.float32, (0.09765625, -6.171879375280018e-05, -0.10546875), 2.466e-04, cpu\n",
      "transformer.h.9.attn.c_proj\n",
      "torch.Size([1, 62, 768]), torch.float32, (0.02734375, 8.203650033602151e-08, -0.04296875), 1.050e-05, cpu\n",
      "transformer.h.9.attn.resid_dropout\n",
      "torch.Size([1, 62, 768]), torch.float32, (0.02734375, 8.203650033602151e-08, -0.04296875), 1.050e-05, cpu\n",
      "transformer.h.9.attn\n",
      "torch.Size([1, 62, 768]), torch.float32, (0.02734375, 8.203650033602151e-08, -0.04296875), 1.050e-05, cpu\n",
      "transformer.h.9.ln_2\n",
      "torch.Size([1, 62, 768]), torch.float32, (0.17578125, 1.64073000672043e-05, -0.15234375), 4.013e-04, cpu\n",
      "transformer.h.9.mlp.c_fc\n",
      "torch.Size([1, 62, 3072]), torch.float32, (0.08984375, 0.00026380887595556116, -0.08984375), 1.477e-04, cpu\n",
      "transformer.h.9.mlp.gelu\n",
      "torch.Size([1, 62, 3072]), torch.float32, (0.09765625, 7.430456017935147e-05, -0.09765625), 2.193e-05, cpu\n",
      "transformer.h.9.mlp.c_proj\n",
      "torch.Size([1, 62, 768]), torch.float32, (0.0546875, -1.3371949554771505e-05, -0.0625), 3.230e-05, cpu\n",
      "transformer.h.9.mlp.dropout\n",
      "torch.Size([1, 62, 768]), torch.float32, (0.0546875, -1.3371949554771505e-05, -0.0625), 3.230e-05, cpu\n",
      "transformer.h.9.mlp\n",
      "torch.Size([1, 62, 768]), torch.float32, (0.0546875, -1.3371949554771505e-05, -0.0625), 3.230e-05, cpu\n",
      "transformer.h.9\n",
      "torch.Size([1, 62, 768]), torch.float32, (1.61328125, 1.4602497059811829e-05, -0.546875), 1.508e-04, cpu\n",
      "transformer.h.10.ln_1\n",
      "torch.Size([1, 62, 768]), torch.float32, (0.15625, -1.4274351058467741e-05, -0.20703125), 6.447e-04, cpu\n",
      "transformer.h.10.attn.c_attn\n",
      "torch.Size([1, 62, 2304]), torch.float32, (0.12890625, 3.716253465221774e-05, -0.140625), 2.529e-04, cpu\n",
      "transformer.h.10.attn.c_proj\n",
      "torch.Size([1, 62, 768]), torch.float32, (0.078125, 4.676080519153226e-06, -0.1015625), 9.760e-06, cpu\n",
      "transformer.h.10.attn.resid_dropout\n",
      "torch.Size([1, 62, 768]), torch.float32, (0.078125, 4.676080519153226e-06, -0.1015625), 9.760e-06, cpu\n",
      "transformer.h.10.attn\n",
      "torch.Size([1, 62, 768]), torch.float32, (0.078125, 4.676080519153226e-06, -0.1015625), 9.760e-06, cpu\n",
      "transformer.h.10.ln_2\n",
      "torch.Size([1, 62, 768]), torch.float32, (0.1171875, 1.903246807795699e-05, -0.12890625), 3.541e-04, cpu\n",
      "transformer.h.10.mlp.c_fc\n",
      "torch.Size([1, 62, 3072]), torch.float32, (0.09375, -0.00010767290669102823, -0.06640625), 1.315e-04, cpu\n",
      "transformer.h.10.mlp.gelu\n",
      "torch.Size([1, 62, 3072]), torch.float32, (0.09765625, 1.8868395077284946e-05, -0.05859375), 2.001e-05, cpu\n",
      "transformer.h.10.mlp.c_proj\n",
      "torch.Size([1, 62, 768]), torch.float32, (0.1171875, -2.3790585097446237e-06, -0.09765625), 3.684e-05, cpu\n",
      "transformer.h.10.mlp.dropout\n",
      "torch.Size([1, 62, 768]), torch.float32, (0.1171875, -2.3790585097446237e-06, -0.09765625), 3.684e-05, cpu\n",
      "transformer.h.10.mlp\n",
      "torch.Size([1, 62, 768]), torch.float32, (0.1171875, -2.3790585097446237e-06, -0.09765625), 3.684e-05, cpu\n",
      "transformer.h.10\n",
      "torch.Size([1, 62, 768]), torch.float32, (1.7265625, 1.689951906922043e-05, -0.53515625), 1.949e-04, cpu\n",
      "transformer.h.11.ln_1\n",
      "torch.Size([1, 62, 768]), torch.float32, (0.14453125, 3.158405262936828e-05, -0.203125), 6.269e-04, cpu\n",
      "transformer.h.11.attn.c_attn\n",
      "torch.Size([1, 62, 2304]), torch.float32, (0.10546875, -8.668523535506272e-06, -0.12109375), 2.394e-04, cpu\n",
      "transformer.h.11.attn.c_proj\n",
      "torch.Size([1, 62, 768]), torch.float32, (0.125, 7.219212029569893e-06, -0.40625), 1.949e-05, cpu\n",
      "transformer.h.11.attn.resid_dropout\n",
      "torch.Size([1, 62, 768]), torch.float32, (0.125, 7.219212029569893e-06, -0.40625), 1.949e-05, cpu\n",
      "transformer.h.11.attn\n",
      "torch.Size([1, 62, 768]), torch.float32, (0.125, 7.219212029569893e-06, -0.40625), 1.949e-05, cpu\n",
      "transformer.h.11.ln_2\n",
      "torch.Size([1, 62, 768]), torch.float32, (0.13671875, -2.075523458501344e-05, -0.203125), 4.005e-04, cpu\n",
      "transformer.h.11.mlp.c_fc\n",
      "torch.Size([1, 62, 3072]), torch.float32, (0.14453125, -0.00014444576796664987, -0.18359375), 1.429e-04, cpu\n",
      "transformer.h.11.mlp.gelu\n",
      "torch.Size([1, 62, 3072]), torch.float32, (0.0859375, -5.445172709803427e-05, -0.1171875), 2.651e-05, cpu\n",
      "transformer.h.11.mlp.c_proj\n",
      "torch.Size([1, 62, 768]), torch.float32, (0.10546875, -4.142843266969086e-05, -0.09765625), 5.540e-05, cpu\n",
      "transformer.h.11.mlp.dropout\n",
      "torch.Size([1, 62, 768]), torch.float32, (0.10546875, -4.142843266969086e-05, -0.09765625), 5.540e-05, cpu\n",
      "transformer.h.11.mlp\n",
      "torch.Size([1, 62, 768]), torch.float32, (0.10546875, -4.142843266969086e-05, -0.09765625), 5.540e-05, cpu\n",
      "transformer.h.11\n",
      "torch.Size([1, 62, 768]), torch.float32, (1.29296875, -1.730970157090054e-05, -0.5546875), 2.236e-04, cpu\n",
      "transformer.ln_f\n",
      "torch.Size([1, 62, 768]), torch.float32, (1.10546875, 3.002535912298387e-05, -1.41015625), 8.691e-03, cpu\n",
      "lm_head\n",
      "torch.Size([1, 1, 50304]), torch.float32, (0.23828125, 0.041479367942907124, -0.17578125), 2.758e-03, cpu\n"
     ]
    }
   ],
   "source": [
    "compare_records(cpu_model_record_post_surgery, gpu_model_record_post_surgery)"
   ]
  },
  {
   "cell_type": "markdown",
   "id": "36c813ad-7b84-4bac-83ae-181211e8a457",
   "metadata": {},
   "source": [
    "# How did the logits compare between cpu and gpu before and after surgery?"
   ]
  },
  {
   "cell_type": "code",
   "execution_count": 99,
   "id": "41484055-0ade-4ff4-ba44-f252b64be98c",
   "metadata": {
    "execution": {
     "iopub.execute_input": "2024-01-30T00:32:46.332028Z",
     "iopub.status.busy": "2024-01-30T00:32:46.331643Z",
     "iopub.status.idle": "2024-01-30T00:32:46.344817Z",
     "shell.execute_reply": "2024-01-30T00:32:46.343981Z",
     "shell.execute_reply.started": "2024-01-30T00:32:46.331996Z"
    }
   },
   "outputs": [
    {
     "name": "stdout",
     "output_type": "stream",
     "text": [
      "torch.Size([1, 1, 50304]), torch.float32, (0.024580001831054688, 0.003459617039354627, -0.019138336181640625), 2.027e-05, cpu\n",
      "torch.Size([1, 1, 50304]), torch.float32, (0.23828125, 0.041479367942907124, -0.17578125), 2.758e-03, cpu\n"
     ]
    }
   ],
   "source": [
    "about(yg_pre_surgery.to('cpu') - y_pre_surgery)\n",
    "about(yg_post_surgery.to('cpu') - y_post_surgery)\n",
    "#about((yg_post_surgery - y_post_surgery.to('cuda')).to('cpu'))"
   ]
  },
  {
   "cell_type": "markdown",
   "id": "c7ba59d9-175e-4c81-839f-0450942ff56f",
   "metadata": {},
   "source": [
    "With ctx = first paragraph of Dr. Frankenstein, \"You will rejoice ...\":"
   ]
  },
  {
   "cell_type": "code",
   "execution_count": 100,
   "id": "558eab66-9613-43db-8751-5d011d5b6f36",
   "metadata": {
    "execution": {
     "iopub.execute_input": "2024-01-30T00:32:46.346294Z",
     "iopub.status.busy": "2024-01-30T00:32:46.345923Z",
     "iopub.status.idle": "2024-01-30T00:32:46.351103Z",
     "shell.execute_reply": "2024-01-30T00:32:46.350257Z",
     "shell.execute_reply.started": "2024-01-30T00:32:46.346263Z"
    }
   },
   "outputs": [],
   "source": [
    "# quantize to 16 bits, internal model flash attention\n",
    "#torch.Size([1, 1, 50304]), torch.float32, (0.024580001831054688, 0.003459617039354627, -0.019138336181640625), 2.027e-05, cpu\n",
    "#torch.Size([1, 1, 50304]), torch.float32, (0.0093841552734375, 0.0012059809294062414, -0.0066070556640625), 3.099e-06, cpu\n",
    "\n",
    "# quantize to 16 bits, gpt2 flash attention\n",
    "#torch.Size([1, 1, 50257]), torch.float32, (0.041912078857421875, 0.03370751197366046, 0.026607513427734375), 1.139e-03, cpu\n",
    "#torch.Size([1, 1, 50257]), torch.float32, (0.0253448486328125, 0.012218502743068595, -0.0092010498046875), 1.591e-04, cpu\n",
    "\n",
    "# quantize to 16 bits, gpt2 slow attention\n",
    "#torch.Size([1, 1, 50257]), torch.float32, (-0.007354736328125, -0.014376958907047852, -0.021404266357421875), 2.088e-04, cpu\n",
    "#torch.Size([1, 1, 50257]), torch.float32, (0.02532958984375, 0.0173440996189741, 0.0064239501953125), 3.050e-04, cpu\n",
    "\n",
    "# quantize to 6 bits, gpt2 slow attention\n",
    "#torch.Size([1, 1, 50257]), torch.float32, (-0.007354736328125, -0.014376958907047852, -0.021404266357421875), 2.088e-04, cpu\n",
    "#torch.Size([1, 1, 50257]), torch.float32, (7.609375, 5.427644096842231, 2.578125), 2.966e+01, cpu\n",
    "\n",
    "# quantize to 10 bits:\n",
    "#torch.Size([1, 1, 50257]), torch.float32, (0.041912078857421875, 0.03370751197366046, 0.026607513427734375), 1.139e-03, cpu\n",
    "#torch.Size([1, 1, 50257]), torch.float32, (0.1748046875, 0.12240598946415425, 0.0302734375), 1.521e-02, cpu"
   ]
  },
  {
   "cell_type": "markdown",
   "id": "4d1129bb-e4cd-4cf0-8048-c3843e990ec1",
   "metadata": {},
   "source": [
    "These are with `ctx = torch.tensor([[198]])`, which is just a newline:"
   ]
  },
  {
   "cell_type": "code",
   "execution_count": 101,
   "id": "27670d36-6324-42bb-a1c8-c08e15f6eaf0",
   "metadata": {
    "execution": {
     "iopub.execute_input": "2024-01-30T00:32:46.352590Z",
     "iopub.status.busy": "2024-01-30T00:32:46.352205Z",
     "iopub.status.idle": "2024-01-30T00:32:46.359364Z",
     "shell.execute_reply": "2024-01-30T00:32:46.358497Z",
     "shell.execute_reply.started": "2024-01-30T00:32:46.352558Z"
    }
   },
   "outputs": [],
   "source": [
    "#no quantize:\n",
    "#torch.Size([1, 1, 50304]), torch.float32, (2.9206275939941406e-05, -3.924847043737883e-06, -2.8967857360839844e-05), 5.533e-11\n",
    "#torch.Size([1, 1, 50304]), torch.float32, (2.9206275939941406e-05, -3.924847043737883e-06, -2.8967857360839844e-05), 5.533e-11\n",
    "\n",
    "#quantize_module(model, 24)\n",
    "#torch.Size([1, 1, 50304]), torch.float32, (2.9206275939941406e-05, -3.924847043737883e-06, -2.8967857360839844e-05), 5.533e-11\n",
    "#torch.Size([1, 1, 50304]), torch.float32, (3.910064697265625e-05, 7.596433591618944e-06, -8.58306884765625e-06), 7.956e-11\n",
    "\n",
    "#quantize_module(model, 16)\n",
    "#torch.Size([1, 1, 50304]), torch.float32, (2.9206275939941406e-05, -3.924847043737883e-06, -2.8967857360839844e-05), 5.533e-11\n",
    "#torch.Size([1, 1, 50304]), torch.float32, (0.00019979476928710938, 2.0292119843454003e-05, -0.00014019012451171875), 1.593e-09\n",
    "\n",
    "#quantize_module(model, 12)\n",
    "#torch.Size([1, 1, 50304]), torch.float32, (2.9206275939941406e-05, -3.924847043737883e-06, -2.8967857360839844e-05), 5.533e-11\n",
    "#torch.Size([1, 1, 50304]), torch.float32, (0.0030562877655029297, 0.000693647690433132, -0.0014503002166748047), 7.557e-07\n",
    "\n",
    "#quantize_module(model, 8)\n",
    "#torch.Size([1, 1, 50304]), torch.float32, (2.9206275939941406e-05, -3.924847043737883e-06, -2.8967857360839844e-05), 5.533e-11\n",
    "#torch.Size([1, 1, 50304]), torch.float32, (0.0013637542724609375, 0.00016730938150616168, -0.0010051727294921875), 1.011e-07"
   ]
  },
  {
   "cell_type": "code",
   "execution_count": null,
   "id": "717454a9-9e7d-43c6-810a-e329e2fcbfc7",
   "metadata": {},
   "outputs": [],
   "source": []
  },
  {
   "cell_type": "code",
   "execution_count": 102,
   "id": "e1a13e91-bfbf-496b-97f5-fea4cdb7b0db",
   "metadata": {
    "execution": {
     "iopub.execute_input": "2024-01-30T00:32:46.360822Z",
     "iopub.status.busy": "2024-01-30T00:32:46.360452Z",
     "iopub.status.idle": "2024-01-30T00:32:46.368874Z",
     "shell.execute_reply": "2024-01-30T00:32:46.368041Z",
     "shell.execute_reply.started": "2024-01-30T00:32:46.360790Z"
    }
   },
   "outputs": [
    {
     "name": "stdout",
     "output_type": "stream",
     "text": [
      "0|10000001|00101000110000000000000 0|10000001|00100110110000000000000\n",
      "0|10000000|01100000100000000000000 0|10000000|01011100100000000000000\n",
      "0|10000001|00111111000000000000000 0|10000001|00111100110000000000000\n",
      "0|01111101|10101000000000000000000 0|01111101|10011000000000000000000\n",
      "0|01111111|10010001000000000000000 0|01111111|10001100000000000000000\n",
      "0|01111111|01101101000000000000000 0|01111111|01100110000000000000000\n",
      "0|10000000|10010101000000000000000 0|10000000|10001111000000000000000\n",
      "0|10000000|10000110100000000000000 0|10000000|10000011100000000000000\n",
      "0|10000001|01111000110000000000000 0|10000001|01110100000000000000000\n",
      "0|10000000|01001101100000000000000 0|10000000|01000111100000000000000\n"
     ]
    }
   ],
   "source": [
    "print('\\n'.join(' '.join([c, g]) for c, g in zip(binstack(y_post_surgery[0,0,:10]), binstack(yg_post_surgery[0,0,:10]))))"
   ]
  },
  {
   "cell_type": "code",
   "execution_count": 103,
   "id": "86a90190-09cc-4d93-bb78-224e0e4d1c09",
   "metadata": {
    "execution": {
     "iopub.execute_input": "2024-01-30T00:32:46.370325Z",
     "iopub.status.busy": "2024-01-30T00:32:46.369964Z",
     "iopub.status.idle": "2024-01-30T00:32:46.376400Z",
     "shell.execute_reply": "2024-01-30T00:32:46.375571Z",
     "shell.execute_reply.started": "2024-01-30T00:32:46.370293Z"
    }
   },
   "outputs": [
    {
     "data": {
      "text/plain": [
       "['1|01111010|00000000000000000000000',\n",
       " '0|01111000|10000000000000000000000',\n",
       " '0|01111001|01100000000000000000000',\n",
       " '0|01111000|10000000000000000000000',\n",
       " '1|01111010|01000000000000000000000',\n",
       " '0|01111000|01000000000000000000000']"
      ]
     },
     "execution_count": 103,
     "metadata": {},
     "output_type": "execute_result"
    }
   ],
   "source": [
    "binstack(model.transformer.wte.weight[0,:6])"
   ]
  },
  {
   "cell_type": "code",
   "execution_count": 104,
   "id": "82eeb8ab-1260-4fd9-8c2a-dbd01587bab9",
   "metadata": {
    "execution": {
     "iopub.execute_input": "2024-01-30T00:32:46.377860Z",
     "iopub.status.busy": "2024-01-30T00:32:46.377485Z",
     "iopub.status.idle": "2024-01-30T00:32:46.385272Z",
     "shell.execute_reply": "2024-01-30T00:32:46.384457Z",
     "shell.execute_reply.started": "2024-01-30T00:32:46.377829Z"
    }
   },
   "outputs": [
    {
     "data": {
      "text/plain": [
       "Parameter containing:\n",
       "tensor([[ 0.0039,  0.0234,  0.0391,  ..., -0.0156,  0.0469,  0.0039],\n",
       "        [ 0.0352, -0.0039, -0.0000,  ..., -0.0352, -0.0000, -0.0352],\n",
       "        [-0.0117,  0.0117, -0.0234,  ..., -0.0039, -0.0273, -0.0117],\n",
       "        ...,\n",
       "        [-0.0312, -0.0273, -0.0156,  ..., -0.0078, -0.0352,  0.0234],\n",
       "        [ 0.0273, -0.0078, -0.0117,  ...,  0.0039, -0.0000,  0.0352],\n",
       "        [-0.0352, -0.0039,  0.0391,  ..., -0.0195,  0.0430, -0.0508]])"
      ]
     },
     "execution_count": 104,
     "metadata": {},
     "output_type": "execute_result"
    }
   ],
   "source": [
    "model.transformer.h[0].mlp.c_fc.weight"
   ]
  },
  {
   "cell_type": "code",
   "execution_count": 105,
   "id": "e4a39d75-1959-4cd8-9801-d1609a038ff3",
   "metadata": {
    "execution": {
     "iopub.execute_input": "2024-01-30T00:32:46.386717Z",
     "iopub.status.busy": "2024-01-30T00:32:46.386356Z",
     "iopub.status.idle": "2024-01-30T00:32:46.393459Z",
     "shell.execute_reply": "2024-01-30T00:32:46.392641Z",
     "shell.execute_reply.started": "2024-01-30T00:32:46.386685Z"
    }
   },
   "outputs": [
    {
     "data": {
      "text/plain": [
       "GPT(\n",
       "  (transformer): ModuleDict(\n",
       "    (wte): Embedding(50304, 768)\n",
       "    (wpe): Embedding(1024, 768)\n",
       "    (drop): Dropout(p=0.0, inplace=False)\n",
       "    (h): ModuleList(\n",
       "      (0-11): 12 x Block(\n",
       "        (ln_1): LayerNorm()\n",
       "        (attn): CausalSelfAttention(\n",
       "          (c_attn): Linear(in_features=768, out_features=2304, bias=False)\n",
       "          (c_proj): Linear(in_features=768, out_features=768, bias=False)\n",
       "          (attn_dropout): Dropout(p=0.0, inplace=False)\n",
       "          (resid_dropout): Dropout(p=0.0, inplace=False)\n",
       "        )\n",
       "        (ln_2): LayerNorm()\n",
       "        (mlp): MLP(\n",
       "          (c_fc): Linear(in_features=768, out_features=3072, bias=False)\n",
       "          (gelu): GELU(approximate='none')\n",
       "          (c_proj): Linear(in_features=3072, out_features=768, bias=False)\n",
       "          (dropout): Dropout(p=0.0, inplace=False)\n",
       "        )\n",
       "      )\n",
       "    )\n",
       "    (ln_f): LayerNorm()\n",
       "  )\n",
       "  (lm_head): Linear(in_features=768, out_features=50304, bias=False)\n",
       ")"
      ]
     },
     "execution_count": 105,
     "metadata": {},
     "output_type": "execute_result"
    }
   ],
   "source": [
    "model"
   ]
  },
  {
   "cell_type": "code",
   "execution_count": 106,
   "id": "6a61df76-d0de-445c-bcb1-f0a82670b926",
   "metadata": {
    "execution": {
     "iopub.execute_input": "2024-01-30T00:32:46.394891Z",
     "iopub.status.busy": "2024-01-30T00:32:46.394528Z",
     "iopub.status.idle": "2024-01-30T00:32:46.403888Z",
     "shell.execute_reply": "2024-01-30T00:32:46.403045Z",
     "shell.execute_reply.started": "2024-01-30T00:32:46.394860Z"
    }
   },
   "outputs": [
    {
     "data": {
      "text/plain": [
       "(GPT(\n",
       "   (transformer): ModuleDict(\n",
       "     (wte): Embedding(50304, 768)\n",
       "     (wpe): Embedding(1024, 768)\n",
       "     (drop): Dropout(p=0.0, inplace=False)\n",
       "     (h): ModuleList(\n",
       "       (0-11): 12 x Block(\n",
       "         (ln_1): LayerNorm()\n",
       "         (attn): CausalSelfAttention(\n",
       "           (c_attn): Linear(in_features=768, out_features=2304, bias=False)\n",
       "           (c_proj): Linear(in_features=768, out_features=768, bias=False)\n",
       "           (attn_dropout): Dropout(p=0.0, inplace=False)\n",
       "           (resid_dropout): Dropout(p=0.0, inplace=False)\n",
       "         )\n",
       "         (ln_2): LayerNorm()\n",
       "         (mlp): MLP(\n",
       "           (c_fc): Linear(in_features=768, out_features=3072, bias=False)\n",
       "           (gelu): GELU(approximate='none')\n",
       "           (c_proj): Linear(in_features=3072, out_features=768, bias=False)\n",
       "           (dropout): Dropout(p=0.0, inplace=False)\n",
       "         )\n",
       "       )\n",
       "     )\n",
       "     (ln_f): LayerNorm()\n",
       "   )\n",
       "   (lm_head): Linear(in_features=768, out_features=50304, bias=False)\n",
       " ),\n",
       " device(type='cuda', index=0))"
      ]
     },
     "execution_count": 106,
     "metadata": {},
     "output_type": "execute_result"
    }
   ],
   "source": [
    "model_g, host_device_of(model_g)"
   ]
  },
  {
   "cell_type": "code",
   "execution_count": 107,
   "id": "74570071-d203-4171-9121-78844c4760ea",
   "metadata": {
    "execution": {
     "iopub.execute_input": "2024-01-30T00:32:46.405329Z",
     "iopub.status.busy": "2024-01-30T00:32:46.404964Z",
     "iopub.status.idle": "2024-01-30T00:32:46.411392Z",
     "shell.execute_reply": "2024-01-30T00:32:46.410536Z",
     "shell.execute_reply.started": "2024-01-30T00:32:46.405298Z"
    }
   },
   "outputs": [],
   "source": [
    "del model_g"
   ]
  },
  {
   "cell_type": "code",
   "execution_count": null,
   "id": "60908f5d-b396-4d9a-94cb-251487d15153",
   "metadata": {},
   "outputs": [],
   "source": []
  },
  {
   "attachments": {},
   "cell_type": "markdown",
   "id": "45ffa0f7-5210-4c62-aac1-bd8be3e87b38",
   "metadata": {},
   "source": [
    "# NEXT\n",
    "1. Do the recording and quantization by ``register_forward_hook``\n",
    "2. Examine the progress of the calculation side-by-side in recordings of cpu v gpu\n",
    "3. Try logit quantization on model quant results\n",
    "6. Measure effect of model quant on compression effectiveness\n",
    "7. Try float64?\n",
    "## Done or Obsolete\n",
    "1. Write a loop to march through quantizations recording results\n",
    "4. Make Quactivation also inspect what it's fed\n",
    "5. Consider making a specific quant module to interpose\n",
    "   1. Can it inspect its surroundings to decide quantization?\n",
    "   2. Can it learn from experience how to quantize?\n",
    "\n",
    "## Boneyard"
   ]
  },
  {
   "cell_type": "code",
   "execution_count": 108,
   "id": "7bfa99e4-cee5-492e-b0ca-38c396b2116f",
   "metadata": {
    "execution": {
     "iopub.execute_input": "2024-01-30T00:32:46.412883Z",
     "iopub.status.busy": "2024-01-30T00:32:46.412524Z",
     "iopub.status.idle": "2024-01-30T00:32:46.446199Z",
     "shell.execute_reply": "2024-01-30T00:32:46.443832Z",
     "shell.execute_reply.started": "2024-01-30T00:32:46.412851Z"
    }
   },
   "outputs": [
    {
     "ename": "AssertionError",
     "evalue": "Boneyard",
     "output_type": "error",
     "traceback": [
      "\u001b[0;31m---------------------------------------------------------------------------\u001b[0m",
      "\u001b[0;31mAssertionError\u001b[0m                            Traceback (most recent call last)",
      "Cell \u001b[0;32mIn[108], line 1\u001b[0m\n\u001b[0;32m----> 1\u001b[0m \u001b[38;5;28;01massert\u001b[39;00m \u001b[38;5;241m0\u001b[39m, \u001b[38;5;124m\"\u001b[39m\u001b[38;5;124mBoneyard\u001b[39m\u001b[38;5;124m\"\u001b[39m\n",
      "\u001b[0;31mAssertionError\u001b[0m: Boneyard"
     ]
    }
   ],
   "source": [
    "assert 0, \"Boneyard\""
   ]
  },
  {
   "cell_type": "markdown",
   "id": "71fdb5bd-eb99-413c-9954-cbd7a00851cb",
   "metadata": {},
   "source": [
    "### Embedding"
   ]
  },
  {
   "cell_type": "code",
   "execution_count": null,
   "id": "caec271b-894f-4727-a4d1-ad652f0b0d67",
   "metadata": {
    "execution": {
     "iopub.status.busy": "2024-01-30T00:32:46.447090Z",
     "iopub.status.idle": "2024-01-30T00:32:46.447629Z",
     "shell.execute_reply": "2024-01-30T00:32:46.447409Z",
     "shell.execute_reply.started": "2024-01-30T00:32:46.447385Z"
    }
   },
   "outputs": [],
   "source": [
    "embed = model.transformer.wte\n",
    "embed"
   ]
  },
  {
   "cell_type": "code",
   "execution_count": null,
   "id": "64309119-8ffc-456d-a78b-64ff336d62e0",
   "metadata": {
    "execution": {
     "iopub.status.busy": "2024-01-30T00:32:46.449134Z",
     "iopub.status.idle": "2024-01-30T00:32:46.449623Z",
     "shell.execute_reply": "2024-01-30T00:32:46.449414Z",
     "shell.execute_reply.started": "2024-01-30T00:32:46.449391Z"
    }
   },
   "outputs": [],
   "source": [
    "about(embed.weight)\n",
    "embedded = embed(torch.tensor([[198]]))\n",
    "about(embedded)"
   ]
  },
  {
   "cell_type": "code",
   "execution_count": null,
   "id": "6f707dd8-4977-483c-80e4-d93e8f06d96c",
   "metadata": {
    "execution": {
     "iopub.status.busy": "2024-01-30T00:32:46.451004Z",
     "iopub.status.idle": "2024-01-30T00:32:46.451511Z",
     "shell.execute_reply": "2024-01-30T00:32:46.451288Z",
     "shell.execute_reply.started": "2024-01-30T00:32:46.451265Z"
    }
   },
   "outputs": [],
   "source": [
    "binstack(embedded[0,0,:6])"
   ]
  },
  {
   "cell_type": "code",
   "execution_count": null,
   "id": "52f2e5cc-f3fb-4c7a-89ed-90a5b5988a7f",
   "metadata": {
    "execution": {
     "iopub.status.busy": "2024-01-30T00:32:46.452944Z",
     "iopub.status.idle": "2024-01-30T00:32:46.453436Z",
     "shell.execute_reply": "2024-01-30T00:32:46.453222Z",
     "shell.execute_reply.started": "2024-01-30T00:32:46.453199Z"
    }
   },
   "outputs": [],
   "source": [
    "about(embed.weight)\n",
    "about(round_to_bits(embed.weight, 16))\n",
    "about(embed.weight)\n",
    "about(round_to_bits_(embed.weight, 16))\n",
    "about(embed.weight)"
   ]
  },
  {
   "cell_type": "code",
   "execution_count": null,
   "id": "eef539d9-772c-463a-855a-595637490805",
   "metadata": {
    "execution": {
     "iopub.status.busy": "2024-01-30T00:32:46.454840Z",
     "iopub.status.idle": "2024-01-30T00:32:46.455353Z",
     "shell.execute_reply": "2024-01-30T00:32:46.455133Z",
     "shell.execute_reply.started": "2024-01-30T00:32:46.455088Z"
    }
   },
   "outputs": [],
   "source": [
    "float_to_binary(0.310760498046875)"
   ]
  },
  {
   "cell_type": "code",
   "execution_count": null,
   "id": "cd617517-0fd2-4181-8deb-d0898932e992",
   "metadata": {
    "execution": {
     "iopub.status.busy": "2024-01-30T00:32:46.456803Z",
     "iopub.status.idle": "2024-01-30T00:32:46.457474Z",
     "shell.execute_reply": "2024-01-30T00:32:46.457254Z",
     "shell.execute_reply.started": "2024-01-30T00:32:46.457231Z"
    },
    "scrolled": true
   },
   "outputs": [],
   "source": [
    "round_to_bits_(embed.weight, 16)\n",
    "about(embed.weight)\n",
    "embedded = embed(torch.tensor([[198]]))\n",
    "about(embedded)\n",
    "binstack(embedded[0,0,:6])"
   ]
  },
  {
   "cell_type": "markdown",
   "id": "a9e78d0f-90cf-4751-b9a5-2a91e025bcce",
   "metadata": {},
   "source": [
    "Quantize the players, with eyeballed scaling:"
   ]
  },
  {
   "cell_type": "code",
   "execution_count": null,
   "id": "a0cbf496-4890-47f7-9261-0dea9a4b46e9",
   "metadata": {
    "execution": {
     "iopub.status.busy": "2024-01-30T00:32:46.458634Z",
     "iopub.status.idle": "2024-01-30T00:32:46.459148Z",
     "shell.execute_reply": "2024-01-30T00:32:46.458920Z",
     "shell.execute_reply.started": "2024-01-30T00:32:46.458897Z"
    }
   },
   "outputs": [],
   "source": [
    "qw = ((1<<25) * w).round().to(dtype=torch.int64)\n",
    "qx = ((1<<25) * x).round().to(dtype=torch.int64)\n",
    "qy = ((1<<50) * y).round().to(dtype=torch.int64)"
   ]
  },
  {
   "cell_type": "markdown",
   "id": "f3928f06-7bcd-49cf-a431-e1fe8863e5d4",
   "metadata": {},
   "source": [
    "Calculate the output in int64:"
   ]
  },
  {
   "cell_type": "code",
   "execution_count": null,
   "id": "1a5e608d-a2cf-4459-9521-e6d48b504460",
   "metadata": {
    "execution": {
     "iopub.status.busy": "2024-01-30T00:32:46.460579Z",
     "iopub.status.idle": "2024-01-30T00:32:46.461062Z",
     "shell.execute_reply": "2024-01-30T00:32:46.460851Z",
     "shell.execute_reply.started": "2024-01-30T00:32:46.460828Z"
    }
   },
   "outputs": [],
   "source": [
    "cqy = qw @ qx"
   ]
  },
  {
   "cell_type": "markdown",
   "id": "161301f1-188d-4cb9-acc4-1ba7142b6400",
   "metadata": {
    "execution": {
     "iopub.execute_input": "2024-01-18T07:11:14.425100Z",
     "iopub.status.busy": "2024-01-18T07:11:14.424600Z",
     "iopub.status.idle": "2024-01-18T07:11:14.433259Z",
     "shell.execute_reply": "2024-01-18T07:11:14.431535Z",
     "shell.execute_reply.started": "2024-01-18T07:11:14.425053Z"
    }
   },
   "source": [
    "A good match:"
   ]
  },
  {
   "cell_type": "code",
   "execution_count": null,
   "id": "ad78616e-e52e-4965-b67b-957f2ad1d93a",
   "metadata": {
    "execution": {
     "iopub.status.busy": "2024-01-30T00:32:46.462468Z",
     "iopub.status.idle": "2024-01-30T00:32:46.462979Z",
     "shell.execute_reply": "2024-01-30T00:32:46.462739Z",
     "shell.execute_reply.started": "2024-01-30T00:32:46.462716Z"
    }
   },
   "outputs": [],
   "source": [
    "about(y)\n",
    "about(qy.to(torch.float64) / (1<<50))\n",
    "about(qy)\n",
    "about(cqy)\n",
    "about((cqy - qy).to(torch.float64) / (1<<50))"
   ]
  },
  {
   "cell_type": "markdown",
   "id": "f92d28b7-bc75-4299-b0a9-325543e549e6",
   "metadata": {},
   "source": [
    "### Try it on gpu"
   ]
  },
  {
   "cell_type": "code",
   "execution_count": null,
   "id": "7a9052bb-729b-45a1-87f7-8082c07770ba",
   "metadata": {
    "execution": {
     "iopub.status.busy": "2024-01-30T00:32:46.464456Z",
     "iopub.status.idle": "2024-01-30T00:32:46.464938Z",
     "shell.execute_reply": "2024-01-30T00:32:46.464728Z",
     "shell.execute_reply.started": "2024-01-30T00:32:46.464705Z"
    }
   },
   "outputs": [],
   "source": [
    "device = 'cuda'\n",
    "gqw = qw.to(device)\n",
    "gqx = qx.to(device)"
   ]
  },
  {
   "cell_type": "code",
   "execution_count": null,
   "id": "c656c4b1-c7b1-465c-9682-014e5bc76acd",
   "metadata": {
    "execution": {
     "iopub.status.busy": "2024-01-30T00:32:46.466317Z",
     "iopub.status.idle": "2024-01-30T00:32:46.467018Z",
     "shell.execute_reply": "2024-01-30T00:32:46.466794Z",
     "shell.execute_reply.started": "2024-01-30T00:32:46.466771Z"
    }
   },
   "outputs": [],
   "source": [
    "gcqy = gqw @ gqx"
   ]
  },
  {
   "cell_type": "markdown",
   "id": "978b775d-e8c9-45de-bba7-f79c70216863",
   "metadata": {},
   "source": [
    "Try it with int32"
   ]
  },
  {
   "cell_type": "code",
   "execution_count": null,
   "id": "cfb27378-bb68-49b5-a47c-f9e97718f473",
   "metadata": {
    "execution": {
     "iopub.status.busy": "2024-01-30T00:32:46.468238Z",
     "iopub.status.idle": "2024-01-30T00:32:46.468813Z",
     "shell.execute_reply": "2024-01-30T00:32:46.468511Z",
     "shell.execute_reply.started": "2024-01-30T00:32:46.468488Z"
    }
   },
   "outputs": [],
   "source": [
    "fgqw = ((1<<16) * w).round().to(dtype=torch.int32, device=device)\n",
    "fgqx = ((1<<16) * x).round().to(dtype=torch.int32, device=device)\n",
    "fgcqy = fgqw @ fgqx"
   ]
  },
  {
   "cell_type": "code",
   "execution_count": null,
   "id": "b0b79b38-ce12-42e3-8967-f525a0694384",
   "metadata": {
    "execution": {
     "iopub.status.busy": "2024-01-30T00:32:46.470190Z",
     "iopub.status.idle": "2024-01-30T00:32:46.470695Z",
     "shell.execute_reply": "2024-01-30T00:32:46.470459Z",
     "shell.execute_reply.started": "2024-01-30T00:32:46.470436Z"
    }
   },
   "outputs": [],
   "source": [
    "fgqw = qw.to(device=device, dtype=torch.int32)\n",
    "fgqx = qx.to(device=device, dtype=torch.int32)\n",
    "f"
   ]
  },
  {
   "cell_type": "code",
   "execution_count": null,
   "id": "6c724c4a-1ac8-426a-acc6-bb8617819bab",
   "metadata": {
    "execution": {
     "iopub.status.busy": "2024-01-30T00:32:46.472111Z",
     "iopub.status.idle": "2024-01-30T00:32:46.472598Z",
     "shell.execute_reply": "2024-01-30T00:32:46.472382Z",
     "shell.execute_reply.started": "2024-01-30T00:32:46.472360Z"
    }
   },
   "outputs": [],
   "source": [
    "import psutil\n",
    "torch.set_num_threads(psutil.cpu_count(logical=False))\n",
    "torch.get_num_threads()"
   ]
  },
  {
   "cell_type": "code",
   "execution_count": null,
   "id": "6321f34e-7a71-48ac-a914-d7c1758e5fcd",
   "metadata": {
    "execution": {
     "iopub.status.busy": "2024-01-30T00:32:46.473983Z",
     "iopub.status.idle": "2024-01-30T00:32:46.474480Z",
     "shell.execute_reply": "2024-01-30T00:32:46.474253Z",
     "shell.execute_reply.started": "2024-01-30T00:32:46.474230Z"
    }
   },
   "outputs": [],
   "source": [
    "%%timeit\n",
    "cqy = qw @ qx"
   ]
  },
  {
   "cell_type": "code",
   "execution_count": null,
   "id": "44ccbb94-1231-44b4-b9db-c6ba947d19f8",
   "metadata": {
    "execution": {
     "iopub.status.busy": "2024-01-30T00:32:46.475903Z",
     "iopub.status.idle": "2024-01-30T00:32:46.476387Z",
     "shell.execute_reply": "2024-01-30T00:32:46.476176Z",
     "shell.execute_reply.started": "2024-01-30T00:32:46.476153Z"
    }
   },
   "outputs": [],
   "source": [
    "test_types = (torch.int64, torch.int32, torch.int16, torch.int8,\n",
    "        torch.float64, torch.float32, torch.float16, torch.bfloat16)\n",
    "works = []\n",
    "for device in ('cpu', 'cuda'):\n",
    "    for w_type in test_types: \n",
    "        for x_type in test_types:\n",
    "            w = torch.arange(6).reshape(2,3).to(dtype=w_type, device=device)\n",
    "            x = torch.arange(3).to(dtype=x_type, device=device)\n",
    "            try:\n",
    "                y = w @ x\n",
    "            except RuntimeError as e:\n",
    "                print(f\"{w_type=}, {x_type=}: {e}\")\n",
    "            else:\n",
    "                print(f\"{w_type=}, {x_type=}: {y}\")\n",
    "                works.append((device, w_type, x_type))\n",
    "print(f\"{works}\")"
   ]
  },
  {
   "cell_type": "code",
   "execution_count": null,
   "id": "8748d16e-07ab-4eaf-88be-2dc090dc3966",
   "metadata": {
    "execution": {
     "iopub.status.busy": "2024-01-30T00:32:46.477801Z",
     "iopub.status.idle": "2024-01-30T00:32:46.478277Z",
     "shell.execute_reply": "2024-01-30T00:32:46.478071Z",
     "shell.execute_reply.started": "2024-01-30T00:32:46.478048Z"
    }
   },
   "outputs": [],
   "source": [
    "sorted(works)"
   ]
  },
  {
   "cell_type": "code",
   "execution_count": null,
   "id": "22c1ad0f-abd6-46e7-851a-87f70344f04b",
   "metadata": {
    "execution": {
     "iopub.status.busy": "2024-01-30T00:32:46.479781Z",
     "iopub.status.idle": "2024-01-30T00:32:46.480447Z",
     "shell.execute_reply": "2024-01-30T00:32:46.480233Z",
     "shell.execute_reply.started": "2024-01-30T00:32:46.480211Z"
    }
   },
   "outputs": [],
   "source": [
    "torch.__version__"
   ]
  },
  {
   "cell_type": "code",
   "execution_count": null,
   "id": "15d6d7a2-a6dc-40d3-af5d-6fd025cdbb52",
   "metadata": {},
   "outputs": [],
   "source": []
  },
  {
   "cell_type": "code",
   "execution_count": null,
   "id": "7a50b783-adc9-4eed-bbbd-c0c92a5af01c",
   "metadata": {
    "execution": {
     "iopub.status.busy": "2024-01-30T00:32:46.481556Z",
     "iopub.status.idle": "2024-01-30T00:32:46.482036Z",
     "shell.execute_reply": "2024-01-30T00:32:46.481827Z",
     "shell.execute_reply.started": "2024-01-30T00:32:46.481804Z"
    }
   },
   "outputs": [],
   "source": [
    "#Chat4:\n",
    "import struct\n",
    "\n",
    "def float_to_binary(num):\n",
    "    # Convert a float to a 32-bit binary string\n",
    "    # First, pack the float into 4 bytes using IEEE 754 format\n",
    "    packed = struct.pack('f', num)\n",
    "    \n",
    "    # Then, unpack those bytes into an integer\n",
    "    [integer_representation] = struct.unpack('I', packed)\n",
    "    \n",
    "    # Finally, format the integer as a 32-bit binary string\n",
    "    return format(integer_representation, '032b')\n",
    "\n",
    "# Example usage\n",
    "float_num = 1.2345\n",
    "binary_representation = float_to_binary(float_num)\n",
    "print(binary_representation)"
   ]
  },
  {
   "cell_type": "markdown",
   "id": "2f6cf405-e0f1-482b-b312-efae5cea5c83",
   "metadata": {},
   "source": [
    "### Pluck out a 2-d weight"
   ]
  },
  {
   "cell_type": "code",
   "execution_count": null,
   "id": "db47e3e1-9ced-4bed-9d28-be9ad57355ac",
   "metadata": {
    "execution": {
     "iopub.status.busy": "2024-01-30T00:32:46.483458Z",
     "iopub.status.idle": "2024-01-30T00:32:46.483969Z",
     "shell.execute_reply": "2024-01-30T00:32:46.483746Z",
     "shell.execute_reply.started": "2024-01-30T00:32:46.483723Z"
    }
   },
   "outputs": [],
   "source": [
    "def about(in_x):\n",
    "    x = in_x.to(torch.float64)\n",
    "    print(f\"{x.shape}, {in_x.dtype}, ({x.max()}, {x.mean()}, {x.min()}), {(x*x).mean(dtype=torch.float32):.3e}\")\n",
    "    #print(f\"{(x*x).sum(dtype=torch.float32):.3e}, {x.norm():.3e}, {torch.linalg.vector_norm(x):.3e}, {(x.to(dtype=torch.float64)*x.to(dtype=torch.float64)).sum(dtype=torch.float64):.3e}\")"
   ]
  },
  {
   "cell_type": "code",
   "execution_count": null,
   "id": "7691debe-16bb-41f3-a107-0f3f749ea216",
   "metadata": {
    "execution": {
     "iopub.status.busy": "2024-01-30T00:32:46.485370Z",
     "iopub.status.idle": "2024-01-30T00:32:46.485868Z",
     "shell.execute_reply": "2024-01-30T00:32:46.485651Z",
     "shell.execute_reply.started": "2024-01-30T00:32:46.485628Z"
    }
   },
   "outputs": [],
   "source": [
    "#w = model.transformer.h[0].attn.c_attn.weight\n",
    "w = model.transformer.h[0].mlp.c_fc.weight\n",
    "w.requires_grad = False\n",
    "about(w)"
   ]
  },
  {
   "cell_type": "markdown",
   "id": "03f6e68d-efbc-488a-8220-f55d5391cbfc",
   "metadata": {},
   "source": [
    "Make a pretend input to the layer:"
   ]
  },
  {
   "cell_type": "code",
   "execution_count": null,
   "id": "56d5bf2a-66e0-4589-a00e-e245b6ee9ed0",
   "metadata": {
    "execution": {
     "iopub.status.busy": "2024-01-30T00:32:46.487317Z",
     "iopub.status.idle": "2024-01-30T00:32:46.487830Z",
     "shell.execute_reply": "2024-01-30T00:32:46.487623Z",
     "shell.execute_reply.started": "2024-01-30T00:32:46.487600Z"
    }
   },
   "outputs": [],
   "source": [
    "x = torch.randn(768)\n",
    "about(x)"
   ]
  },
  {
   "cell_type": "markdown",
   "id": "3aa9d50f-66cb-41e2-8bbf-4a0097a58a2c",
   "metadata": {},
   "source": [
    "Calculate the output in model-native float32:"
   ]
  },
  {
   "cell_type": "code",
   "execution_count": null,
   "id": "276c419e-abed-485a-b867-2a76311bbcfb",
   "metadata": {
    "execution": {
     "iopub.status.busy": "2024-01-30T00:32:46.489252Z",
     "iopub.status.idle": "2024-01-30T00:32:46.489745Z",
     "shell.execute_reply": "2024-01-30T00:32:46.489538Z",
     "shell.execute_reply.started": "2024-01-30T00:32:46.489515Z"
    }
   },
   "outputs": [],
   "source": [
    "y =  w @ x\n",
    "about(y)"
   ]
  },
  {
   "cell_type": "code",
   "execution_count": null,
   "id": "7ee7d025-3e5f-485c-853c-a07d25518b9f",
   "metadata": {},
   "outputs": [],
   "source": []
  }
 ],
 "metadata": {
  "kernelspec": {
   "display_name": "Python 3 (ipykernel)",
   "language": "python",
   "name": "python3"
  },
  "language_info": {
   "codemirror_mode": {
    "name": "ipython",
    "version": 3
   },
   "file_extension": ".py",
   "mimetype": "text/x-python",
   "name": "python",
   "nbconvert_exporter": "python",
   "pygments_lexer": "ipython3",
   "version": "3.10.11"
  }
 },
 "nbformat": 4,
 "nbformat_minor": 5
}
