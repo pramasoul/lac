{
 "cells": [
  {
   "cell_type": "code",
   "execution_count": 2,
   "id": "0ee87dd5-5395-4ce3-9c70-3c68a280e7e3",
   "metadata": {
    "execution": {
     "iopub.execute_input": "2024-01-15T01:09:24.217199Z",
     "iopub.status.busy": "2024-01-15T01:09:24.216728Z",
     "iopub.status.idle": "2024-01-15T01:09:25.976711Z",
     "shell.execute_reply": "2024-01-15T01:09:25.975890Z",
     "shell.execute_reply.started": "2024-01-15T01:09:24.217150Z"
    }
   },
   "outputs": [],
   "source": [
    "import numpy as np\n",
    "import torch\n",
    "from pathlib import Path\n",
    "from transformers import AutoTokenizer"
   ]
  },
  {
   "cell_type": "code",
   "execution_count": 3,
   "id": "1345ce6c-de55-4c48-9ad6-51d80b25e6d0",
   "metadata": {
    "execution": {
     "iopub.execute_input": "2024-01-15T01:09:26.558367Z",
     "iopub.status.busy": "2024-01-15T01:09:26.558022Z",
     "iopub.status.idle": "2024-01-15T01:09:26.564416Z",
     "shell.execute_reply": "2024-01-15T01:09:26.563533Z",
     "shell.execute_reply.started": "2024-01-15T01:09:26.558341Z"
    }
   },
   "outputs": [],
   "source": [
    "a_log_dir = Path(\"~/tmp/F/\").expanduser().resolve()\n",
    "b_log_dir = Path(\"koi/F/\").expanduser().resolve()\n",
    "#log_dir = Path(\".\").expanduser().resolve()\n",
    "#log_dir = Path(\"~/tmp/AC/\").expanduser().resolve()\n",
    "a_logits_mnal = a_log_dir / \"logits.mnal\"\n",
    "a_idx_mnal = a_log_dir / \"idx.mnal\""
   ]
  },
  {
   "cell_type": "code",
   "execution_count": 5,
   "id": "79287616-65f6-4a2d-bf0b-9d5beb0ded13",
   "metadata": {
    "execution": {
     "iopub.execute_input": "2024-01-15T01:09:36.683239Z",
     "iopub.status.busy": "2024-01-15T01:09:36.682707Z",
     "iopub.status.idle": "2024-01-15T01:09:36.695006Z",
     "shell.execute_reply": "2024-01-15T01:09:36.694156Z",
     "shell.execute_reply.started": "2024-01-15T01:09:36.683187Z"
    }
   },
   "outputs": [],
   "source": [
    "class RunLog:\n",
    "    def __init__(self, log_dir, logits_width=50304):\n",
    "        self.log_dir = log_dir\n",
    "        self.logits_width = logits_width\n",
    "        self.logits_mnal = log_dir / \"logits.mnal\"\n",
    "        self.idx_mnal = log_dir / \"idx.mnal\"\n",
    "        self.idx_dtype = np.dtype('int64')\n",
    "        self.length, rem = divmod(self.idx_mnal.stat().st_size, self.idx_dtype.itemsize)\n",
    "        assert rem==0, \"Weird length idx\"\n",
    "        self.logits_bytes_size, rem = divmod(self.logits_mnal.stat().st_size, self.length)\n",
    "        assert rem==0, \"Weird length logits\"\n",
    "        self.logits_itemsize, rem = divmod(self.logits_bytes_size, self.logits_width)\n",
    "        assert rem==0, \"Weird logits_bytes_size\"\n",
    "        self.logits_dtype = np.dtype(('float0', \n",
    "                                      'float8',\n",
    "                                      'float16',\n",
    "                                      'float24',\n",
    "                                      'float32')[self.logits_itemsize])\n",
    "        self.logits_stack = np.memmap(self.logits_mnal,\n",
    "                                      self.logits_dtype,\n",
    "                                      'r',\n",
    "                                      shape=(self.length, self.logits_width)).squeeze()\n",
    "        self.idx_stack = np.memmap(self.idx_mnal,\n",
    "                                   self.idx_dtype,\n",
    "                                   'r',\n",
    "                                    shape=(self.length,)).squeeze()\n"
   ]
  },
  {
   "cell_type": "code",
   "execution_count": 6,
   "id": "00baba9f-a90c-4352-b31f-69bf93ac5563",
   "metadata": {
    "execution": {
     "iopub.execute_input": "2024-01-15T01:09:37.857207Z",
     "iopub.status.busy": "2024-01-15T01:09:37.856702Z",
     "iopub.status.idle": "2024-01-15T01:09:37.873006Z",
     "shell.execute_reply": "2024-01-15T01:09:37.871991Z",
     "shell.execute_reply.started": "2024-01-15T01:09:37.857156Z"
    }
   },
   "outputs": [
    {
     "data": {
      "text/plain": [
       "(131072, 50304, 2, dtype('float16'), (131072, 50304), (131072,))"
      ]
     },
     "execution_count": 6,
     "metadata": {},
     "output_type": "execute_result"
    }
   ],
   "source": [
    "srl = RunLog(Path(\"~/tmp/F/\").expanduser().resolve())\n",
    "srl.length, srl.logits_width, srl.logits_itemsize, srl.logits_dtype, srl.logits_stack.shape, srl.idx_stack.shape"
   ]
  },
  {
   "cell_type": "code",
   "execution_count": 7,
   "id": "954969a0-341c-4205-9d99-0bd6f5a1dd51",
   "metadata": {
    "execution": {
     "iopub.execute_input": "2024-01-15T01:09:38.839376Z",
     "iopub.status.busy": "2024-01-15T01:09:38.838924Z",
     "iopub.status.idle": "2024-01-15T01:09:38.849793Z",
     "shell.execute_reply": "2024-01-15T01:09:38.849104Z",
     "shell.execute_reply.started": "2024-01-15T01:09:38.839335Z"
    }
   },
   "outputs": [
    {
     "data": {
      "text/plain": [
       "(131072, 50304, 2, dtype('float16'), (131072, 50304), (131072,))"
      ]
     },
     "execution_count": 7,
     "metadata": {},
     "output_type": "execute_result"
    }
   ],
   "source": [
    "krl = RunLog(Path(\"koi/F/\").expanduser().resolve())\n",
    "krl.length, krl.logits_width, krl.logits_itemsize, krl.logits_dtype, krl.logits_stack.shape, krl.idx_stack.shape"
   ]
  },
  {
   "cell_type": "code",
   "execution_count": 8,
   "id": "ad469b1d-a28b-4b9b-8278-62b65db28550",
   "metadata": {
    "execution": {
     "iopub.execute_input": "2024-01-15T01:09:40.875394Z",
     "iopub.status.busy": "2024-01-15T01:09:40.874788Z",
     "iopub.status.idle": "2024-01-15T01:09:40.884853Z",
     "shell.execute_reply": "2024-01-15T01:09:40.883207Z",
     "shell.execute_reply.started": "2024-01-15T01:09:40.875338Z"
    }
   },
   "outputs": [
    {
     "data": {
      "text/plain": [
       "(131072, 50304)"
      ]
     },
     "execution_count": 8,
     "metadata": {},
     "output_type": "execute_result"
    }
   ],
   "source": [
    "a = srl.logits_stack\n",
    "a.shape"
   ]
  },
  {
   "cell_type": "code",
   "execution_count": 16,
   "id": "73c12623-7fc0-4b6d-beb3-1d0d2fb17dc7",
   "metadata": {
    "execution": {
     "iopub.execute_input": "2024-01-15T01:13:48.527562Z",
     "iopub.status.busy": "2024-01-15T01:13:48.526815Z",
     "iopub.status.idle": "2024-01-15T01:14:22.764945Z",
     "shell.execute_reply": "2024-01-15T01:14:22.763840Z",
     "shell.execute_reply.started": "2024-01-15T01:13:48.527504Z"
    }
   },
   "outputs": [
    {
     "name": "stdout",
     "output_type": "stream",
     "text": [
      "First row where all elements are zero: 114255\n"
     ]
    }
   ],
   "source": [
    "# Iterate through each column and check if all elements are zero\n",
    "for i in range(a.shape[0]):\n",
    "    if np.all(a[i] == 0.0):\n",
    "        first_all_zero_row = i\n",
    "        break\n",
    "else:\n",
    "    # This block executes if no column with all zeros is found\n",
    "    first_all_zero_row = None\n",
    "\n",
    "if first_all_zero_row is not None:\n",
    "    print(\"First row where all elements are zero:\", first_all_zero_row)\n",
    "else:\n",
    "    print(\"No row with all elements zero found\")"
   ]
  },
  {
   "cell_type": "code",
   "execution_count": 14,
   "id": "6e7e9486-4b0d-4456-b21e-495f277fb6b6",
   "metadata": {
    "execution": {
     "iopub.execute_input": "2024-01-15T01:12:14.729947Z",
     "iopub.status.busy": "2024-01-15T01:12:14.729390Z",
     "iopub.status.idle": "2024-01-15T01:12:14.738377Z",
     "shell.execute_reply": "2024-01-15T01:12:14.737273Z",
     "shell.execute_reply.started": "2024-01-15T01:12:14.729895Z"
    }
   },
   "outputs": [
    {
     "data": {
      "text/plain": [
       "True"
      ]
     },
     "execution_count": 14,
     "metadata": {},
     "output_type": "execute_result"
    }
   ],
   "source": [
    "np.all(a[-1] == 0.0)"
   ]
  },
  {
   "cell_type": "code",
   "execution_count": 33,
   "id": "0273d847-23bd-4b57-84e1-79ca545de5c5",
   "metadata": {
    "execution": {
     "iopub.execute_input": "2024-01-12T05:58:19.359205Z",
     "iopub.status.busy": "2024-01-12T05:58:19.358598Z",
     "iopub.status.idle": "2024-01-12T05:58:19.458981Z",
     "shell.execute_reply": "2024-01-12T05:58:19.457975Z",
     "shell.execute_reply.started": "2024-01-12T05:58:19.359161Z"
    }
   },
   "outputs": [
    {
     "data": {
      "text/plain": [
       "(True, False)"
      ]
     },
     "execution_count": 33,
     "metadata": {},
     "output_type": "execute_result"
    }
   ],
   "source": [
    "np.all(srl.idx_stack == krl.idx_stack), np.allclose(srl.logits_stack[:10], krl.logits_stack[:10])"
   ]
  },
  {
   "cell_type": "code",
   "execution_count": 105,
   "id": "47b6387d-26b9-4041-951c-28e81a6218d9",
   "metadata": {
    "execution": {
     "iopub.execute_input": "2024-01-12T20:34:05.918494Z",
     "iopub.status.busy": "2024-01-12T20:34:05.918030Z",
     "iopub.status.idle": "2024-01-12T20:34:05.927384Z",
     "shell.execute_reply": "2024-01-12T20:34:05.926281Z",
     "shell.execute_reply.started": "2024-01-12T20:34:05.918446Z"
    }
   },
   "outputs": [
    {
     "data": {
      "text/plain": [
       "((131072, 50304),\n",
       " memmap([[ 6.848 , 12.81  ,  8.74  , ..., -6.777 , -6.777 , -6.777 ],\n",
       "         [ 1.686 ,  0.89  ,  4.3   , ..., -3.508 , -3.508 , -3.506 ],\n",
       "         [-0.8223, -0.3289,  0.9033, ..., -2.62  , -2.62  , -2.617 ],\n",
       "         ...,\n",
       "         [ 0.    ,  0.    ,  0.    , ...,  0.    ,  0.    ,  0.    ],\n",
       "         [ 0.    ,  0.    ,  0.    , ...,  0.    ,  0.    ,  0.    ],\n",
       "         [ 0.    ,  0.    ,  0.    , ...,  0.    ,  0.    ,  0.    ]],\n",
       "        dtype=float16))"
      ]
     },
     "execution_count": 105,
     "metadata": {},
     "output_type": "execute_result"
    }
   ],
   "source": [
    "srl.logits_stack.shape, srl.logits_stack"
   ]
  },
  {
   "cell_type": "code",
   "execution_count": 217,
   "id": "fa214d54-1327-4429-87fc-2f5f38f46a9a",
   "metadata": {
    "execution": {
     "iopub.execute_input": "2024-01-13T19:23:22.439696Z",
     "iopub.status.busy": "2024-01-13T19:23:22.439064Z",
     "iopub.status.idle": "2024-01-13T19:23:22.447278Z",
     "shell.execute_reply": "2024-01-13T19:23:22.445979Z",
     "shell.execute_reply.started": "2024-01-13T19:23:22.439644Z"
    }
   },
   "outputs": [],
   "source": [
    "def quantize(v,q=qw):\n",
    "    vmax = np.max(v)\n",
    "    norm = np.log(np.sum(np.exp(v-vmax))) + vmax\n",
    "    v = v - norm + clip_logits\n",
    "    v = v*(v>0)\n",
    "    #v = np.log1p(v)\n",
    "    return np.round(v/q)"
   ]
  },
  {
   "cell_type": "code",
   "execution_count": 234,
   "id": "a783b951-a960-4e34-aeae-145aac5f57bf",
   "metadata": {
    "execution": {
     "iopub.execute_input": "2024-01-13T19:29:55.668964Z",
     "iopub.status.busy": "2024-01-13T19:29:55.668421Z",
     "iopub.status.idle": "2024-01-13T19:29:55.676948Z",
     "shell.execute_reply": "2024-01-13T19:29:55.675511Z",
     "shell.execute_reply.started": "2024-01-13T19:29:55.668906Z"
    }
   },
   "outputs": [],
   "source": [
    "def relate(a, b):\n",
    "    return (np.max(a), np.max(b)), (np.max(a-b), np.min(a-b)) #), (np.max(a/b), np.min(a/b)), np.max(np.abs((a-b) / (np.abs(a) + np.abs(b))))"
   ]
  },
  {
   "cell_type": "code",
   "execution_count": 235,
   "id": "4c14afa4-8d5b-4da8-8723-a109425e1559",
   "metadata": {
    "execution": {
     "iopub.execute_input": "2024-01-13T19:29:56.938075Z",
     "iopub.status.busy": "2024-01-13T19:29:56.937706Z",
     "iopub.status.idle": "2024-01-13T19:29:56.947570Z",
     "shell.execute_reply": "2024-01-13T19:29:56.946799Z",
     "shell.execute_reply.started": "2024-01-13T19:29:56.938047Z"
    }
   },
   "outputs": [
    {
     "data": {
      "text/plain": [
       "((16.3, 16.28), (0.01563, -0.03516))"
      ]
     },
     "execution_count": 235,
     "metadata": {},
     "output_type": "execute_result"
    }
   ],
   "source": [
    "relate(srl.logits_stack[0], krl.logits_stack[0])"
   ]
  },
  {
   "cell_type": "code",
   "execution_count": 239,
   "id": "44dd1ae1-401f-437e-b63c-fdaa8abed00c",
   "metadata": {
    "execution": {
     "iopub.execute_input": "2024-01-13T19:31:11.246269Z",
     "iopub.status.busy": "2024-01-13T19:31:11.245786Z",
     "iopub.status.idle": "2024-01-13T19:31:11.291024Z",
     "shell.execute_reply": "2024-01-13T19:31:11.290214Z",
     "shell.execute_reply.started": "2024-01-13T19:31:11.246220Z"
    }
   },
   "outputs": [
    {
     "data": {
      "text/plain": [
       "((15.0, 15.0), (0.0, -1.0))"
      ]
     },
     "execution_count": 239,
     "metadata": {},
     "output_type": "execute_result"
    }
   ],
   "source": [
    "relate(quantize(srl.logits_stack[0], 1.0), quantize(krl.logits_stack[0], 1.0))"
   ]
  },
  {
   "cell_type": "code",
   "execution_count": 220,
   "id": "61aeb211-a364-4827-9977-9a2bf16f6fb3",
   "metadata": {
    "execution": {
     "iopub.execute_input": "2024-01-13T19:23:24.521594Z",
     "iopub.status.busy": "2024-01-13T19:23:24.520964Z",
     "iopub.status.idle": "2024-01-13T19:23:24.531284Z",
     "shell.execute_reply": "2024-01-13T19:23:24.530091Z",
     "shell.execute_reply.started": "2024-01-13T19:23:24.521542Z"
    },
    "jupyter": {
     "source_hidden": true
    }
   },
   "outputs": [
    {
     "name": "stdout",
     "output_type": "stream",
     "text": [
      "[1.199 2.398 3.398]\n"
     ]
    }
   ],
   "source": [
    "#Chat4:\n",
    "def quantize_array(arr, quantization_width):\n",
    "    \"\"\"\n",
    "    Quantize a numpy array by a specified quantization width.\n",
    "\n",
    "    Parameters:\n",
    "    arr (numpy.ndarray): The array to quantize.\n",
    "    quantization_width (float): The width of each quantization level.\n",
    "\n",
    "    Returns:\n",
    "    numpy.ndarray: The quantized array.\n",
    "    \"\"\"\n",
    "    quantized = np.round(arr / quantization_width) * quantization_width\n",
    "    return quantized.astype(np.float16)\n",
    "\n",
    "# Example usage\n",
    "array = np.array([1.25, 2.35, 3.45], dtype=np.float16)\n",
    "quantization_width = 0.1\n",
    "\n",
    "quantized_array = quantize_array(array, quantization_width)\n",
    "print(quantized_array)"
   ]
  },
  {
   "cell_type": "code",
   "execution_count": 221,
   "id": "0bab5d5c-726f-46b3-b3f8-d10100b60ba3",
   "metadata": {
    "execution": {
     "iopub.execute_input": "2024-01-13T19:23:24.821865Z",
     "iopub.status.busy": "2024-01-13T19:23:24.821374Z",
     "iopub.status.idle": "2024-01-13T19:23:24.839599Z",
     "shell.execute_reply": "2024-01-13T19:23:24.838570Z",
     "shell.execute_reply.started": "2024-01-13T19:23:24.821815Z"
    }
   },
   "outputs": [
    {
     "data": {
      "text/plain": [
       "(0.04688, -0.0625)"
      ]
     },
     "execution_count": 221,
     "metadata": {},
     "output_type": "execute_result"
    }
   ],
   "source": [
    "qw = 0.03\n",
    "sq, kq = quantize_array(srl.logits_stack[0], qw), quantize_array(krl.logits_stack[0], qw)\n",
    "np.max(sq-kq), np.min(sq-kq)"
   ]
  },
  {
   "cell_type": "code",
   "execution_count": 222,
   "id": "d11c3552-8ce9-4324-8353-fa2cd627b789",
   "metadata": {
    "execution": {
     "iopub.execute_input": "2024-01-13T19:23:25.493752Z",
     "iopub.status.busy": "2024-01-13T19:23:25.493350Z",
     "iopub.status.idle": "2024-01-13T19:23:26.591773Z",
     "shell.execute_reply": "2024-01-13T19:23:26.590571Z",
     "shell.execute_reply.started": "2024-01-13T19:23:25.493717Z"
    },
    "jp-MarkdownHeadingCollapsed": true
   },
   "outputs": [
    {
     "data": {
      "image/png": "[encoded data removed]",
      "text/plain": [
       "<Figure size 640x480 with 1 Axes>"
      ]
     },
     "metadata": {},
     "output_type": "display_data"
    },
    {
     "name": "stdout",
     "output_type": "stream",
     "text": [
      "0.9925072227523325\n"
     ]
    }
   ],
   "source": [
    "qw = 0.1\n",
    "sample_span = list(range(1024,1032))\n",
    "ssamp, ksamp = srl.logits_stack[sample_span].flatten(), krl.logits_stack[sample_span].flatten()\n",
    "sq, kq = np.round(ssamp / qw), np.round(ksamp / qw)\n",
    "np.max(sq-kq), np.min(sq-kq), np.min(np.abs(ssamp/qw - sq))\n",
    "\n",
    "import numpy as np\n",
    "import matplotlib.pyplot as plt\n",
    "\n",
    "def hist_plt(data, notch=None):\n",
    "    # Determine the range of your data\n",
    "    min_val = data.min()\n",
    "    max_val = data.max()\n",
    "    if notch is not None:\n",
    "        data = data[data!=notch]\n",
    "        \n",
    "    # Create bins for each integer value\n",
    "    # We add 1 to max_val to ensure the last bin is included\n",
    "    bins = np.arange(min_val, max_val + 2) - 0.5\n",
    "    \n",
    "    # Plotting the histogram\n",
    "    #plt.hist(data[data!=0], bins=bins, edgecolor='black')\n",
    "    plt.hist(data, bins=bins, edgecolor='black')\n",
    "    \n",
    "    # Setting the labels and title\n",
    "    plt.xlabel('Integer Value')\n",
    "    plt.ylabel('Frequency')\n",
    "    plt.title('Exact Histogram of Integer Values')\n",
    "    \n",
    "    # Show the plot\n",
    "    plt.show()\n",
    "\n",
    "hist_plt(sq)\n",
    "print((np.sum((data==0)*1.0)/len(data)))"
   ]
  },
  {
   "cell_type": "code",
   "execution_count": 223,
   "id": "0d5632c0-5517-46fe-b298-6773f14cc183",
   "metadata": {
    "execution": {
     "iopub.execute_input": "2024-01-13T19:23:27.422015Z",
     "iopub.status.busy": "2024-01-13T19:23:27.421516Z",
     "iopub.status.idle": "2024-01-13T19:23:27.822060Z",
     "shell.execute_reply": "2024-01-13T19:23:27.821257Z",
     "shell.execute_reply.started": "2024-01-13T19:23:27.421981Z"
    },
    "jp-MarkdownHeadingCollapsed": true
   },
   "outputs": [
    {
     "data": {
      "image/png": "[encoded data removed]",
      "text/plain": [
       "<Figure size 640x480 with 1 Axes>"
      ]
     },
     "metadata": {},
     "output_type": "display_data"
    },
    {
     "name": "stdout",
     "output_type": "stream",
     "text": [
      "0.0\n"
     ]
    }
   ],
   "source": [
    "qw = 0.1\n",
    "sample_span = [12345]\n",
    "ssamp, ksamp = srl.logits_stack[sample_span].flatten(), krl.logits_stack[sample_span].flatten()\n",
    "sq, kq = np.round(ssamp / qw), np.round(ksamp / qw)\n",
    "np.max(sq-kq), np.min(sq-kq), np.min(np.abs(ssamp/qw - sq))\n",
    "\n",
    "import numpy as np\n",
    "import matplotlib.pyplot as plt\n",
    "\n",
    "data = ssamp\n",
    "\n",
    "# Determine the range of your data\n",
    "min_val = data.min()\n",
    "max_val = data.max()\n",
    "\n",
    "# Create bins for each integer value\n",
    "# We add 1 to max_val to ensure the last bin is included\n",
    "bins = np.arange(min_val, max_val + 2) - 0.5\n",
    "\n",
    "# Plotting the histogram\n",
    "#plt.hist(data[data!=0], bins=bins, edgecolor='black')\n",
    "#plt.plot(np.sort(data))\n",
    "plt.plot((ssamp-ksamp)[np.argsort(ssamp)])\n",
    "\n",
    "# Setting the labels and title\n",
    "#plt.xlabel('Integer Value')\n",
    "#plt.ylabel('Frequency')\n",
    "#plt.title('Exact Histogram of Integer Values')\n",
    "\n",
    "# Show the plot\n",
    "plt.show()\n",
    "\n",
    "print((np.sum((data==0)*1.0)/len(data)))"
   ]
  },
  {
   "cell_type": "code",
   "execution_count": 224,
   "id": "d6d43a42-f215-4017-9d55-c504ed60da71",
   "metadata": {
    "execution": {
     "iopub.execute_input": "2024-01-13T19:23:29.421942Z",
     "iopub.status.busy": "2024-01-13T19:23:29.421405Z",
     "iopub.status.idle": "2024-01-13T19:23:30.130751Z",
     "shell.execute_reply": "2024-01-13T19:23:30.129921Z",
     "shell.execute_reply.started": "2024-01-13T19:23:29.421895Z"
    }
   },
   "outputs": [
    {
     "name": "stdout",
     "output_type": "stream",
     "text": [
      "\n"
     ]
    }
   ],
   "source": [
    "eot_ix = np.argmax(srl.idx_stack)\n",
    "tokenizer = AutoTokenizer.from_pretrained(\"gpt2\")\n",
    "tok2str = lambda x: tokenizer.convert_tokens_to_string(tokenizer.convert_ids_to_tokens(x))\n",
    "s = tok2str(srl.idx_stack[0:eot_ix])\n",
    "print(s[2000:000])"
   ]
  },
  {
   "cell_type": "code",
   "execution_count": 225,
   "id": "ab3c2c3e-22bd-4316-bd24-b790b06474a5",
   "metadata": {
    "execution": {
     "iopub.execute_input": "2024-01-13T19:23:37.106492Z",
     "iopub.status.busy": "2024-01-13T19:23:37.105823Z",
     "iopub.status.idle": "2024-01-13T19:23:37.137059Z",
     "shell.execute_reply": "2024-01-13T19:23:37.135248Z",
     "shell.execute_reply.started": "2024-01-13T19:23:37.106431Z"
    }
   },
   "outputs": [
    {
     "ename": "NameError",
     "evalue": "name 'logits_stack' is not defined",
     "output_type": "error",
     "traceback": [
      "\u001b[0;31m---------------------------------------------------------------------------\u001b[0m",
      "\u001b[0;31mNameError\u001b[0m                                 Traceback (most recent call last)",
      "Cell \u001b[0;32mIn[225], line 1\u001b[0m\n\u001b[0;32m----> 1\u001b[0m np\u001b[38;5;241m.\u001b[39margmax(\u001b[43mlogits_stack\u001b[49m[\u001b[38;5;241m0\u001b[39m:eot_ix\u001b[38;5;241m+\u001b[39m\u001b[38;5;241m3\u001b[39m], axis\u001b[38;5;241m=\u001b[39m\u001b[38;5;241m1\u001b[39m)\n",
      "\u001b[0;31mNameError\u001b[0m: name 'logits_stack' is not defined"
     ]
    }
   ],
   "source": [
    "np.argmax(logits_stack[0:eot_ix+3], axis=1)"
   ]
  },
  {
   "cell_type": "code",
   "execution_count": 226,
   "id": "8a7f3b75-ff13-45d1-9708-0866d3fa82fc",
   "metadata": {
    "execution": {
     "iopub.execute_input": "2024-01-13T19:23:46.091154Z",
     "iopub.status.busy": "2024-01-13T19:23:46.090452Z",
     "iopub.status.idle": "2024-01-13T19:23:46.121745Z",
     "shell.execute_reply": "2024-01-13T19:23:46.120275Z",
     "shell.execute_reply.started": "2024-01-13T19:23:46.091056Z"
    }
   },
   "outputs": [
    {
     "ename": "NameError",
     "evalue": "name 'logits_stack' is not defined",
     "output_type": "error",
     "traceback": [
      "\u001b[0;31m---------------------------------------------------------------------------\u001b[0m",
      "\u001b[0;31mNameError\u001b[0m                                 Traceback (most recent call last)",
      "Cell \u001b[0;32mIn[226], line 1\u001b[0m\n\u001b[0;32m----> 1\u001b[0m \u001b[38;5;28mprint\u001b[39m(tok2str(np\u001b[38;5;241m.\u001b[39margmax(\u001b[43mlogits_stack\u001b[49m[\u001b[38;5;241m0\u001b[39m:eot_ix], axis\u001b[38;5;241m=\u001b[39m\u001b[38;5;241m1\u001b[39m)))\n",
      "\u001b[0;31mNameError\u001b[0m: name 'logits_stack' is not defined"
     ]
    }
   ],
   "source": [
    "print(tok2str(np.argmax(logits_stack[0:eot_ix], axis=1)))"
   ]
  },
  {
   "cell_type": "code",
   "execution_count": null,
   "id": "fbe7e7c2-febc-4470-a461-1e7de5fccd9b",
   "metadata": {},
   "outputs": [],
   "source": [
    "np.max(logits_stack[0:eot_ix], axis=1)"
   ]
  },
  {
   "cell_type": "code",
   "execution_count": null,
   "id": "5c840169-b444-4956-b35e-1c042be33dfb",
   "metadata": {},
   "outputs": [],
   "source": [
    "np.mean(logits_stack[0:eot_ix], axis=1)"
   ]
  },
  {
   "cell_type": "code",
   "execution_count": 227,
   "id": "a50e17aa-dc7d-4d9d-b84d-db947286bfd0",
   "metadata": {
    "execution": {
     "iopub.execute_input": "2024-01-13T19:23:51.070046Z",
     "iopub.status.busy": "2024-01-13T19:23:51.069483Z",
     "iopub.status.idle": "2024-01-13T19:23:51.537042Z",
     "shell.execute_reply": "2024-01-13T19:23:51.536219Z",
     "shell.execute_reply.started": "2024-01-13T19:23:51.069995Z"
    }
   },
   "outputs": [
    {
     "data": {
      "image/png": "[encoded data removed]",
      "text/plain": [
       "<Figure size 640x480 with 1 Axes>"
      ]
     },
     "metadata": {},
     "output_type": "display_data"
    },
    {
     "name": "stdout",
     "output_type": "stream",
     "text": [
      "0.0\n",
      "left: 0.4506232108778626\n",
      "left prob: 0.9991753994538007\n",
      "bits penalty: 0.019034353899456076\n"
     ]
    }
   ],
   "source": [
    "qw = 0.3\n",
    "clip_logits = 16\n",
    "\n",
    "sample_span = list(range(1000,1060))\n",
    "ssamp, ksamp = np.array(srl.logits_stack[sample_span],dtype=np.float64), np.array(krl.logits_stack[sample_span],np.float64)\n",
    "#ssamp = np.log(np.exp(ssamp)/np.sum(np.exp(ssamp)))\n",
    "#ksamp = np.log(np.exp(ksamp)/np.sum(np.exp(ksamp)))\n",
    "nsamp = np.array([v-np.log(np.sum(np.exp(v))) for v in ssamp])\n",
    "\n",
    "sq, kq = tuple(np.array([quantize(v) for v in d]).flatten() for d in (ssamp,ksamp))\n",
    "#np.max(sq-kq), np.min(sq-kq), np.min(np.abs(ssamp/qw - sq))\n",
    "\n",
    "hist_plt(sq - kq, notch=0)\n",
    "\n",
    "print((np.sum((data==0)*1.0)/len(data)))\n",
    "print(\"left:\",np.sum((sq>0)*1)/len(sq))\n",
    "print(\"left prob:\",np.sum(np.exp(nsamp.flatten()[sq>0]))/len(nsamp))\n",
    "print(\"bits penalty:\",(1-np.sum(np.exp(nsamp.flatten()[sq>0]))/len(nsamp)) * clip_logits/np.log(2))\n"
   ]
  },
  {
   "cell_type": "code",
   "execution_count": 242,
   "id": "f8afd088-813b-41d5-ae57-20c162e5c7f3",
   "metadata": {
    "execution": {
     "iopub.execute_input": "2024-01-14T07:08:55.953393Z",
     "iopub.status.busy": "2024-01-14T07:08:55.952730Z",
     "iopub.status.idle": "2024-01-14T07:08:55.964049Z",
     "shell.execute_reply": "2024-01-14T07:08:55.962888Z",
     "shell.execute_reply.started": "2024-01-14T07:08:55.953336Z"
    }
   },
   "outputs": [
    {
     "data": {
      "text/plain": [
       "tensor([0, 1, 2])"
      ]
     },
     "execution_count": 242,
     "metadata": {},
     "output_type": "execute_result"
    }
   ],
   "source": [
    "torch.tensor(range(3))"
   ]
  },
  {
   "cell_type": "code",
   "execution_count": null,
   "id": "689f00f3-363d-4f64-a6ca-52443fff22c1",
   "metadata": {},
   "outputs": [],
   "source": [
    "torch.from_numpy"
   ]
  },
  {
   "cell_type": "code",
   "execution_count": null,
   "id": "4cabbf0c-0aa0-4763-bc7b-6b41334e5d31",
   "metadata": {},
   "outputs": [],
   "source": [
    "torch.ones_like"
   ]
  }
 ],
 "metadata": {
  "kernelspec": {
   "display_name": "Python 3 (ipykernel)",
   "language": "python",
   "name": "python3"
  },
  "language_info": {
   "codemirror_mode": {
    "name": "ipython",
    "version": 3
   },
   "file_extension": ".py",
   "mimetype": "text/x-python",
   "name": "python",
   "nbconvert_exporter": "python",
   "pygments_lexer": "ipython3",
   "version": "3.10.11"
  }
 },
 "nbformat": 4,
 "nbformat_minor": 5
}
